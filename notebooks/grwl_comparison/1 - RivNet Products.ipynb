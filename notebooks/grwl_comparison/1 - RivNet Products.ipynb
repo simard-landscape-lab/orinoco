{
 "cells": [
  {
   "cell_type": "code",
   "execution_count": 11,
   "metadata": {},
   "outputs": [],
   "source": [
    "import rasterio\n",
    "import matplotlib.pyplot as plt\n",
    "import numpy as np\n",
    "from pathlib import Path\n",
    "import networkx as nx\n",
    "from rivnet import (\n",
    "                    get_distance_along_river_using_fmm,\n",
    "                    get_distance_segments,\n",
    "                    get_undirected_river_network,\n",
    "                    direct_river_network_using_distance,\n",
    "                    export_edges_to_geodataframe,\n",
    "                    export_nodes_to_geodataframe,\n",
    "                    get_width_features_from_segments,\n",
    "                    add_widths_to_graph\n",
    "                    )\n",
    "from skimage.color import label2rgb\n",
    "import random\n",
    "from shapely.geometry import Point\n",
    "import geopandas as gpd\n",
    "from tqdm import tqdm"
   ]
  },
  {
   "cell_type": "markdown",
   "metadata": {},
   "source": [
    "# Initialize Paths for Data And Output"
   ]
  },
  {
   "cell_type": "code",
   "execution_count": 2,
   "metadata": {},
   "outputs": [],
   "source": [
    "out = Path('out')\n",
    "tiles = ['NH15', 'NH16', 'NR08']"
   ]
  },
  {
   "cell_type": "markdown",
   "metadata": {},
   "source": [
    "# Read Data"
   ]
  },
  {
   "cell_type": "code",
   "execution_count": 3,
   "metadata": {},
   "outputs": [],
   "source": [
    "def read_masks(tile_name):\n",
    "    with rasterio.open(out/f'{tile_name}/water_mask.tif') as ds:\n",
    "        water_mask = ds.read(1)\n",
    "    with rasterio.open(out/f'{tile_name}/ocean_mask.tif') as ds:\n",
    "        ocean_mask = ds.read(1)\n",
    "        profile = ds.profile\n",
    "    return water_mask, ocean_mask, profile"
   ]
  },
  {
   "cell_type": "code",
   "execution_count": 4,
   "metadata": {},
   "outputs": [],
   "source": [
    "w, o, p = read_masks(tiles[0])"
   ]
  },
  {
   "cell_type": "code",
   "execution_count": 5,
   "metadata": {},
   "outputs": [
    {
     "data": {
      "text/plain": [
       "<matplotlib.image.AxesImage at 0x7fc578162eb8>"
      ]
     },
     "execution_count": 5,
     "metadata": {},
     "output_type": "execute_result"
    },
    {
     "data": {
      "image/png": "[encoded data removed]",
      "text/plain": [
       "<Figure size 432x288 with 1 Axes>"
      ]
     },
     "metadata": {
      "needs_background": "light"
     },
     "output_type": "display_data"
    }
   ],
   "source": [
    "sy = np.s_[6500:7000]\n",
    "sx = np.s_[7400:7800]\n",
    "\n",
    "plt.imshow(w[sy, sx])"
   ]
  },
  {
   "cell_type": "markdown",
   "metadata": {},
   "source": [
    "# Make Products"
   ]
  },
  {
   "cell_type": "code",
   "execution_count": 25,
   "metadata": {},
   "outputs": [],
   "source": [
    "def generate_rivnet_products(tile_name):\n",
    "    \n",
    "    water_mask, ocean_mask, profile = read_masks(tile_name)\n",
    "    \n",
    "    transform = profile['transform']\n",
    "    dx, dy = transform.a, -transform.e\n",
    "    print('getting distance')\n",
    "    dist = get_distance_along_river_using_fmm(water_mask,\n",
    "                                              ocean_mask,\n",
    "                                              dx=dx,\n",
    "                                              dy=dy,\n",
    "                                              # removes areas with less than 2.5% of total size\n",
    "                                              area_threshold=.025\n",
    "                                              )\n",
    "\n",
    "\n",
    "    \n",
    "    print('getting segments')\n",
    "    pixel_step = 10\n",
    "    segments, interface_adj_segments = get_distance_segments(dist,\n",
    "                                                             pixel_step,\n",
    "                                                             dx=dx,\n",
    "                                                             dy=dy)\n",
    "    print('Generating undirected network')\n",
    "    rivG_undirected = get_undirected_river_network(segments, \n",
    "                                                   dist, \n",
    "                                                   profile, \n",
    "                                                   interface_adj_segments)\n",
    "    \n",
    "    print('directing network')\n",
    "    rivG = direct_river_network_using_distance(rivG_undirected, \n",
    "                                               remove_danlging_segments=True, \n",
    "                                               segment_threshold=3,\n",
    "                                               meters_to_interface_filter_buffer=1_000,\n",
    "                                               )\n",
    "\n",
    "    \n",
    "    print('adding widths')\n",
    "    width_features = get_width_features_from_segments(segments, profile)\n",
    "    rivG = add_widths_to_graph(rivG, width_features.ravel())\n",
    "    \n",
    "    return dist, segments, rivG, profile"
   ]
  },
  {
   "cell_type": "code",
   "execution_count": 13,
   "metadata": {},
   "outputs": [],
   "source": [
    "tile_name = tiles[0]"
   ]
  },
  {
   "cell_type": "code",
   "execution_count": 14,
   "metadata": {},
   "outputs": [
    {
     "name": "stdout",
     "output_type": "stream",
     "text": [
      "getting distance\n",
      "getting segments\n",
      "Generating undirected network\n"
     ]
    },
    {
     "name": "stderr",
     "output_type": "stream",
     "text": [
      "rag neighbors: 100%|██████████| 15079/15079 [00:02<00:00, 7068.19it/s]\n",
      "adding edges: 100%|██████████| 15078/15078 [00:00<00:00, 194288.60it/s]\n"
     ]
    },
    {
     "name": "stdout",
     "output_type": "stream",
     "text": [
      "directing network\n",
      "adding widths\n"
     ]
    }
   ],
   "source": [
    "dist, segments, rivG, profile = generate_rivnet_products(tile_name)"
   ]
  },
  {
   "cell_type": "code",
   "execution_count": 15,
   "metadata": {},
   "outputs": [],
   "source": [
    "# df_edges = export_edges_to_geodataframe(rivG)\n",
    "# df_edges.plot()"
   ]
  },
  {
   "cell_type": "code",
   "execution_count": 18,
   "metadata": {},
   "outputs": [],
   "source": [
    "def write_products(dist, segments, rivG, profile, tile_name):\n",
    "    out_tile = out/tile_name\n",
    "    out_tile.mkdir(exist_ok=True, parents=True)\n",
    "    p = profile.copy()\n",
    "    \n",
    "    p['dtype'] = 'float32'\n",
    "    with rasterio.open(out_tile/'distance.tif', 'w', **p) as ds:\n",
    "        ds.write(dist, 1)\n",
    "        \n",
    "    p['dtype'] = 'int32'\n",
    "    with rasterio.open(out_tile/'segments.tif', 'w', **p) as ds:\n",
    "        ds.write(segments, 1)\n",
    "    \n",
    "    df_edges = export_edges_to_geodataframe(rivG, profile)\n",
    "    df_nodes = export_nodes_to_geodataframe(rivG, profile)\n",
    "    \n",
    "    df_edges.to_file(out_tile/'rivnet_edges.geojson', driver='GeoJSON')\n",
    "    df_nodes.to_file(out_tile/'rivnet_nodes.geojson', driver='GeoJSON')\n",
    "    nx.write_gpickle(rivG, out_tile/'river_network.pkl')"
   ]
  },
  {
   "cell_type": "code",
   "execution_count": 19,
   "metadata": {},
   "outputs": [],
   "source": [
    "write_products(dist, segments, rivG, profile, tile_name)"
   ]
  },
  {
   "cell_type": "markdown",
   "metadata": {},
   "source": [
    "# Altogether"
   ]
  },
  {
   "cell_type": "code",
   "execution_count": 23,
   "metadata": {},
   "outputs": [],
   "source": [
    "def get_and_write_products(tile_name):\n",
    "    dist, segments, rivG, profile = generate_rivnet_products(tile_name)\n",
    "    print('writing products')\n",
    "    write_products(dist, segments, rivG, profile, tile_name)\n"
   ]
  },
  {
   "cell_type": "code",
   "execution_count": 26,
   "metadata": {},
   "outputs": [
    {
     "name": "stderr",
     "output_type": "stream",
     "text": [
      "\r",
      "  0%|          | 0/3 [00:00<?, ?it/s]"
     ]
    },
    {
     "name": "stdout",
     "output_type": "stream",
     "text": [
      "getting distance\n",
      "getting segments\n",
      "Generating undirected network\n"
     ]
    },
    {
     "name": "stderr",
     "output_type": "stream",
     "text": [
      "\n",
      "rag neighbors:   0%|          | 0/15079 [00:00<?, ?it/s]\u001b[A\n",
      "rag neighbors:   9%|▊         | 1303/15079 [00:00<00:01, 12981.82it/s]\u001b[A\n",
      "rag neighbors:  14%|█▍        | 2178/15079 [00:00<00:01, 11335.39it/s]\u001b[A\n",
      "rag neighbors:  20%|██        | 3066/15079 [00:00<00:01, 10466.09it/s]\u001b[A\n",
      "rag neighbors:  25%|██▍       | 3707/15079 [00:00<00:01, 8371.30it/s] \u001b[A\n",
      "rag neighbors:  29%|██▊       | 4327/15079 [00:00<00:01, 7298.15it/s]\u001b[A\n",
      "rag neighbors:  34%|███▍      | 5120/15079 [00:00<00:01, 7455.39it/s]\u001b[A\n",
      "rag neighbors:  38%|███▊      | 5778/15079 [00:00<00:01, 5971.04it/s]\u001b[A\n",
      "rag neighbors:  42%|████▏     | 6361/15079 [00:00<00:01, 5614.59it/s]\u001b[A\n",
      "rag neighbors:  46%|████▌     | 6917/15079 [00:01<00:01, 5511.49it/s]\u001b[A\n",
      "rag neighbors:  50%|████▉     | 7465/15079 [00:01<00:01, 5495.88it/s]\u001b[A\n",
      "rag neighbors:  57%|█████▋    | 8626/15079 [00:01<00:00, 6525.75it/s]\u001b[A\n",
      "rag neighbors:  62%|██████▏   | 9357/15079 [00:01<00:01, 4609.72it/s]\u001b[A\n",
      "rag neighbors:  71%|███████▏  | 10775/15079 [00:01<00:00, 5779.30it/s]\u001b[A\n",
      "rag neighbors:  82%|████████▏ | 12300/15079 [00:01<00:00, 7101.78it/s]\u001b[A\n",
      "rag neighbors:  89%|████████▉ | 13383/15079 [00:01<00:00, 7874.13it/s]\u001b[A\n",
      "rag neighbors:  96%|█████████▌| 14432/15079 [00:02<00:00, 5541.80it/s]\u001b[A\n",
      "rag neighbors: 100%|██████████| 15079/15079 [00:02<00:00, 6915.57it/s]\u001b[A\n",
      "adding edges:   0%|          | 0/15078 [00:00<?, ?it/s]\u001b[A\n",
      "adding edges: 100%|██████████| 15078/15078 [00:00<00:00, 184410.98it/s]\u001b[A"
     ]
    },
    {
     "name": "stdout",
     "output_type": "stream",
     "text": [
      "directing network\n",
      "adding widths\n",
      "writing products\n"
     ]
    },
    {
     "name": "stderr",
     "output_type": "stream",
     "text": [
      "\r",
      " 33%|███▎      | 1/3 [02:30<05:00, 150.26s/it]"
     ]
    },
    {
     "name": "stdout",
     "output_type": "stream",
     "text": [
      "getting distance\n",
      "getting segments\n",
      "Generating undirected network\n"
     ]
    },
    {
     "name": "stderr",
     "output_type": "stream",
     "text": [
      "\n",
      "rag neighbors:   0%|          | 0/11482 [00:00<?, ?it/s]\u001b[A\n",
      "rag neighbors:  10%|▉         | 1123/11482 [00:00<00:00, 11206.13it/s]\u001b[A\n",
      "rag neighbors:  21%|██▏       | 2452/11482 [00:00<00:00, 11758.44it/s]\u001b[A\n",
      "rag neighbors:  36%|███▋      | 4186/11482 [00:00<00:00, 13013.85it/s]\u001b[A\n",
      "rag neighbors:  52%|█████▏    | 5924/11482 [00:00<00:00, 14072.91it/s]\u001b[A\n",
      "rag neighbors:  64%|██████▍   | 7370/11482 [00:00<00:00, 14170.44it/s]\u001b[A\n",
      "rag neighbors:  75%|███████▌  | 8640/11482 [00:00<00:00, 13310.08it/s]\u001b[A\n",
      "rag neighbors:  88%|████████▊ | 10154/11482 [00:00<00:00, 13808.97it/s]\u001b[A\n",
      "rag neighbors: 100%|█████████▉| 11475/11482 [00:00<00:00, 13020.54it/s]\u001b[A\n",
      "rag neighbors: 100%|██████████| 11482/11482 [00:00<00:00, 13865.19it/s]\u001b[A\n",
      "adding edges:   0%|          | 0/11481 [00:00<?, ?it/s]\u001b[A\n",
      "adding edges: 100%|██████████| 11481/11481 [00:00<00:00, 171401.13it/s]\u001b[A"
     ]
    },
    {
     "name": "stdout",
     "output_type": "stream",
     "text": [
      "directing network\n",
      "adding widths\n",
      "writing products\n"
     ]
    },
    {
     "name": "stderr",
     "output_type": "stream",
     "text": [
      "\r",
      " 67%|██████▋   | 2/3 [04:52<02:27, 148.00s/it]"
     ]
    },
    {
     "name": "stdout",
     "output_type": "stream",
     "text": [
      "getting distance\n",
      "getting segments\n",
      "Generating undirected network\n"
     ]
    },
    {
     "name": "stderr",
     "output_type": "stream",
     "text": [
      "\n",
      "rag neighbors:   0%|          | 0/12122 [00:00<?, ?it/s]\u001b[A\n",
      "rag neighbors:  10%|▉         | 1158/12122 [00:00<00:00, 11574.22it/s]\u001b[A\n",
      "rag neighbors:  18%|█▊        | 2226/12122 [00:00<00:00, 11290.47it/s]\u001b[A\n",
      "rag neighbors:  26%|██▌       | 3115/12122 [00:00<00:00, 10422.48it/s]\u001b[A\n",
      "rag neighbors:  35%|███▌      | 4291/12122 [00:00<00:00, 10788.55it/s]\u001b[A\n",
      "rag neighbors:  47%|████▋     | 5681/12122 [00:00<00:00, 11564.59it/s]\u001b[A\n",
      "rag neighbors:  58%|█████▊    | 7079/12122 [00:00<00:00, 12195.09it/s]\u001b[A\n",
      "rag neighbors:  71%|███████   | 8582/12122 [00:00<00:00, 12925.40it/s]\u001b[A\n",
      "rag neighbors:  83%|████████▎ | 10121/12122 [00:00<00:00, 13572.86it/s]\u001b[A\n",
      "rag neighbors:  96%|█████████▌| 11639/12122 [00:00<00:00, 14017.71it/s]\u001b[A\n",
      "rag neighbors: 100%|██████████| 12122/12122 [00:00<00:00, 12971.85it/s]\u001b[A\n",
      "adding edges:   0%|          | 0/12121 [00:00<?, ?it/s]\u001b[A\n",
      "adding edges: 100%|██████████| 12121/12121 [00:00<00:00, 185836.69it/s]\u001b[A"
     ]
    },
    {
     "name": "stdout",
     "output_type": "stream",
     "text": [
      "directing network\n",
      "adding widths\n",
      "writing products\n"
     ]
    },
    {
     "name": "stderr",
     "output_type": "stream",
     "text": [
      "100%|██████████| 3/3 [05:56<00:00, 122.76s/it]\n"
     ]
    },
    {
     "data": {
      "text/plain": [
       "[None, None, None]"
      ]
     },
     "execution_count": 26,
     "metadata": {},
     "output_type": "execute_result"
    }
   ],
   "source": [
    "list(map(get_and_write_products, tqdm(tiles)))"
   ]
  },
  {
   "cell_type": "code",
   "execution_count": null,
   "metadata": {},
   "outputs": [],
   "source": []
  }
 ],
 "metadata": {
  "kernelspec": {
   "display_name": "centerlines",
   "language": "python",
   "name": "centerlines"
  },
  "language_info": {
   "codemirror_mode": {
    "name": "ipython",
    "version": 3
   },
   "file_extension": ".py",
   "mimetype": "text/x-python",
   "name": "python",
   "nbconvert_exporter": "python",
   "pygments_lexer": "ipython3",
   "version": "3.6.7"
  }
 },
 "nbformat": 4,
 "nbformat_minor": 2
}
