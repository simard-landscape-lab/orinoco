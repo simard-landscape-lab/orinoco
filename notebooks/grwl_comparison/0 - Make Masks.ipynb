{
 "cells": [
  {
   "cell_type": "code",
   "execution_count": 1,
   "metadata": {},
   "outputs": [],
   "source": [
    "import rasterio\n",
    "import matplotlib.pyplot as plt\n",
    "import numpy as np\n",
    "from pathlib import Path\n",
    "import pyproj\n",
    "import geopandas as gpd\n",
    "from rasterio import features\n",
    "from rasterio.warp import transform_bounds\n",
    "import scipy.ndimage as nd\n",
    "from orinoco import filter_binary_array_by_min_size\n",
    "from tqdm import tqdm\n",
    "import scipy.ndimage as nd"
   ]
  },
  {
   "cell_type": "markdown",
   "metadata": {},
   "source": [
    "# Water Mask"
   ]
  },
  {
   "cell_type": "code",
   "execution_count": 2,
   "metadata": {},
   "outputs": [],
   "source": [
    "tiles = ['NH15', 'NH16', 'NR08']"
   ]
  },
  {
   "cell_type": "code",
   "execution_count": 3,
   "metadata": {},
   "outputs": [
    {
     "name": "stdout",
     "output_type": "stream",
     "text": [
      "\u001b[31mNH15.tif\u001b[m\u001b[m         \u001b[31mNH16.tif\u001b[m\u001b[m         \u001b[31mNR08.tif\u001b[m\u001b[m\r\n",
      "NH15.tif.aux.xml NH16.tif.aux.xml NR08.tif.aux.xml\r\n"
     ]
    }
   ],
   "source": [
    "!ls grwl_data/masks"
   ]
  },
  {
   "cell_type": "code",
   "execution_count": 4,
   "metadata": {},
   "outputs": [],
   "source": [
    "data_path = Path('grwl_data')\n",
    "\n",
    "out_path = Path('out')\n",
    "out_path.mkdir(exist_ok=True)\n",
    "\n",
    "out_water_masks = Path('out/water_masks')\n",
    "out_water_masks.mkdir(exist_ok=True, parents=True)\n",
    "\n",
    "out_ocean_masks = Path('out/ocean_masks')\n",
    "out_ocean_masks.mkdir(exist_ok=True, parents=True)"
   ]
  },
  {
   "cell_type": "code",
   "execution_count": 5,
   "metadata": {},
   "outputs": [],
   "source": [
    "def open_one_water_mask(tile_name):\n",
    "    with rasterio.open(data_path/f'masks/{tile_name}.tif') as ds:\n",
    "        water_mask = ds.read(1).astype(bool).astype(int)\n",
    "        profile = ds.profile\n",
    "    return water_mask, profile"
   ]
  },
  {
   "cell_type": "code",
   "execution_count": 6,
   "metadata": {},
   "outputs": [],
   "source": [
    "X, profile = open_one_water_mask(tiles[0])"
   ]
  },
  {
   "cell_type": "code",
   "execution_count": 7,
   "metadata": {},
   "outputs": [],
   "source": [
    "sy = np.s_[6000:7000]\n",
    "sx = np.s_[7400:7800]"
   ]
  },
  {
   "cell_type": "code",
   "execution_count": 8,
   "metadata": {},
   "outputs": [
    {
     "data": {
      "text/plain": [
       "<matplotlib.image.AxesImage at 0x7fc87001ce10>"
      ]
     },
     "execution_count": 8,
     "metadata": {},
     "output_type": "execute_result"
    },
    {
     "data": {
      "image/png": "[encoded data removed]",
      "text/plain": [
       "<Figure size 720x720 with 1 Axes>"
      ]
     },
     "metadata": {
      "needs_background": "light"
     },
     "output_type": "display_data"
    }
   ],
   "source": [
    "plt.figure(figsize=(10, 10))\n",
    "plt.imshow(X[sy, sx])"
   ]
  },
  {
   "cell_type": "code",
   "execution_count": 9,
   "metadata": {},
   "outputs": [],
   "source": [
    "X2 = nd.morphology.binary_dilation(X.astype(int), \n",
    "                                        iterations=1,\n",
    "                                        border_value=0,\n",
    "                                       structure =np.ones((3, 3)))\n",
    "X3 = nd.morphology.binary_erosion(X2.astype(int), \n",
    "                                        iterations=1,\n",
    "                                        border_value=0,\n",
    "                                       structure =None)"
   ]
  },
  {
   "cell_type": "code",
   "execution_count": 10,
   "metadata": {},
   "outputs": [
    {
     "data": {
      "text/plain": [
       "<matplotlib.image.AxesImage at 0x7fc8c0200240>"
      ]
     },
     "execution_count": 10,
     "metadata": {},
     "output_type": "execute_result"
    },
    {
     "data": {
      "image/png": "[encoded data removed]",
      "text/plain": [
       "<Figure size 432x288 with 1 Axes>"
      ]
     },
     "metadata": {
      "needs_background": "light"
     },
     "output_type": "display_data"
    }
   ],
   "source": [
    "plt.imshow(X[sy, sx][900:, 150:250])"
   ]
  },
  {
   "cell_type": "code",
   "execution_count": 11,
   "metadata": {},
   "outputs": [
    {
     "data": {
      "text/plain": [
       "<matplotlib.image.AxesImage at 0x7fc8b0531b38>"
      ]
     },
     "execution_count": 11,
     "metadata": {},
     "output_type": "execute_result"
    },
    {
     "data": {
      "image/png": "[encoded data removed]",
      "text/plain": [
       "<Figure size 432x288 with 1 Axes>"
      ]
     },
     "metadata": {
      "needs_background": "light"
     },
     "output_type": "display_data"
    }
   ],
   "source": [
    "plt.imshow(X2[sy, sx][900:, 150:250])"
   ]
  },
  {
   "cell_type": "code",
   "execution_count": 12,
   "metadata": {},
   "outputs": [
    {
     "data": {
      "text/plain": [
       "<matplotlib.image.AxesImage at 0x7fc8c05c96d8>"
      ]
     },
     "execution_count": 12,
     "metadata": {},
     "output_type": "execute_result"
    },
    {
     "data": {
      "image/png": "[encoded data removed]",
      "text/plain": [
       "<Figure size 432x288 with 1 Axes>"
      ]
     },
     "metadata": {
      "needs_background": "light"
     },
     "output_type": "display_data"
    }
   ],
   "source": [
    "plt.imshow(X3[sy, sx][900:, 150:250])"
   ]
  },
  {
   "cell_type": "code",
   "execution_count": 13,
   "metadata": {},
   "outputs": [],
   "source": [
    "def write_one_water_mask(tile_name):\n",
    "    mask, profile = open_one_water_mask(tile_name)\n",
    "    tile_dir = out_path/f'{tile_name}'\n",
    "    tile_dir.mkdir(exist_ok=True, parents=True)\n",
    "    mask = nd.morphology.binary_dilation(mask.astype(np.uint8), \n",
    "                                         iterations=1,\n",
    "                                         border_value=0,\n",
    "                                         )\n",
    "    #mask = nd.morphology.binary_erosion(mask.astype(np.uint8), \n",
    "    #                                    iterations=1,\n",
    "    #                                    border_value=0,\n",
    "    #                                    structure =None)\n",
    "    with rasterio.open(tile_dir/'water_mask.tif', 'w', **profile) as ds:\n",
    "        ds.write(mask.astype('uint8'), 1)"
   ]
  },
  {
   "cell_type": "code",
   "execution_count": 14,
   "metadata": {},
   "outputs": [
    {
     "name": "stderr",
     "output_type": "stream",
     "text": [
      "100%|██████████| 3/3 [00:16<00:00,  5.61s/it]\n"
     ]
    },
    {
     "data": {
      "text/plain": [
       "[None, None, None]"
      ]
     },
     "execution_count": 14,
     "metadata": {},
     "output_type": "execute_result"
    }
   ],
   "source": [
    "list(map(write_one_water_mask, tqdm(tiles)))"
   ]
  },
  {
   "cell_type": "markdown",
   "metadata": {},
   "source": [
    "# Initialization Mask\n",
    "\n",
    "We use this hydropolys [dataset](https://apps.gis.ucla.edu/geodata/dataset/world_water_bodies/resource/a6b40af0-84cb-40ce-b1c5-b024527a6943). Update the path accordingly."
   ]
  },
  {
   "cell_type": "code",
   "execution_count": 15,
   "metadata": {},
   "outputs": [],
   "source": [
    "water_body_shapefile = '/Volumes/BigData/river_data/hydropolys'"
   ]
  },
  {
   "cell_type": "code",
   "execution_count": 16,
   "metadata": {},
   "outputs": [],
   "source": [
    "def translate_one(geometry, profile):\n",
    "    shapes = [(geometry, 1)]\n",
    "    out_arr = np.zeros((profile['height'], profile['width']))\n",
    "    burned = features.rasterize(shapes=shapes,\n",
    "                                out=out_arr,\n",
    "                                transform=profile['transform'],\n",
    "                                all_touched=True)\n",
    "    return burned"
   ]
  },
  {
   "cell_type": "code",
   "execution_count": 17,
   "metadata": {},
   "outputs": [],
   "source": [
    "def get_ocean_mask(tile_name):\n",
    "    with rasterio.open(data_path/f'masks/{tile_name}.tif') as ds:\n",
    "        bounds = ds.bounds\n",
    "        crs = str(ds.crs).lower()\n",
    "        profile = ds.profile\n",
    "    bounds_4326 = transform_bounds(crs, 'epsg:4326', *bounds)\n",
    "    oceanline_df = gpd.read_file(water_body_shapefile, bbox=bounds_4326).to_crs({'init':crs})\n",
    "    oceanline_df = oceanline_df[oceanline_df['TYPE'] == 'Ocean or Sea'].copy()\n",
    "    ocean_geometry = oceanline_df.geometry.unary_union.buffer(1e-9)\n",
    "    ocean_mask = translate_one(ocean_geometry, profile)\n",
    "    return ocean_mask, profile"
   ]
  },
  {
   "cell_type": "code",
   "execution_count": 18,
   "metadata": {},
   "outputs": [],
   "source": [
    "mask, profile = get_ocean_mask(tiles[0])"
   ]
  },
  {
   "cell_type": "code",
   "execution_count": 19,
   "metadata": {},
   "outputs": [
    {
     "data": {
      "text/plain": [
       "<matplotlib.image.AxesImage at 0x7fc8d0cd2f98>"
      ]
     },
     "execution_count": 19,
     "metadata": {},
     "output_type": "execute_result"
    },
    {
     "data": {
      "image/png": "[encoded data removed]",
      "text/plain": [
       "<Figure size 432x288 with 1 Axes>"
      ]
     },
     "metadata": {
      "needs_background": "light"
     },
     "output_type": "display_data"
    }
   ],
   "source": [
    "plt.imshow(mask[:, :1000])"
   ]
  },
  {
   "cell_type": "code",
   "execution_count": 20,
   "metadata": {},
   "outputs": [],
   "source": [
    "def write_ocean_mask(tile_name):\n",
    "    mask, profile = get_ocean_mask(tile_name)\n",
    "    tile_dir = out_path/f'{tile_name}'\n",
    "    tile_dir.mkdir(exist_ok=True, parents=True)\n",
    "    with rasterio.open(tile_dir/'ocean_mask.tif', 'w', **profile) as ds:\n",
    "        ds.write(mask.astype('uint8'), 1)"
   ]
  },
  {
   "cell_type": "code",
   "execution_count": 21,
   "metadata": {},
   "outputs": [
    {
     "name": "stderr",
     "output_type": "stream",
     "text": [
      "100%|██████████| 3/3 [00:21<00:00,  7.15s/it]\n"
     ]
    },
    {
     "data": {
      "text/plain": [
       "[None, None, None]"
      ]
     },
     "execution_count": 21,
     "metadata": {},
     "output_type": "execute_result"
    }
   ],
   "source": [
    "list(map(write_ocean_mask, tqdm(tiles)))"
   ]
  },
  {
   "cell_type": "code",
   "execution_count": null,
   "metadata": {},
   "outputs": [],
   "source": []
  }
 ],
 "metadata": {
  "kernelspec": {
   "display_name": "centerlines",
   "language": "python",
   "name": "centerlines"
  },
  "language_info": {
   "codemirror_mode": {
    "name": "ipython",
    "version": 3
   },
   "file_extension": ".py",
   "mimetype": "text/x-python",
   "name": "python",
   "nbconvert_exporter": "python",
   "pygments_lexer": "ipython3",
   "version": "3.6.7"
  }
 },
 "nbformat": 4,
 "nbformat_minor": 2
}
