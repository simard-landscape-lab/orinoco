{
 "cells": [
  {
   "cell_type": "code",
   "execution_count": 1,
   "metadata": {},
   "outputs": [],
   "source": [
    "import rasterio\n",
    "import matplotlib.pyplot as plt\n",
    "import numpy as np\n",
    "from pathlib import Path\n",
    "import networkx as nx\n",
    "from orinoco import (get_distance_along_river_using_fmm,\n",
    "                     get_distance_segments,\n",
    "                     get_undirected_river_network,\n",
    "                     direct_river_network_using_distance,\n",
    "                     export_edges_to_geodataframe,\n",
    "                     export_nodes_to_geodataframe,\n",
    "                     get_map_centroid_from_binary_mask,\n",
    "                     apply_func_to_superpixels,\n",
    "                     get_array_from_features,\n",
    "                     get_width_features_from_segments,\n",
    "                     add_flow_attributes,\n",
    "                     change_tuples_to_vector,\n",
    "                     get_geopandas_features_from_array,\n",
    "                     get_RAG_neighbors,\n",
    "                     get_segment_df,\n",
    "                     get_width_features_from_segments,\n",
    "                     get_geo_width_df,\n",
    "                     update_graph_with_geometric_width_data,\n",
    "                     add_width_features_to_graph,\n",
    "                     update_graph_with_widths\n",
    "                     )\n",
    "from skimage.color import label2rgb\n",
    "import random\n",
    "from shapely.geometry import Point, LineString, MultiLineString, GeometryCollection\n",
    "from shapely.ops import unary_union\n",
    "import geopandas as gpd\n",
    "import scipy.ndimage as nd\n",
    "from scipy.ndimage import find_objects\n",
    "from rasterio import features\n",
    "from tqdm import tqdm\n",
    "from rasterio.transform import rowcol"
   ]
  },
  {
   "cell_type": "markdown",
   "metadata": {},
   "source": [
    "This uess the normal workflow from before but there is a small trick employed to overcome this [problem](https://github.com/scikit-fmm/scikit-fmm/issues/32).\n",
    "\n",
    "We have a 1-pixel dilated water mask and compute distance through this. Then, we mask out the dilated pixels after the distance has been computed.\n",
    "\n",
    "To ensure that all the pixels we reached using fmm are still reachable after this contraction, we specify a connectivity of 8 in relevant steps."
   ]
  },
  {
   "cell_type": "markdown",
   "metadata": {},
   "source": [
    "# Initialize Paths for Data And Output"
   ]
  },
  {
   "cell_type": "code",
   "execution_count": 2,
   "metadata": {},
   "outputs": [],
   "source": [
    "tile_name = 'NR08'"
   ]
  },
  {
   "cell_type": "code",
   "execution_count": 3,
   "metadata": {},
   "outputs": [
    {
     "data": {
      "text/plain": [
       "True"
      ]
     },
     "execution_count": 3,
     "metadata": {},
     "output_type": "execute_result"
    }
   ],
   "source": [
    "out = Path('out')\n",
    "out.mkdir(exist_ok=True)\n",
    "\n",
    "tile_dir = Path(f'out/{tile_name}')\n",
    "tile_dir.exists()"
   ]
  },
  {
   "cell_type": "markdown",
   "metadata": {},
   "source": [
    "# Read Data"
   ]
  },
  {
   "cell_type": "code",
   "execution_count": 4,
   "metadata": {},
   "outputs": [],
   "source": [
    "with rasterio.open(out/f'{tile_name}/water_mask_dilated_{tile_name}.tif') as ds:\n",
    "    water_mask_d = ds.read(1)\n",
    "with rasterio.open(out/f'{tile_name}/water_mask_{tile_name}.tif') as ds:\n",
    "    water_mask = ds.read(1)\n",
    "with rasterio.open(out/f'{tile_name}/ocean_mask_{tile_name}.tif') as ds:\n",
    "    ocean_mask = ds.read(1)\n",
    "    profile = ds.profile"
   ]
  },
  {
   "cell_type": "code",
   "execution_count": 5,
   "metadata": {},
   "outputs": [
    {
     "data": {
      "text/plain": [
       "<matplotlib.image.AxesImage at 0x7fc5383e8860>"
      ]
     },
     "execution_count": 5,
     "metadata": {},
     "output_type": "execute_result"
    },
    {
     "data": {
      "image/png": "[encoded data removed]",
      "text/plain": [
       "<Figure size 432x288 with 1 Axes>"
      ]
     },
     "metadata": {
      "needs_background": "light"
     },
     "output_type": "display_data"
    }
   ],
   "source": [
    "plt.imshow(water_mask)"
   ]
  },
  {
   "cell_type": "markdown",
   "metadata": {},
   "source": [
    "# Make Products"
   ]
  },
  {
   "cell_type": "markdown",
   "metadata": {},
   "source": [
    "## The distance"
   ]
  },
  {
   "cell_type": "code",
   "execution_count": 6,
   "metadata": {},
   "outputs": [
    {
     "data": {
      "text/plain": [
       "<matplotlib.image.AxesImage at 0x7fc508fabeb8>"
      ]
     },
     "execution_count": 6,
     "metadata": {},
     "output_type": "execute_result"
    },
    {
     "data": {
      "image/png": "[encoded data removed]",
      "text/plain": [
       "<Figure size 432x288 with 1 Axes>"
      ]
     },
     "metadata": {
      "needs_background": "light"
     },
     "output_type": "display_data"
    }
   ],
   "source": [
    "transform = profile['transform']\n",
    "dx, dy = transform.a, -transform.e\n",
    "dist = get_distance_along_river_using_fmm(water_mask_d,\n",
    "                                          ocean_mask,\n",
    "                                          dx=dx,\n",
    "                                          dy=dy,\n",
    "                                          # removes areas with less than 2.5% of total size\n",
    "                                          area_threshold=.025\n",
    "                                          )\n",
    "dist[water_mask == 0] = np.nan\n",
    "plt.imshow(dist)"
   ]
  },
  {
   "cell_type": "code",
   "execution_count": 7,
   "metadata": {},
   "outputs": [],
   "source": [
    "p = profile.copy()\n",
    "p['dtype'] = 'float32'\n",
    "with rasterio.open(tile_dir/f'distance_{tile_name}.tif', 'w', **p) as ds:\n",
    "    ds.write(dist.astype(np.float32), 1)"
   ]
  },
  {
   "cell_type": "markdown",
   "metadata": {},
   "source": [
    "# Segmentation"
   ]
  },
  {
   "cell_type": "code",
   "execution_count": 8,
   "metadata": {},
   "outputs": [
    {
     "name": "stderr",
     "output_type": "stream",
     "text": [
      "rag neighbors: 100%|██████████| 4098/4098 [00:00<00:00, 17179.14it/s]\n"
     ]
    }
   ],
   "source": [
    "pixel_step = 5\n",
    "segments, interface_adj_segments = get_distance_segments(dist,\n",
    "                                                         pixel_step,\n",
    "                                                         dx=dx,\n",
    "                                                         dy=dy)"
   ]
  },
  {
   "cell_type": "code",
   "execution_count": 9,
   "metadata": {},
   "outputs": [
    {
     "data": {
      "text/plain": [
       "<matplotlib.image.AxesImage at 0x7fc528507240>"
      ]
     },
     "execution_count": 9,
     "metadata": {},
     "output_type": "execute_result"
    },
    {
     "data": {
      "image/png": "[encoded data removed]",
      "text/plain": [
       "<Figure size 432x288 with 1 Axes>"
      ]
     },
     "metadata": {
      "needs_background": "light"
     },
     "output_type": "display_data"
    }
   ],
   "source": [
    "segments_rgb = label2rgb(segments, bg_label=0)\n",
    "plt.imshow(segments_rgb)"
   ]
  },
  {
   "cell_type": "code",
   "execution_count": 10,
   "metadata": {},
   "outputs": [],
   "source": [
    "p = profile.copy()\n",
    "p['dtype'] = 'int32'\n",
    "with rasterio.open(tile_dir/f'segments_{tile_name}.tif', 'w', **p) as ds:\n",
    "    ds.write(segments.astype(np.int32), 1)"
   ]
  },
  {
   "cell_type": "code",
   "execution_count": 11,
   "metadata": {},
   "outputs": [],
   "source": [
    "p = profile.copy()\n",
    "p['dtype'] = 'float32'\n",
    "p['count'] = 3\n",
    "\n",
    "with rasterio.open(tile_dir/f'segments_rgb_{tile_name}.tif', 'w', **p) as ds:\n",
    "    ds.write(segments_rgb.transpose([2, 0, 1]).astype(np.float32))"
   ]
  },
  {
   "cell_type": "markdown",
   "metadata": {},
   "source": [
    "# Undirected Network"
   ]
  },
  {
   "cell_type": "code",
   "execution_count": 12,
   "metadata": {},
   "outputs": [
    {
     "name": "stderr",
     "output_type": "stream",
     "text": [
      "rag neighbors: 100%|██████████| 26400/26400 [00:01<00:00, 21497.93it/s]\n",
      "adding edges: 100%|██████████| 26399/26399 [00:00<00:00, 170687.40it/s]\n"
     ]
    }
   ],
   "source": [
    "rivG_undirected = get_undirected_river_network(segments, \n",
    "                                               dist, \n",
    "                                               profile, \n",
    "                                               interface_adj_segments,\n",
    "                                               connectivity=8)"
   ]
  },
  {
   "cell_type": "markdown",
   "metadata": {},
   "source": [
    "# Directed Network"
   ]
  },
  {
   "cell_type": "code",
   "execution_count": 13,
   "metadata": {},
   "outputs": [],
   "source": [
    "rivG = direct_river_network_using_distance(rivG_undirected, \n",
    "                                           remove_danlging_segments=True, \n",
    "                                           segment_threshold=3,\n",
    "                                           meters_to_interface_filter_buffer=1_000,\n",
    "                                           )"
   ]
  },
  {
   "cell_type": "code",
   "execution_count": 14,
   "metadata": {},
   "outputs": [
    {
     "data": {
      "text/html": [
       "<div>\n",
       "<style scoped>\n",
       "    .dataframe tbody tr th:only-of-type {\n",
       "        vertical-align: middle;\n",
       "    }\n",
       "\n",
       "    .dataframe tbody tr th {\n",
       "        vertical-align: top;\n",
       "    }\n",
       "\n",
       "    .dataframe thead th {\n",
       "        text-align: right;\n",
       "    }\n",
       "</style>\n",
       "<table border=\"1\" class=\"dataframe\">\n",
       "  <thead>\n",
       "    <tr style=\"text-align: right;\">\n",
       "      <th></th>\n",
       "      <th>length_m</th>\n",
       "      <th>weight</th>\n",
       "      <th>segment_id</th>\n",
       "      <th>edges_in_segment</th>\n",
       "      <th>cc_id</th>\n",
       "      <th>geometry</th>\n",
       "    </tr>\n",
       "  </thead>\n",
       "  <tbody>\n",
       "    <tr>\n",
       "      <td>0</td>\n",
       "      <td>587.801438</td>\n",
       "      <td>587.801438</td>\n",
       "      <td>0</td>\n",
       "      <td>25</td>\n",
       "      <td>0</td>\n",
       "      <td>LINESTRING (507790.8510638298 7703858.19148936...</td>\n",
       "    </tr>\n",
       "    <tr>\n",
       "      <td>1</td>\n",
       "      <td>166.916971</td>\n",
       "      <td>166.916971</td>\n",
       "      <td>1</td>\n",
       "      <td>12</td>\n",
       "      <td>0</td>\n",
       "      <td>LINESTRING (507790.8510638298 7703858.19148936...</td>\n",
       "    </tr>\n",
       "    <tr>\n",
       "      <td>2</td>\n",
       "      <td>158.593817</td>\n",
       "      <td>158.593817</td>\n",
       "      <td>0</td>\n",
       "      <td>25</td>\n",
       "      <td>0</td>\n",
       "      <td>LINESTRING (507384.0361445783 7704282.46987951...</td>\n",
       "    </tr>\n",
       "    <tr>\n",
       "      <td>3</td>\n",
       "      <td>151.984882</td>\n",
       "      <td>151.984882</td>\n",
       "      <td>0</td>\n",
       "      <td>25</td>\n",
       "      <td>0</td>\n",
       "      <td>LINESTRING (507251.8235294117 7704370.05882353...</td>\n",
       "    </tr>\n",
       "    <tr>\n",
       "      <td>4</td>\n",
       "      <td>159.198870</td>\n",
       "      <td>159.198870</td>\n",
       "      <td>0</td>\n",
       "      <td>25</td>\n",
       "      <td>0</td>\n",
       "      <td>LINESTRING (507149.6341463415 7704482.56097560...</td>\n",
       "    </tr>\n",
       "  </tbody>\n",
       "</table>\n",
       "</div>"
      ],
      "text/plain": [
       "     length_m      weight  segment_id  edges_in_segment  cc_id  \\\n",
       "0  587.801438  587.801438           0                25      0   \n",
       "1  166.916971  166.916971           1                12      0   \n",
       "2  158.593817  158.593817           0                25      0   \n",
       "3  151.984882  151.984882           0                25      0   \n",
       "4  159.198870  159.198870           0                25      0   \n",
       "\n",
       "                                            geometry  \n",
       "0  LINESTRING (507790.8510638298 7703858.19148936...  \n",
       "1  LINESTRING (507790.8510638298 7703858.19148936...  \n",
       "2  LINESTRING (507384.0361445783 7704282.46987951...  \n",
       "3  LINESTRING (507251.8235294117 7704370.05882353...  \n",
       "4  LINESTRING (507149.6341463415 7704482.56097560...  "
      ]
     },
     "execution_count": 14,
     "metadata": {},
     "output_type": "execute_result"
    }
   ],
   "source": [
    "df_edges = export_edges_to_geodataframe(rivG, profile['crs'])\n",
    "df_edges.head()"
   ]
  },
  {
   "cell_type": "code",
   "execution_count": 15,
   "metadata": {},
   "outputs": [
    {
     "data": {
      "text/plain": [
       "<matplotlib.axes._subplots.AxesSubplot at 0x7fc4d9819198>"
      ]
     },
     "execution_count": 15,
     "metadata": {},
     "output_type": "execute_result"
    },
    {
     "data": {
      "image/png": "[encoded data removed]",
      "text/plain": [
       "<Figure size 432x288 with 1 Axes>"
      ]
     },
     "metadata": {
      "needs_background": "light"
     },
     "output_type": "display_data"
    }
   ],
   "source": [
    "df_edges.plot(column='segment_id', categorical=True)"
   ]
  },
  {
   "cell_type": "markdown",
   "metadata": {},
   "source": [
    "# Widths"
   ]
  },
  {
   "cell_type": "code",
   "execution_count": 16,
   "metadata": {},
   "outputs": [
    {
     "data": {
      "text/plain": [
       "<matplotlib.colorbar.Colorbar at 0x7fc4d802ed68>"
      ]
     },
     "execution_count": 16,
     "metadata": {},
     "output_type": "execute_result"
    },
    {
     "data": {
      "image/png": "[encoded data removed]",
      "text/plain": [
       "<Figure size 432x288 with 2 Axes>"
      ]
     },
     "metadata": {
      "needs_background": "light"
     },
     "output_type": "display_data"
    }
   ],
   "source": [
    "width_features = get_width_features_from_segments(segments, profile)\n",
    "widths = get_array_from_features(segments, width_features)\n",
    "plt.imshow(widths)\n",
    "plt.colorbar()"
   ]
  },
  {
   "cell_type": "code",
   "execution_count": 17,
   "metadata": {},
   "outputs": [],
   "source": [
    "rivG = add_width_features_to_graph(rivG, width_features.ravel())"
   ]
  },
  {
   "cell_type": "code",
   "execution_count": 18,
   "metadata": {},
   "outputs": [
    {
     "name": "stderr",
     "output_type": "stream",
     "text": [
      "flow vector computation using gradient: 100%|██████████| 24592/24592 [00:00<00:00, 61716.08it/s]\n",
      "flow vector computation using network: 100%|██████████| 24592/24592 [00:02<00:00, 8821.47it/s]\n"
     ]
    }
   ],
   "source": [
    "rivG = add_flow_attributes(rivG, dist, profile['transform'])"
   ]
  },
  {
   "cell_type": "markdown",
   "metadata": {},
   "source": [
    "This takes a bit of time to polygonize the segments, so be patient."
   ]
  },
  {
   "cell_type": "code",
   "execution_count": 19,
   "metadata": {},
   "outputs": [
    {
     "name": "stdout",
     "output_type": "stream",
     "text": [
      "CPU times: user 24.9 s, sys: 260 ms, total: 25.2 s\n",
      "Wall time: 25.1 s\n"
     ]
    },
    {
     "data": {
      "text/html": [
       "<div>\n",
       "<style scoped>\n",
       "    .dataframe tbody tr th:only-of-type {\n",
       "        vertical-align: middle;\n",
       "    }\n",
       "\n",
       "    .dataframe tbody tr th {\n",
       "        vertical-align: top;\n",
       "    }\n",
       "\n",
       "    .dataframe thead th {\n",
       "        text-align: right;\n",
       "    }\n",
       "</style>\n",
       "<table border=\"1\" class=\"dataframe\">\n",
       "  <thead>\n",
       "    <tr style=\"text-align: right;\">\n",
       "      <th></th>\n",
       "      <th>label</th>\n",
       "      <th>geometry</th>\n",
       "      <th>perimeter</th>\n",
       "      <th>node</th>\n",
       "      <th>flow_vector_perp</th>\n",
       "    </tr>\n",
       "  </thead>\n",
       "  <tbody>\n",
       "    <tr>\n",
       "      <td>0</td>\n",
       "      <td>1</td>\n",
       "      <td>POLYGON ((506385 7707765, 506385 7707735, 5063...</td>\n",
       "      <td>1800.0</td>\n",
       "      <td>(506205.0, 7707614.368421053)</td>\n",
       "      <td>(0.89259404, 0.4508613)</td>\n",
       "    </tr>\n",
       "    <tr>\n",
       "      <td>1</td>\n",
       "      <td>2</td>\n",
       "      <td>POLYGON ((506415 7707615, 506415 7707585, 5063...</td>\n",
       "      <td>1800.0</td>\n",
       "      <td>(506262.2727272727, 7707471.363636363)</td>\n",
       "      <td>(0.90515715, 0.42507705)</td>\n",
       "    </tr>\n",
       "    <tr>\n",
       "      <td>2</td>\n",
       "      <td>3</td>\n",
       "      <td>POLYGON ((506535 7707495, 506535 7707465, 5065...</td>\n",
       "      <td>1920.0</td>\n",
       "      <td>(506308.08510638296, 7707324.893617021)</td>\n",
       "      <td>(0.9202143, 0.3914148)</td>\n",
       "    </tr>\n",
       "    <tr>\n",
       "      <td>3</td>\n",
       "      <td>4</td>\n",
       "      <td>POLYGON ((506565 7707345, 506565 7707315, 5065...</td>\n",
       "      <td>1920.0</td>\n",
       "      <td>(506368.9393939394, 7707186.515151516)</td>\n",
       "      <td>(0.9279651, 0.37266707)</td>\n",
       "    </tr>\n",
       "    <tr>\n",
       "      <td>4</td>\n",
       "      <td>5</td>\n",
       "      <td>POLYGON ((506685 7707255, 506685 7707225, 5066...</td>\n",
       "      <td>2160.0</td>\n",
       "      <td>(506427.36842105264, 7707052.631578947)</td>\n",
       "      <td>(0.92727506, 0.37438077)</td>\n",
       "    </tr>\n",
       "  </tbody>\n",
       "</table>\n",
       "</div>"
      ],
      "text/plain": [
       "   label                                           geometry  perimeter  \\\n",
       "0      1  POLYGON ((506385 7707765, 506385 7707735, 5063...     1800.0   \n",
       "1      2  POLYGON ((506415 7707615, 506415 7707585, 5063...     1800.0   \n",
       "2      3  POLYGON ((506535 7707495, 506535 7707465, 5065...     1920.0   \n",
       "3      4  POLYGON ((506565 7707345, 506565 7707315, 5065...     1920.0   \n",
       "4      5  POLYGON ((506685 7707255, 506685 7707225, 5066...     2160.0   \n",
       "\n",
       "                                      node          flow_vector_perp  \n",
       "0            (506205.0, 7707614.368421053)   (0.89259404, 0.4508613)  \n",
       "1   (506262.2727272727, 7707471.363636363)  (0.90515715, 0.42507705)  \n",
       "2  (506308.08510638296, 7707324.893617021)    (0.9202143, 0.3914148)  \n",
       "3   (506368.9393939394, 7707186.515151516)   (0.9279651, 0.37266707)  \n",
       "4  (506427.36842105264, 7707052.631578947)  (0.92727506, 0.37438077)  "
      ]
     },
     "execution_count": 19,
     "metadata": {},
     "output_type": "execute_result"
    }
   ],
   "source": [
    "%%time\n",
    "\n",
    "df_segments = get_segment_df(segments, rivG, profile)\n",
    "df_segments.head()"
   ]
  },
  {
   "cell_type": "code",
   "execution_count": 20,
   "metadata": {},
   "outputs": [],
   "source": [
    "df_segments_out = change_tuples_to_vector(df_segments)\n",
    "df_segments_out.to_file(tile_dir/'segments.geojson', \n",
    "                        driver='GeoJSON')"
   ]
  },
  {
   "cell_type": "markdown",
   "metadata": {},
   "source": [
    "This is the most expensive computation, so be very patient."
   ]
  },
  {
   "cell_type": "code",
   "execution_count": 21,
   "metadata": {},
   "outputs": [
    {
     "name": "stdout",
     "output_type": "stream",
     "text": [
      "CPU times: user 1min 10s, sys: 200 ms, total: 1min 10s\n",
      "Wall time: 1min 10s\n"
     ]
    },
    {
     "data": {
      "text/html": [
       "<div>\n",
       "<style scoped>\n",
       "    .dataframe tbody tr th:only-of-type {\n",
       "        vertical-align: middle;\n",
       "    }\n",
       "\n",
       "    .dataframe tbody tr th {\n",
       "        vertical-align: top;\n",
       "    }\n",
       "\n",
       "    .dataframe thead th {\n",
       "        text-align: right;\n",
       "    }\n",
       "</style>\n",
       "<table border=\"1\" class=\"dataframe\">\n",
       "  <thead>\n",
       "    <tr style=\"text-align: right;\">\n",
       "      <th></th>\n",
       "      <th>label</th>\n",
       "      <th>node</th>\n",
       "      <th>geometry</th>\n",
       "      <th>width_m</th>\n",
       "    </tr>\n",
       "  </thead>\n",
       "  <tbody>\n",
       "    <tr>\n",
       "      <td>0</td>\n",
       "      <td>1</td>\n",
       "      <td>(506205.0, 7707614.368421053)</td>\n",
       "      <td>LINESTRING (506475.00001 7707750.749072815, 50...</td>\n",
       "      <td>571.368401</td>\n",
       "    </tr>\n",
       "    <tr>\n",
       "      <td>1</td>\n",
       "      <td>2</td>\n",
       "      <td>(506262.2727272727, 7707471.363636363)</td>\n",
       "      <td>LINESTRING (506535.00001 7707599.440964369, 50...</td>\n",
       "      <td>563.438085</td>\n",
       "    </tr>\n",
       "    <tr>\n",
       "      <td>2</td>\n",
       "      <td>3</td>\n",
       "      <td>(506308.08510638296, 7707324.893617021)</td>\n",
       "      <td>LINESTRING (506565.00001 7707434.172829371, 50...</td>\n",
       "      <td>554.218723</td>\n",
       "    </tr>\n",
       "    <tr>\n",
       "      <td>3</td>\n",
       "      <td>4</td>\n",
       "      <td>(506368.9393939394, 7707186.515151516)</td>\n",
       "      <td>LINESTRING (506655.00001 7707301.395950703, 50...</td>\n",
       "      <td>581.918450</td>\n",
       "    </tr>\n",
       "    <tr>\n",
       "      <td>4</td>\n",
       "      <td>5</td>\n",
       "      <td>(506427.36842105264, 7707052.631578947)</td>\n",
       "      <td>LINESTRING (506775.00001 7707192.985381624, 50...</td>\n",
       "      <td>711.762935</td>\n",
       "    </tr>\n",
       "  </tbody>\n",
       "</table>\n",
       "</div>"
      ],
      "text/plain": [
       "   label                                     node  \\\n",
       "0      1            (506205.0, 7707614.368421053)   \n",
       "1      2   (506262.2727272727, 7707471.363636363)   \n",
       "2      3  (506308.08510638296, 7707324.893617021)   \n",
       "3      4   (506368.9393939394, 7707186.515151516)   \n",
       "4      5  (506427.36842105264, 7707052.631578947)   \n",
       "\n",
       "                                            geometry     width_m  \n",
       "0  LINESTRING (506475.00001 7707750.749072815, 50...  571.368401  \n",
       "1  LINESTRING (506535.00001 7707599.440964369, 50...  563.438085  \n",
       "2  LINESTRING (506565.00001 7707434.172829371, 50...  554.218723  \n",
       "3  LINESTRING (506655.00001 7707301.395950703, 50...  581.918450  \n",
       "4  LINESTRING (506775.00001 7707192.985381624, 50...  711.762935  "
      ]
     },
     "execution_count": 21,
     "metadata": {},
     "output_type": "execute_result"
    }
   ],
   "source": [
    "%%time\n",
    "\n",
    "df_geo_widths = get_geo_width_df(df_segments, rivG, radius=1)\n",
    "df_geo_widths.head()"
   ]
  },
  {
   "cell_type": "code",
   "execution_count": 22,
   "metadata": {},
   "outputs": [],
   "source": [
    "df_geo_widths_out = change_tuples_to_vector(df_geo_widths)\n",
    "df_geo_widths_out.to_file(tile_dir/'width_geometries.geojson', \n",
    "                          driver='GeoJSON')"
   ]
  },
  {
   "cell_type": "code",
   "execution_count": 23,
   "metadata": {},
   "outputs": [],
   "source": [
    "rivG = update_graph_with_geometric_width_data(rivG, df_geo_widths)"
   ]
  },
  {
   "cell_type": "code",
   "execution_count": 24,
   "metadata": {},
   "outputs": [
    {
     "data": {
      "text/plain": [
       "((546386.7073170731, 7548211.097560976),\n",
       " {'label': 26178,\n",
       "  'meters_to_interface': 143551.4793347643,\n",
       "  'x': 546386.7073170731,\n",
       "  'y': 7548211.097560976,\n",
       "  'interface_adj': False,\n",
       "  'graph_degree': 2,\n",
       "  'width_from_segment': 217.38633753705963,\n",
       "  'flow_vector_perp_grad': (0.9868821, 0.16144246),\n",
       "  'flow_vector_network': (0.437806207526385, -0.8965717805018323),\n",
       "  'flow_vector_perp_network': (0.8965717805018323, 0.437806207526385),\n",
       "  'flow_vector_perp': (0.9868821, 0.16144246),\n",
       "  'width_from_geometry': 243.19015784109956})"
      ]
     },
     "execution_count": 24,
     "metadata": {},
     "output_type": "execute_result"
    }
   ],
   "source": [
    "node_data =dict(rivG.nodes(data=True))\n",
    "random.choice(list(node_data.items()))"
   ]
  },
  {
   "cell_type": "code",
   "execution_count": 25,
   "metadata": {},
   "outputs": [],
   "source": [
    "trans = profile['transform']\n",
    "res = trans.a\n",
    "\n",
    "rivG = update_graph_with_widths(rivG,\n",
    "                                resolution=None,\n",
    "                                relative_width_buffer=np.sqrt(2), \n",
    "                                absolute_width_cutoff=1_000)"
   ]
  },
  {
   "cell_type": "markdown",
   "metadata": {},
   "source": [
    "# Save Network"
   ]
  },
  {
   "cell_type": "code",
   "execution_count": 26,
   "metadata": {},
   "outputs": [],
   "source": [
    "df_nodes = export_nodes_to_geodataframe(rivG, profile['crs'])\n",
    "df_nodes = change_tuples_to_vector(df_nodes)\n",
    "df_edges = export_edges_to_geodataframe(rivG, profile['crs'])"
   ]
  },
  {
   "cell_type": "code",
   "execution_count": 27,
   "metadata": {},
   "outputs": [],
   "source": [
    "df_edges.to_file(tile_dir/f'{tile_name}_edges.geojson', driver='GeoJSON')\n",
    "df_nodes.to_file(tile_dir/f'{tile_name}_nodes.geojson', driver='GeoJSON')\n",
    "nx.write_gpickle(rivG, tile_dir/f'{tile_name}_network.pkl')"
   ]
  },
  {
   "cell_type": "code",
   "execution_count": null,
   "metadata": {},
   "outputs": [],
   "source": []
  }
 ],
 "metadata": {
  "kernelspec": {
   "display_name": "centerlines",
   "language": "python",
   "name": "centerlines"
  },
  "language_info": {
   "codemirror_mode": {
    "name": "ipython",
    "version": 3
   },
   "file_extension": ".py",
   "mimetype": "text/x-python",
   "name": "python",
   "nbconvert_exporter": "python",
   "pygments_lexer": "ipython3",
   "version": "3.6.7"
  }
 },
 "nbformat": 4,
 "nbformat_minor": 2
}
