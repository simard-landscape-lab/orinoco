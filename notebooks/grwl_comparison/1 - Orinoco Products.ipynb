{
 "cells": [
  {
   "cell_type": "code",
   "execution_count": 1,
   "metadata": {},
   "outputs": [],
   "source": [
    "import rasterio\n",
    "import matplotlib.pyplot as plt\n",
    "import numpy as np\n",
    "from pathlib import Path\n",
    "import networkx as nx\n",
    "from orinoco import (\n",
    "                     get_distance_along_river_using_fmm,\n",
    "                     get_distance_segments,\n",
    "                     get_undirected_river_network,\n",
    "                     direct_river_network_using_distance,\n",
    "                     export_edges_to_geodataframe,\n",
    "                     export_nodes_to_geodataframe,\n",
    "                     get_width_features_from_segments,\n",
    "                     add_widths_to_graph\n",
    "                     )\n",
    "from skimage.color import label2rgb\n",
    "import random\n",
    "from shapely.geometry import Point\n",
    "import geopandas as gpd\n",
    "from tqdm import tqdm"
   ]
  },
  {
   "cell_type": "markdown",
   "metadata": {},
   "source": [
    "# Initialize Paths for Data And Output"
   ]
  },
  {
   "cell_type": "code",
   "execution_count": 2,
   "metadata": {},
   "outputs": [],
   "source": [
    "out = Path('out')\n",
    "tiles = ['NH15', 'NH16', 'NR08']"
   ]
  },
  {
   "cell_type": "markdown",
   "metadata": {},
   "source": [
    "# Read Data"
   ]
  },
  {
   "cell_type": "code",
   "execution_count": 3,
   "metadata": {},
   "outputs": [],
   "source": [
    "def read_masks(tile_name):\n",
    "    with rasterio.open(out/f'{tile_name}/water_mask.tif') as ds:\n",
    "        water_mask = ds.read(1)\n",
    "    with rasterio.open(out/f'{tile_name}/ocean_mask.tif') as ds:\n",
    "        ocean_mask = ds.read(1)\n",
    "        profile = ds.profile\n",
    "    return water_mask, ocean_mask, profile"
   ]
  },
  {
   "cell_type": "code",
   "execution_count": 4,
   "metadata": {},
   "outputs": [],
   "source": [
    "w, o, p = read_masks(tiles[0])"
   ]
  },
  {
   "cell_type": "code",
   "execution_count": 5,
   "metadata": {},
   "outputs": [
    {
     "data": {
      "text/plain": [
       "<matplotlib.image.AxesImage at 0x7ff9e9fdebe0>"
      ]
     },
     "execution_count": 5,
     "metadata": {},
     "output_type": "execute_result"
    },
    {
     "data": {
      "image/png": "[encoded data removed]",
      "text/plain": [
       "<Figure size 432x288 with 1 Axes>"
      ]
     },
     "metadata": {
      "needs_background": "light"
     },
     "output_type": "display_data"
    }
   ],
   "source": [
    "sy = np.s_[6500:7000]\n",
    "sx = np.s_[7400:7800]\n",
    "\n",
    "plt.imshow(w[sy, sx])"
   ]
  },
  {
   "cell_type": "markdown",
   "metadata": {},
   "source": [
    "# Make Products"
   ]
  },
  {
   "cell_type": "code",
   "execution_count": 6,
   "metadata": {},
   "outputs": [],
   "source": [
    "def generate_orinoco_products(tile_name):\n",
    "    \n",
    "    water_mask, ocean_mask, profile = read_masks(tile_name)\n",
    "    \n",
    "    transform = profile['transform']\n",
    "    dx, dy = transform.a, -transform.e\n",
    "    print('getting distance')\n",
    "    dist = get_distance_along_river_using_fmm(water_mask,\n",
    "                                              ocean_mask,\n",
    "                                              dx=dx,\n",
    "                                              dy=dy,\n",
    "                                              # removes areas with less than 2.5% of total size\n",
    "                                              area_threshold=.025\n",
    "                                              )\n",
    "\n",
    "\n",
    "    \n",
    "    print('getting segments')\n",
    "    pixel_step = 10\n",
    "    segments, interface_adj_segments = get_distance_segments(dist,\n",
    "                                                             pixel_step,\n",
    "                                                             dx=dx,\n",
    "                                                             dy=dy)\n",
    "    print('Generating undirected network')\n",
    "    rivG_undirected = get_undirected_river_network(segments, \n",
    "                                                   dist, \n",
    "                                                   profile, \n",
    "                                                   interface_adj_segments)\n",
    "    \n",
    "    print('directing network')\n",
    "    rivG = direct_river_network_using_distance(rivG_undirected, \n",
    "                                               remove_danlging_segments=True, \n",
    "                                               segment_threshold=3,\n",
    "                                               meters_to_interface_filter_buffer=1_000,\n",
    "                                               )\n",
    "\n",
    "    \n",
    "    print('adding widths')\n",
    "    width_features = get_width_features_from_segments(segments, profile)\n",
    "    rivG = add_widths_to_graph(rivG, width_features.ravel())\n",
    "    \n",
    "    return dist, segments, rivG, profile"
   ]
  },
  {
   "cell_type": "code",
   "execution_count": 14,
   "metadata": {},
   "outputs": [],
   "source": [
    "tile_name = tiles[2]"
   ]
  },
  {
   "cell_type": "code",
   "execution_count": 15,
   "metadata": {},
   "outputs": [
    {
     "name": "stdout",
     "output_type": "stream",
     "text": [
      "getting distance\n",
      "getting segments\n",
      "Generating undirected network\n"
     ]
    },
    {
     "name": "stderr",
     "output_type": "stream",
     "text": [
      "rag neighbors: 100%|██████████| 12122/12122 [00:00<00:00, 13310.20it/s]\n",
      "adding edges: 100%|██████████| 12121/12121 [00:00<00:00, 183570.66it/s]\n"
     ]
    },
    {
     "name": "stdout",
     "output_type": "stream",
     "text": [
      "directing network\n",
      "adding widths\n"
     ]
    }
   ],
   "source": [
    "dist, segments, rivG, profile = generate_orinoco_products(tile_name)"
   ]
  },
  {
   "cell_type": "code",
   "execution_count": 18,
   "metadata": {},
   "outputs": [],
   "source": [
    "# df_edges = export_edges_to_geodataframe(rivG)\n",
    "# df_edges.plot()"
   ]
  },
  {
   "cell_type": "code",
   "execution_count": 19,
   "metadata": {},
   "outputs": [],
   "source": [
    "def write_products(dist, segments, rivG, profile, tile_name):\n",
    "    out_tile = out/tile_name\n",
    "    out_tile.mkdir(exist_ok=True, parents=True)\n",
    "    p = profile.copy()\n",
    "    \n",
    "    p['dtype'] = 'float32'\n",
    "    with rasterio.open(out_tile/'distance.tif', 'w', **p) as ds:\n",
    "        ds.write(dist, 1)\n",
    "        \n",
    "    p['dtype'] = 'int32'\n",
    "    with rasterio.open(out_tile/'segments.tif', 'w', **p) as ds:\n",
    "        ds.write(segments, 1)\n",
    "    \n",
    "    df_edges = export_edges_to_geodataframe(rivG, profile)\n",
    "    df_nodes = export_nodes_to_geodataframe(rivG, profile)\n",
    "    \n",
    "    df_edges.to_file(out_tile/'orinoco_edges.geojson', driver='GeoJSON')\n",
    "    df_nodes.to_file(out_tile/'orinoco_nodes.geojson', driver='GeoJSON')\n",
    "    nx.write_gpickle(rivG, out_tile/'river_network.pkl')"
   ]
  },
  {
   "cell_type": "code",
   "execution_count": 20,
   "metadata": {},
   "outputs": [],
   "source": [
    "write_products(dist, segments, rivG, profile, tile_name)"
   ]
  },
  {
   "cell_type": "markdown",
   "metadata": {},
   "source": [
    "# Altogether"
   ]
  },
  {
   "cell_type": "code",
   "execution_count": 12,
   "metadata": {},
   "outputs": [],
   "source": [
    "def get_and_write_products(tile_name):\n",
    "    dist, segments, rivG, profile = generate_orinoco_products(tile_name)\n",
    "    print('writing products')\n",
    "    write_products(dist, segments, rivG, profile, tile_name)\n"
   ]
  },
  {
   "cell_type": "code",
   "execution_count": 13,
   "metadata": {},
   "outputs": [
    {
     "name": "stderr",
     "output_type": "stream",
     "text": [
      "\r",
      "  0%|          | 0/3 [00:00<?, ?it/s]"
     ]
    },
    {
     "name": "stdout",
     "output_type": "stream",
     "text": [
      "getting distance\n",
      "getting segments\n",
      "Generating undirected network\n"
     ]
    },
    {
     "name": "stderr",
     "output_type": "stream",
     "text": [
      "\n",
      "rag neighbors:   0%|          | 0/15079 [00:00<?, ?it/s]\u001b[A\n",
      "rag neighbors:   9%|▊         | 1282/15079 [00:00<00:01, 12813.75it/s]\u001b[A\n",
      "rag neighbors:  14%|█▍        | 2152/15079 [00:00<00:01, 11220.15it/s]\u001b[A\n",
      "rag neighbors:  20%|██        | 3057/15079 [00:00<00:01, 10434.82it/s]\u001b[A\n",
      "rag neighbors:  25%|██▍       | 3698/15079 [00:00<00:01, 8429.89it/s] \u001b[A\n",
      "rag neighbors:  29%|██▊       | 4321/15079 [00:00<00:01, 7392.62it/s]\u001b[A\n",
      "rag neighbors:  34%|███▍      | 5128/15079 [00:00<00:01, 7583.18it/s]\u001b[A\n",
      "rag neighbors:  38%|███▊      | 5796/15079 [00:00<00:01, 6091.87it/s]\u001b[A\n",
      "rag neighbors:  42%|████▏     | 6389/15079 [00:00<00:01, 5617.13it/s]\u001b[A\n",
      "rag neighbors:  46%|████▌     | 6947/15079 [00:01<00:01, 5488.54it/s]\u001b[A\n",
      "rag neighbors:  50%|█████     | 7585/15079 [00:01<00:01, 5728.05it/s]\u001b[A\n",
      "rag neighbors:  58%|█████▊    | 8675/15079 [00:01<00:00, 6674.74it/s]\u001b[A\n",
      "rag neighbors:  62%|██████▏   | 9403/15079 [00:01<00:01, 4717.52it/s]\u001b[A\n",
      "rag neighbors:  72%|███████▏  | 10879/15079 [00:01<00:00, 5927.25it/s]\u001b[A\n",
      "rag neighbors:  83%|████████▎ | 12455/15079 [00:01<00:00, 7291.94it/s]\u001b[A\n",
      "rag neighbors:  90%|████████▉ | 13529/15079 [00:01<00:00, 7677.95it/s]\u001b[A\n",
      "rag neighbors:  96%|█████████▋| 14544/15079 [00:02<00:00, 5620.09it/s]\u001b[A\n",
      "rag neighbors: 100%|██████████| 15079/15079 [00:02<00:00, 6981.19it/s]\u001b[A\n",
      "adding edges:   0%|          | 0/15078 [00:00<?, ?it/s]\u001b[A\n",
      "adding edges: 100%|██████████| 15078/15078 [00:00<00:00, 184958.40it/s]\u001b[A"
     ]
    },
    {
     "name": "stdout",
     "output_type": "stream",
     "text": [
      "directing network\n",
      "adding widths\n",
      "writing products\n"
     ]
    },
    {
     "name": "stderr",
     "output_type": "stream",
     "text": [
      "\r",
      " 33%|███▎      | 1/3 [02:25<04:50, 145.30s/it]"
     ]
    },
    {
     "name": "stdout",
     "output_type": "stream",
     "text": [
      "getting distance\n",
      "getting segments\n",
      "Generating undirected network\n"
     ]
    },
    {
     "name": "stderr",
     "output_type": "stream",
     "text": [
      "\n",
      "rag neighbors:   0%|          | 0/11482 [00:00<?, ?it/s]\u001b[A\n",
      "rag neighbors:  10%|▉         | 1124/11482 [00:00<00:00, 11234.28it/s]\u001b[A\n",
      "rag neighbors:  21%|██        | 2439/11482 [00:00<00:00, 11747.23it/s]\u001b[A\n",
      "rag neighbors:  36%|███▌      | 4156/11482 [00:00<00:00, 12976.02it/s]\u001b[A\n",
      "rag neighbors:  51%|█████▏    | 5894/11482 [00:00<00:00, 14043.08it/s]\u001b[A\n",
      "rag neighbors:  64%|██████▍   | 7383/11482 [00:00<00:00, 14281.72it/s]\u001b[A\n",
      "rag neighbors:  75%|███████▌  | 8663/11482 [00:00<00:00, 13697.47it/s]\u001b[A\n",
      "rag neighbors:  89%|████████▉ | 10212/11482 [00:00<00:00, 14189.31it/s]\u001b[A\n",
      "rag neighbors: 100%|██████████| 11482/11482 [00:00<00:00, 14203.86it/s]\u001b[A\n",
      "adding edges:   0%|          | 0/11481 [00:00<?, ?it/s]\u001b[A\n",
      "adding edges: 100%|██████████| 11481/11481 [00:00<00:00, 186716.00it/s]\u001b[A"
     ]
    },
    {
     "name": "stdout",
     "output_type": "stream",
     "text": [
      "directing network\n",
      "adding widths\n",
      "writing products\n"
     ]
    },
    {
     "name": "stderr",
     "output_type": "stream",
     "text": [
      "\r",
      " 67%|██████▋   | 2/3 [04:45<02:23, 143.90s/it]"
     ]
    },
    {
     "name": "stdout",
     "output_type": "stream",
     "text": [
      "getting distance\n",
      "getting segments\n",
      "Generating undirected network\n"
     ]
    },
    {
     "name": "stderr",
     "output_type": "stream",
     "text": [
      "\n",
      "rag neighbors:   0%|          | 0/12122 [00:00<?, ?it/s]\u001b[A\n",
      "rag neighbors:  10%|▉         | 1176/12122 [00:00<00:00, 11757.63it/s]\u001b[A\n",
      "rag neighbors:  19%|█▉        | 2282/12122 [00:00<00:00, 11538.52it/s]\u001b[A\n",
      "rag neighbors:  27%|██▋       | 3290/12122 [00:00<00:00, 11056.73it/s]\u001b[A\n",
      "rag neighbors:  37%|███▋      | 4485/12122 [00:00<00:00, 11308.06it/s]\u001b[A\n",
      "rag neighbors:  49%|████▉     | 5982/12122 [00:00<00:00, 12202.73it/s]\u001b[A\n",
      "rag neighbors:  62%|██████▏   | 7458/12122 [00:00<00:00, 12870.93it/s]\u001b[A\n",
      "rag neighbors:  74%|███████▍  | 9028/12122 [00:00<00:00, 13605.87it/s]\u001b[A\n",
      "rag neighbors:  87%|████████▋ | 10602/12122 [00:00<00:00, 14180.75it/s]\u001b[A\n",
      "rag neighbors: 100%|██████████| 12122/12122 [00:00<00:00, 13462.45it/s]\u001b[A\n",
      "adding edges:   0%|          | 0/12121 [00:00<?, ?it/s]\u001b[A\n",
      "adding edges: 100%|██████████| 12121/12121 [00:00<00:00, 191764.11it/s]\u001b[A"
     ]
    },
    {
     "name": "stdout",
     "output_type": "stream",
     "text": [
      "directing network\n",
      "adding widths\n",
      "writing products\n"
     ]
    },
    {
     "name": "stderr",
     "output_type": "stream",
     "text": [
      "100%|██████████| 3/3 [05:47<00:00, 119.31s/it]\n"
     ]
    },
    {
     "data": {
      "text/plain": [
       "[None, None, None]"
      ]
     },
     "execution_count": 13,
     "metadata": {},
     "output_type": "execute_result"
    }
   ],
   "source": [
    "list(map(get_and_write_products, tqdm(tiles)))"
   ]
  },
  {
   "cell_type": "code",
   "execution_count": null,
   "metadata": {},
   "outputs": [],
   "source": []
  }
 ],
 "metadata": {
  "kernelspec": {
   "display_name": "centerlines",
   "language": "python",
   "name": "centerlines"
  },
  "language_info": {
   "codemirror_mode": {
    "name": "ipython",
    "version": 3
   },
   "file_extension": ".py",
   "mimetype": "text/x-python",
   "name": "python",
   "nbconvert_exporter": "python",
   "pygments_lexer": "ipython3",
   "version": "3.6.7"
  }
 },
 "nbformat": 4,
 "nbformat_minor": 2
}
