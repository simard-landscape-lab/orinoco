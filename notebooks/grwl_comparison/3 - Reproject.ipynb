{
 "cells": [
  {
   "cell_type": "code",
   "execution_count": 3,
   "metadata": {},
   "outputs": [],
   "source": [
    "import rasterio\n",
    "import numpy as np\n",
    "import matplotlib.pyplot as plt\n",
    "from orinoco import reproject_arr_to_match_profile, reproject_profile_to_new_crs\n",
    "from pathlib import Path\n",
    "import glob\n",
    "from tqdm import tqdm\n",
    "from rasterio.warp import calculate_default_transform"
   ]
  },
  {
   "cell_type": "code",
   "execution_count": 4,
   "metadata": {},
   "outputs": [],
   "source": [
    "tile_name = 'NR08'"
   ]
  },
  {
   "cell_type": "code",
   "execution_count": 12,
   "metadata": {},
   "outputs": [
    {
     "data": {
      "text/plain": [
       "True"
      ]
     },
     "execution_count": 12,
     "metadata": {},
     "output_type": "execute_result"
    }
   ],
   "source": [
    "out = Path('out')\n",
    "\n",
    "tile_dir = Path(f'out/{tile_name}')\n",
    "tile_dir.exists()"
   ]
  },
  {
   "cell_type": "code",
   "execution_count": 13,
   "metadata": {},
   "outputs": [],
   "source": [
    "def get_reference_tif_profile(tile_name):\n",
    "    \n",
    "    with rasterio.open(tile_dir/f'distance_{tile_name}.tif') as ds:\n",
    "        src_profile = ds.profile\n",
    "    profile_4326 = reproject_profile_to_new_crs( src_profile, \n",
    "                                                'epsg:4326',\n",
    "                                                 target_resolution= 0.0002\n",
    "                                                )\n",
    "    \n",
    "    return profile_4326\n",
    "\n",
    "def reproject_singe_band(tif_path, reference_profile, out_dir):\n",
    "    with rasterio.open(tif_path) as ds:\n",
    "        band = ds.read(1)\n",
    "        profile = ds.profile\n",
    "    band_r, _ = reproject_arr_to_match_profile(band, profile, reference_profile, resampling='nearest')\n",
    "    band_r = band_r[0, ...]\n",
    "    p = reference_profile.copy()\n",
    "    dtype = profile['dtype']\n",
    "    p['dtype'] = dtype\n",
    "    with rasterio.open(out_dir/tif_path.name, 'w', **p) as ds:\n",
    "        ds.write(band_r.astype(dtype), 1)\n",
    "    return out_dir/tif_path.name\n",
    "\n",
    "def reproject_tile_data(tile_name):    \n",
    "    out_dir = Path(str(tile_dir) + '_4326')\n",
    "    out_dir.mkdir(exist_ok=True, parents=True)\n",
    "\n",
    "    tifs = list(tile_dir.glob('*.tif'))\n",
    "    \n",
    "    reference_profile = get_reference_tif_profile(tile_name)\n",
    "    \n",
    "    def reproj_partial(tif_path):\n",
    "        return reproject_singe_band(tif_path, reference_profile, out_dir)\n",
    "    \n",
    "    out_tifs = list(map(reproj_partial, tqdm(tifs)))\n",
    "    return out_tifs"
   ]
  },
  {
   "cell_type": "code",
   "execution_count": 14,
   "metadata": {},
   "outputs": [
    {
     "name": "stderr",
     "output_type": "stream",
     "text": [
      "100%|██████████| 7/7 [00:29<00:00,  3.98s/it]\n"
     ]
    },
    {
     "data": {
      "text/plain": [
       "[PosixPath('out/NR08_4326/segments_NR08.tif'),\n",
       " PosixPath('out/NR08_4326/distance_NR08.tif'),\n",
       " PosixPath('out/NR08_4326/ocean_mask_NR08.tif'),\n",
       " PosixPath('out/NR08_4326/segments_rgb_NR08.tif'),\n",
       " PosixPath('out/NR08_4326/water_mask_dilated_NR08.tif'),\n",
       " PosixPath('out/NR08_4326/width_differences.tif'),\n",
       " PosixPath('out/NR08_4326/water_mask_NR08.tif')]"
      ]
     },
     "execution_count": 14,
     "metadata": {},
     "output_type": "execute_result"
    }
   ],
   "source": [
    "reproject_tile_data(tile_name)"
   ]
  },
  {
   "cell_type": "code",
   "execution_count": null,
   "metadata": {},
   "outputs": [],
   "source": []
  }
 ],
 "metadata": {
  "kernelspec": {
   "display_name": "centerlines",
   "language": "python",
   "name": "centerlines"
  },
  "language_info": {
   "codemirror_mode": {
    "name": "ipython",
    "version": 3
   },
   "file_extension": ".py",
   "mimetype": "text/x-python",
   "name": "python",
   "nbconvert_exporter": "python",
   "pygments_lexer": "ipython3",
   "version": "3.6.7"
  },
  "nteract": {
   "version": "0.15.0"
  }
 },
 "nbformat": 4,
 "nbformat_minor": 2
}
