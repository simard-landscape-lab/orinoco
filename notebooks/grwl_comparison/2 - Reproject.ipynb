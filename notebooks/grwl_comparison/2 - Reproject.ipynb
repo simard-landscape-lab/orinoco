{
 "cells": [
  {
   "cell_type": "code",
   "execution_count": 1,
   "metadata": {},
   "outputs": [],
   "source": [
    "import rasterio\n",
    "import numpy as np\n",
    "import matplotlib.pyplot as plt\n",
    "from rivnet import reproject_arr_to_match_profile, reproject_profile_to_new_crs\n",
    "from pathlib import Path\n",
    "import glob\n",
    "from tqdm import tqdm\n",
    "from rasterio.warp import calculate_default_transform"
   ]
  },
  {
   "cell_type": "code",
   "execution_count": 2,
   "metadata": {},
   "outputs": [],
   "source": [
    "out = Path('out')\n",
    "out.mkdir(exist_ok=True)"
   ]
  },
  {
   "cell_type": "code",
   "execution_count": 3,
   "metadata": {},
   "outputs": [],
   "source": [
    "tiles = ['NH15', 'NH16', 'NR08']"
   ]
  },
  {
   "cell_type": "code",
   "execution_count": 4,
   "metadata": {},
   "outputs": [
    {
     "ename": "NameError",
     "evalue": "name 'map_name' is not defined",
     "output_type": "error",
     "traceback": [
      "\u001b[0;31m---------------------------------------------------------------------------\u001b[0m",
      "\u001b[0;31mNameError\u001b[0m                                 Traceback (most recent call last)",
      "\u001b[0;32m<ipython-input-4-c0461c81e747>\u001b[0m in \u001b[0;36m<module>\u001b[0;34m\u001b[0m\n\u001b[0;32m----> 1\u001b[0;31m \u001b[0;32mif\u001b[0m \u001b[0mmap_name\u001b[0m \u001b[0;34m==\u001b[0m \u001b[0;34m'stamen_terrain_12'\u001b[0m\u001b[0;34m:\u001b[0m\u001b[0;34m\u001b[0m\u001b[0;34m\u001b[0m\u001b[0m\n\u001b[0m\u001b[1;32m      2\u001b[0m     \u001b[0mtarget_resolution\u001b[0m \u001b[0;34m=\u001b[0m \u001b[0;36m0.0003\u001b[0m\u001b[0;34m\u001b[0m\u001b[0;34m\u001b[0m\u001b[0m\n\u001b[1;32m      3\u001b[0m \u001b[0;32melif\u001b[0m \u001b[0mmap_name\u001b[0m \u001b[0;34m==\u001b[0m \u001b[0;34m'google_16'\u001b[0m\u001b[0;34m:\u001b[0m\u001b[0;34m\u001b[0m\u001b[0;34m\u001b[0m\u001b[0m\n\u001b[1;32m      4\u001b[0m     \u001b[0;31m#  divide by 15 if want the 2 meter raster, but probably not necessary for viz\u001b[0m\u001b[0;34m\u001b[0m\u001b[0;34m\u001b[0m\u001b[0;34m\u001b[0m\u001b[0m\n\u001b[1;32m      5\u001b[0m     \u001b[0mtarget_resolution\u001b[0m \u001b[0;34m=\u001b[0m \u001b[0;36m0.0003\u001b[0m \u001b[0;31m#/ 15\u001b[0m\u001b[0;34m\u001b[0m\u001b[0;34m\u001b[0m\u001b[0m\n",
      "\u001b[0;31mNameError\u001b[0m: name 'map_name' is not defined"
     ]
    }
   ],
   "source": [
    "if map_name == 'stamen_terrain_12':\n",
    "    target_resolution = 0.0003\n",
    "elif map_name == 'google_16':\n",
    "    #  divide by 15 if want the 2 meter raster, but probably not necessary for viz\n",
    "    target_resolution = 0.0003 #/ 15\n",
    "else:\n",
    "    raise ValueError('only works for google_16 and stamen_terrain_12')\n",
    "\n",
    "\n",
    "src_arr_4326, src_profile_4326 = reproject_arr_to_new_crs(src_arr, \n",
    "                                                          src_profile, \n",
    "                                                          'epsg:4326',\n",
    "                                                          resampling='nearest',\n",
    "                                                          target_resolution=target_resolution\n",
    "                                                          )"
   ]
  },
  {
   "cell_type": "code",
   "execution_count": 11,
   "metadata": {},
   "outputs": [],
   "source": [
    "def get_reference_tif_profile(tile_name):\n",
    "    \n",
    "    tile_dir = out/tile_name\n",
    "    with rasterio.open(tile_dir/'distance.tif') as ds:\n",
    "        src_profile = ds.profile\n",
    "    profile_4326 = reproject_profile_to_new_crs( src_profile, \n",
    "                                                'epsg:4326',\n",
    "                                                 target_resolution= 0.0003\n",
    "                                                )\n",
    "    \n",
    "    return profile_4326\n",
    "\n",
    "def reproject_singe_band(tif_path, reference_profile, out_dir):\n",
    "    with rasterio.open(tif_path) as ds:\n",
    "        band = ds.read(1)\n",
    "        profile = ds.profile\n",
    "    band_r, _ = reproject_arr_to_match_profile(band, profile, reference_profile, resampling='nearest')\n",
    "    band_r = band_r[0, ...]\n",
    "    p = reference_profile.copy()\n",
    "    dtype = profile['dtype']\n",
    "    p['dtype'] = dtype\n",
    "    with rasterio.open(out_dir/tif_path.name, 'w', **p) as ds:\n",
    "        ds.write(band_r.astype(dtype), 1)\n",
    "    return out_dir/tif_path.name\n",
    "\n",
    "def reproject_tile_data(tile_name):    \n",
    "    tile_dir = out/tile_name\n",
    "    out_dir = Path(str(tile_dir) + '_4326')\n",
    "    out_dir.mkdir(exist_ok=True, parents=True)\n",
    "\n",
    "    tifs = list(tile_dir.glob('*.tif'))\n",
    "    \n",
    "    reference_profile = get_reference_tif_profile(tile_name)\n",
    "    \n",
    "    def reproj_partial(tif_path):\n",
    "        return reproject_singe_band(tif_path, reference_profile, out_dir)\n",
    "    \n",
    "    out_tifs = list(map(reproj_partial, tqdm(tifs)))\n",
    "    return out_tifs"
   ]
  },
  {
   "cell_type": "code",
   "execution_count": 12,
   "metadata": {},
   "outputs": [
    {
     "name": "stderr",
     "output_type": "stream",
     "text": [
      "100%|██████████| 4/4 [00:54<00:00, 14.01s/it]\n"
     ]
    },
    {
     "data": {
      "text/plain": [
       "[PosixPath('out/NH15_4326/distance.tif'),\n",
       " PosixPath('out/NH15_4326/ocean_mask.tif'),\n",
       " PosixPath('out/NH15_4326/segments.tif'),\n",
       " PosixPath('out/NH15_4326/water_mask.tif')]"
      ]
     },
     "execution_count": 12,
     "metadata": {},
     "output_type": "execute_result"
    }
   ],
   "source": [
    "reproject_tile_data(tiles[0])"
   ]
  },
  {
   "cell_type": "code",
   "execution_count": 13,
   "metadata": {},
   "outputs": [
    {
     "name": "stderr",
     "output_type": "stream",
     "text": [
      "  0%|          | 0/2 [00:00<?, ?it/s]\n",
      "  0%|          | 0/4 [00:00<?, ?it/s]\u001b[A\n",
      " 25%|██▌       | 1/4 [00:16<00:49, 16.54s/it]\u001b[A\n",
      " 50%|█████     | 2/4 [00:27<00:29, 14.74s/it]\u001b[A\n",
      " 75%|███████▌  | 3/4 [00:43<00:15, 15.25s/it]\u001b[A\n",
      " 50%|█████     | 1/2 [00:54<00:54, 54.45s/it]\u001b[A\n",
      "  0%|          | 0/4 [00:00<?, ?it/s]\u001b[A\n",
      " 25%|██▌       | 1/4 [00:17<00:51, 17.10s/it]\u001b[A\n",
      " 50%|█████     | 2/4 [00:28<00:30, 15.33s/it]\u001b[A\n",
      " 75%|███████▌  | 3/4 [00:44<00:15, 15.58s/it]\u001b[A\n",
      "100%|██████████| 2/2 [01:49<00:00, 54.78s/it]\u001b[A\n"
     ]
    },
    {
     "data": {
      "text/plain": [
       "[[PosixPath('out/NH16_4326/distance.tif'),\n",
       "  PosixPath('out/NH16_4326/ocean_mask.tif'),\n",
       "  PosixPath('out/NH16_4326/segments.tif'),\n",
       "  PosixPath('out/NH16_4326/water_mask.tif')],\n",
       " [PosixPath('out/NR08_4326/distance.tif'),\n",
       "  PosixPath('out/NR08_4326/ocean_mask.tif'),\n",
       "  PosixPath('out/NR08_4326/segments.tif'),\n",
       "  PosixPath('out/NR08_4326/water_mask.tif')]]"
      ]
     },
     "execution_count": 13,
     "metadata": {},
     "output_type": "execute_result"
    }
   ],
   "source": [
    "list(map(reproject_tile_data, tqdm(tiles[1:])))"
   ]
  },
  {
   "cell_type": "code",
   "execution_count": null,
   "metadata": {},
   "outputs": [],
   "source": []
  }
 ],
 "metadata": {
  "kernelspec": {
   "display_name": "centerlines",
   "language": "python",
   "name": "centerlines"
  },
  "language_info": {
   "codemirror_mode": {
    "name": "ipython",
    "version": 3
   },
   "file_extension": ".py",
   "mimetype": "text/x-python",
   "name": "python",
   "nbconvert_exporter": "python",
   "pygments_lexer": "ipython3",
   "version": "3.6.7"
  },
  "nteract": {
   "version": "0.15.0"
  }
 },
 "nbformat": 4,
 "nbformat_minor": 2
}
