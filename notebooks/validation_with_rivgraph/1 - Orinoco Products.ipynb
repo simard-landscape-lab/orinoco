{
 "cells": [
  {
   "cell_type": "code",
   "execution_count": 1,
   "metadata": {},
   "outputs": [],
   "source": [
    "import rasterio\n",
    "import matplotlib.pyplot as plt\n",
    "import numpy as np\n",
    "from pathlib import Path\n",
    "import networkx as nx\n",
    "from orinoco import (get_distance_in_channel,\n",
    "                     get_distance_segments,\n",
    "                     get_undirected_channel_network,\n",
    "                     direct_channel_network,\n",
    "                     export_edges_to_geodataframe,\n",
    "                     export_nodes_to_geodataframe,\n",
    "                     get_map_centroid_from_binary_mask,\n",
    "                     add_flow_attributes,\n",
    "                     split_tuple_pairs,\n",
    "                     get_segment_df,\n",
    "                     get_geo_width_df,\n",
    "                     update_graph_with_widths,\n",
    "                     get_width_features_from_segments,\n",
    "                     add_width_features_to_graph,\n",
    "                     get_array_from_features\n",
    "                     )\n",
    "from skimage.color import label2rgb\n",
    "import random\n",
    "import geopandas as gpd\n",
    "from shapely.geometry import Point"
   ]
  },
  {
   "cell_type": "markdown",
   "metadata": {},
   "source": [
    "# Initialize the Tile Directory"
   ]
  },
  {
   "cell_type": "code",
   "execution_count": 2,
   "metadata": {},
   "outputs": [],
   "source": [
    "site_name = 'mackenzie'"
   ]
  },
  {
   "cell_type": "code",
   "execution_count": 3,
   "metadata": {},
   "outputs": [
    {
     "data": {
      "text/plain": [
       "True"
      ]
     },
     "execution_count": 3,
     "metadata": {},
     "output_type": "execute_result"
    }
   ],
   "source": [
    "site_dir = Path(f'out/{site_name}')\n",
    "site_dir.exists()"
   ]
  },
  {
   "cell_type": "markdown",
   "metadata": {},
   "source": [
    "# Read Data from the Tile Directory"
   ]
  },
  {
   "cell_type": "code",
   "execution_count": 4,
   "metadata": {},
   "outputs": [],
   "source": [
    "with rasterio.open(site_dir/f'water_mask_{site_name}.tif') as ds:\n",
    "    water_mask = ds.read(1)\n",
    "with rasterio.open(site_dir/f'ocean_mask_{site_name}.tif') as ds:\n",
    "    ocean_mask = ds.read(1)\n",
    "    profile = ds.profile"
   ]
  },
  {
   "cell_type": "code",
   "execution_count": 5,
   "metadata": {},
   "outputs": [
    {
     "data": {
      "text/plain": [
       "<matplotlib.image.AxesImage at 0x7fc841250940>"
      ]
     },
     "execution_count": 5,
     "metadata": {},
     "output_type": "execute_result"
    },
    {
     "data": {
      "image/png": "[encoded data removed]",
      "text/plain": [
       "<Figure size 432x288 with 1 Axes>"
      ]
     },
     "metadata": {
      "needs_background": "light"
     },
     "output_type": "display_data"
    }
   ],
   "source": [
    "plt.imshow(water_mask, interpolation='none')"
   ]
  },
  {
   "cell_type": "markdown",
   "metadata": {},
   "source": [
    "# Generate Orinoco Products\n",
    "\n",
    "## Obtaining the Distance Function"
   ]
  },
  {
   "cell_type": "code",
   "execution_count": 6,
   "metadata": {},
   "outputs": [
    {
     "data": {
      "text/plain": [
       "<matplotlib.image.AxesImage at 0x7fc8801507b8>"
      ]
     },
     "execution_count": 6,
     "metadata": {},
     "output_type": "execute_result"
    },
    {
     "data": {
      "image/png": "[encoded data removed]",
      "text/plain": [
       "<Figure size 432x288 with 1 Axes>"
      ]
     },
     "metadata": {
      "needs_background": "light"
     },
     "output_type": "display_data"
    }
   ],
   "source": [
    "transform = profile['transform']\n",
    "dx, dy = transform.a, -transform.e\n",
    "dist = get_distance_in_channel(water_mask,\n",
    "                               ocean_mask,\n",
    "                               dx=dx,\n",
    "                               dy=dy,\n",
    "                               # removes areas with less than percentage of total size\n",
    "                               min_rel_area=0.025,\n",
    "                               # Applys a 1 pixel buffer for distance computation\n",
    "                               # for artifical 8-connectivity.\n",
    "                               # See: https://github.com/scikit-fmm/scikit-fmm/issues/32\n",
    "                               # Removes buffer after computation complete.\n",
    "                               # Only recommended for validation here\n",
    "                               apply_mask_buffer=True\n",
    "                              )\n",
    "plt.imshow(dist, interpolation='none')"
   ]
  },
  {
   "cell_type": "markdown",
   "metadata": {},
   "source": [
    "Save the distance product."
   ]
  },
  {
   "cell_type": "code",
   "execution_count": 7,
   "metadata": {},
   "outputs": [],
   "source": [
    "p = profile.copy()\n",
    "p['dtype'] = 'float32'\n",
    "with rasterio.open(site_dir/f'distance_{site_name}.tif', 'w', **p) as ds:\n",
    "    ds.write(dist.astype(np.float32), 1)"
   ]
  },
  {
   "cell_type": "markdown",
   "metadata": {},
   "source": [
    "## Segmentation of the Channel"
   ]
  },
  {
   "cell_type": "code",
   "execution_count": 8,
   "metadata": {},
   "outputs": [
    {
     "name": "stderr",
     "output_type": "stream",
     "text": [
      "rag neighbors: 100%|██████████| 840/840 [00:00<00:00, 23876.66it/s]\n"
     ]
    }
   ],
   "source": [
    "pixel_step = 5\n",
    "segments, interface_adj_segments = get_distance_segments(dist,\n",
    "                                                         pixel_step,\n",
    "                                                         dx=dx,\n",
    "                                                         dy=dy,\n",
    "                                                         connectivity=8,\n",
    "                                                         min_size=4)"
   ]
  },
  {
   "cell_type": "code",
   "execution_count": 9,
   "metadata": {},
   "outputs": [
    {
     "data": {
      "text/plain": [
       "<matplotlib.image.AxesImage at 0x7fc8d0702198>"
      ]
     },
     "execution_count": 9,
     "metadata": {},
     "output_type": "execute_result"
    },
    {
     "data": {
      "image/png": "[encoded data removed]",
      "text/plain": [
       "<Figure size 432x288 with 1 Axes>"
      ]
     },
     "metadata": {
      "needs_background": "light"
     },
     "output_type": "display_data"
    }
   ],
   "source": [
    "segments_rgb = label2rgb(segments, bg_label=0)\n",
    "plt.imshow(segments_rgb, interpolation='none')"
   ]
  },
  {
   "cell_type": "markdown",
   "metadata": {},
   "source": [
    "We save both the `segments` and the `segments_rgb` to disk."
   ]
  },
  {
   "cell_type": "code",
   "execution_count": 10,
   "metadata": {},
   "outputs": [],
   "source": [
    "p = profile.copy()\n",
    "p['dtype'] = 'int32'\n",
    "with rasterio.open(site_dir/f'segments_{site_name}.tif', 'w', **p) as ds:\n",
    "    ds.write(segments.astype(np.int32), 1)\n",
    "\n",
    "p = profile.copy()\n",
    "p['dtype'] = 'float32'\n",
    "p['count'] = 3\n",
    "with rasterio.open(site_dir/f'segments_rgb_{site_name}.tif', 'w', **p) as ds:\n",
    "    ds.write(segments_rgb.transpose([2, 0, 1]).astype(np.float32))"
   ]
  },
  {
   "cell_type": "markdown",
   "metadata": {},
   "source": [
    "## Obtaining the Undirected Network"
   ]
  },
  {
   "cell_type": "code",
   "execution_count": 11,
   "metadata": {},
   "outputs": [
    {
     "name": "stderr",
     "output_type": "stream",
     "text": [
      "rag neighbors: 100%|██████████| 29857/29857 [00:01<00:00, 22482.19it/s]\n",
      "adding edges: 100%|██████████| 29856/29856 [00:00<00:00, 180876.24it/s]\n"
     ]
    }
   ],
   "source": [
    "chanG_undirected = get_undirected_channel_network(segments, \n",
    "                                                  dist, \n",
    "                                                  profile, \n",
    "                                                  interface_adj_segments,\n",
    "                                                  connectivity=8)"
   ]
  },
  {
   "cell_type": "markdown",
   "metadata": {},
   "source": [
    "## Obtaining the Directed Network"
   ]
  },
  {
   "cell_type": "code",
   "execution_count": 12,
   "metadata": {},
   "outputs": [],
   "source": [
    "chanG = direct_channel_network(chanG_undirected, \n",
    "                               # The keywords below are how the pruning occurs\n",
    "                               # Specifies pruning will be done\n",
    "                               remove_dangling=True, \n",
    "                               # Do not prune nodes within 1 km of interface\n",
    "                               interface_buffer_m=1_000,     \n",
    "                               # Remove edge groups with an degree 1 endpoint and size <=3\n",
    "                               group_min_size=5,\n",
    "                               # How many times to do this pruning\n",
    "                               dangling_iterations=1\n",
    "                               )"
   ]
  },
  {
   "cell_type": "markdown",
   "metadata": {},
   "source": [
    "Let's do a quick sanity check."
   ]
  },
  {
   "cell_type": "code",
   "execution_count": 13,
   "metadata": {},
   "outputs": [
    {
     "data": {
      "text/plain": [
       "<matplotlib.axes._subplots.AxesSubplot at 0x7fc8726807f0>"
      ]
     },
     "execution_count": 13,
     "metadata": {},
     "output_type": "execute_result"
    },
    {
     "data": {
      "image/png": "[encoded data removed]",
      "text/plain": [
       "<Figure size 432x288 with 1 Axes>"
      ]
     },
     "metadata": {
      "needs_background": "light"
     },
     "output_type": "display_data"
    }
   ],
   "source": [
    "df_edges = export_edges_to_geodataframe(chanG, profile['crs'])\n",
    "df_edges.plot(column='segment_id', categorical=True)"
   ]
  },
  {
   "cell_type": "markdown",
   "metadata": {},
   "source": [
    "## Obtaining the Widths\n",
    "\n",
    "### Using the distance transform\n",
    "\n",
    "We are going to use the distance transform within a segment. We have a function that determines the width according to $2\\cdot d - 1$ where d is the distance to the land mask according to the distance transform in a small 1-pixel buffer around the segment (if this is 0, we use the full distance transform on the channel mask)."
   ]
  },
  {
   "cell_type": "code",
   "execution_count": 14,
   "metadata": {},
   "outputs": [
    {
     "data": {
      "text/plain": [
       "<matplotlib.colorbar.Colorbar at 0x7fc87223a630>"
      ]
     },
     "execution_count": 14,
     "metadata": {},
     "output_type": "execute_result"
    },
    {
     "data": {
      "image/png": "[encoded data removed]",
      "text/plain": [
       "<Figure size 432x288 with 2 Axes>"
      ]
     },
     "metadata": {
      "needs_background": "light"
     },
     "output_type": "display_data"
    }
   ],
   "source": [
    "width_features = get_width_features_from_segments(segments, profile)\n",
    "widths = get_array_from_features(segments, width_features)\n",
    "plt.imshow(widths, interpolation='none')\n",
    "plt.colorbar()"
   ]
  },
  {
   "cell_type": "markdown",
   "metadata": {},
   "source": [
    "We now add these attributes to the graph."
   ]
  },
  {
   "cell_type": "code",
   "execution_count": 15,
   "metadata": {},
   "outputs": [
    {
     "data": {
      "text/plain": [
       "((540462.5, 7575260.0),\n",
       " {'label': 19373,\n",
       "  'meters_to_interface': 90847.54961447642,\n",
       "  'x': 540462.5,\n",
       "  'y': 7575260.0,\n",
       "  'interface_adj': False,\n",
       "  'graph_degree': 2,\n",
       "  'cc_id': 0,\n",
       "  'width_from_segment': 54.852813742385706})"
      ]
     },
     "execution_count": 15,
     "metadata": {},
     "output_type": "execute_result"
    }
   ],
   "source": [
    "chanG = add_width_features_to_graph(chanG, width_features.ravel())\n",
    "node_data =dict(chanG.nodes(data=True))\n",
    "random.choice(list(node_data.items()))"
   ]
  },
  {
   "cell_type": "markdown",
   "metadata": {},
   "source": [
    "### Using $\\nabla \\varphi$\n",
    "\n",
    "We compute width using the gradient of the distance function (and possibly the network structure). First we obtain the orientation of along wich to obtain these measured widths (perpendicular to the artificial flow)."
   ]
  },
  {
   "cell_type": "code",
   "execution_count": 16,
   "metadata": {},
   "outputs": [
    {
     "name": "stderr",
     "output_type": "stream",
     "text": [
      "flow vector computation using gradient: 100%|██████████| 29023/29023 [00:00<00:00, 63995.67it/s]\n",
      "flow vector computation using network: 100%|██████████| 29023/29023 [00:02<00:00, 11471.03it/s]\n"
     ]
    }
   ],
   "source": [
    "chanG = add_flow_attributes(chanG, dist, profile['transform'])"
   ]
  },
  {
   "cell_type": "markdown",
   "metadata": {},
   "source": [
    "To perform intersection, we must extract the polygons of the segments. This takes a bit of time to polygonize the segments, so be patient."
   ]
  },
  {
   "cell_type": "code",
   "execution_count": 17,
   "metadata": {},
   "outputs": [
    {
     "name": "stdout",
     "output_type": "stream",
     "text": [
      "CPU times: user 25.7 s, sys: 369 ms, total: 26.1 s\n",
      "Wall time: 26 s\n"
     ]
    },
    {
     "data": {
      "text/html": [
       "<div>\n",
       "<style scoped>\n",
       "    .dataframe tbody tr th:only-of-type {\n",
       "        vertical-align: middle;\n",
       "    }\n",
       "\n",
       "    .dataframe tbody tr th {\n",
       "        vertical-align: top;\n",
       "    }\n",
       "\n",
       "    .dataframe thead th {\n",
       "        text-align: right;\n",
       "    }\n",
       "</style>\n",
       "<table border=\"1\" class=\"dataframe\">\n",
       "  <thead>\n",
       "    <tr style=\"text-align: right;\">\n",
       "      <th></th>\n",
       "      <th>label</th>\n",
       "      <th>geometry</th>\n",
       "      <th>perimeter</th>\n",
       "      <th>node</th>\n",
       "      <th>flow_vector_perp</th>\n",
       "    </tr>\n",
       "  </thead>\n",
       "  <tbody>\n",
       "    <tr>\n",
       "      <td>0</td>\n",
       "      <td>1</td>\n",
       "      <td>POLYGON ((506490 7707810, 506490 7707780, 5064...</td>\n",
       "      <td>2040.0</td>\n",
       "      <td>(506200.54054054053, 7707611.3513513515)</td>\n",
       "      <td>(0.9724516, 0.23310483)</td>\n",
       "    </tr>\n",
       "    <tr>\n",
       "      <td>1</td>\n",
       "      <td>2</td>\n",
       "      <td>POLYGON ((505080 7707690, 505080 7707660, 5050...</td>\n",
       "      <td>4260.0</td>\n",
       "      <td>(504491.3095238095, 7707259.523809524)</td>\n",
       "      <td>(0.998991568985452, 0.04489816361483868)</td>\n",
       "    </tr>\n",
       "    <tr>\n",
       "      <td>2</td>\n",
       "      <td>3</td>\n",
       "      <td>POLYGON ((506520 7707660, 506520 7707630, 5064...</td>\n",
       "      <td>2160.0</td>\n",
       "      <td>(506263.36363636365, 7707473.181818182)</td>\n",
       "      <td>(0.9492476, 0.31452978)</td>\n",
       "    </tr>\n",
       "    <tr>\n",
       "      <td>3</td>\n",
       "      <td>4</td>\n",
       "      <td>(POLYGON ((507450 7707630, 507420 7707630, 507...</td>\n",
       "      <td>7140.0</td>\n",
       "      <td>(508104.7368421053, 7706691.804511278)</td>\n",
       "      <td>(0.44568253, -0.8951911)</td>\n",
       "    </tr>\n",
       "    <tr>\n",
       "      <td>4</td>\n",
       "      <td>5</td>\n",
       "      <td>(POLYGON ((505140 7707510, 505140 7707450, 505...</td>\n",
       "      <td>4020.0</td>\n",
       "      <td>(504499.1304347826, 7707085.507246377)</td>\n",
       "      <td>(0.9204698, 0.39081362)</td>\n",
       "    </tr>\n",
       "  </tbody>\n",
       "</table>\n",
       "</div>"
      ],
      "text/plain": [
       "   label                                           geometry  perimeter  \\\n",
       "0      1  POLYGON ((506490 7707810, 506490 7707780, 5064...     2040.0   \n",
       "1      2  POLYGON ((505080 7707690, 505080 7707660, 5050...     4260.0   \n",
       "2      3  POLYGON ((506520 7707660, 506520 7707630, 5064...     2160.0   \n",
       "3      4  (POLYGON ((507450 7707630, 507420 7707630, 507...     7140.0   \n",
       "4      5  (POLYGON ((505140 7707510, 505140 7707450, 505...     4020.0   \n",
       "\n",
       "                                       node  \\\n",
       "0  (506200.54054054053, 7707611.3513513515)   \n",
       "1    (504491.3095238095, 7707259.523809524)   \n",
       "2   (506263.36363636365, 7707473.181818182)   \n",
       "3    (508104.7368421053, 7706691.804511278)   \n",
       "4    (504499.1304347826, 7707085.507246377)   \n",
       "\n",
       "                           flow_vector_perp  \n",
       "0                   (0.9724516, 0.23310483)  \n",
       "1  (0.998991568985452, 0.04489816361483868)  \n",
       "2                   (0.9492476, 0.31452978)  \n",
       "3                  (0.44568253, -0.8951911)  \n",
       "4                   (0.9204698, 0.39081362)  "
      ]
     },
     "execution_count": 17,
     "metadata": {},
     "output_type": "execute_result"
    }
   ],
   "source": [
    "%%time\n",
    "\n",
    "df_segments = get_segment_df(segments, chanG, profile)\n",
    "df_segments.head()"
   ]
  },
  {
   "cell_type": "markdown",
   "metadata": {},
   "source": [
    "We will save the geometries to a file for later inspection."
   ]
  },
  {
   "cell_type": "code",
   "execution_count": 18,
   "metadata": {},
   "outputs": [
    {
     "data": {
      "text/html": [
       "<div>\n",
       "<style scoped>\n",
       "    .dataframe tbody tr th:only-of-type {\n",
       "        vertical-align: middle;\n",
       "    }\n",
       "\n",
       "    .dataframe tbody tr th {\n",
       "        vertical-align: top;\n",
       "    }\n",
       "\n",
       "    .dataframe thead th {\n",
       "        text-align: right;\n",
       "    }\n",
       "</style>\n",
       "<table border=\"1\" class=\"dataframe\">\n",
       "  <thead>\n",
       "    <tr style=\"text-align: right;\">\n",
       "      <th></th>\n",
       "      <th></th>\n",
       "      <th>label</th>\n",
       "      <th>perimeter</th>\n",
       "      <th>node</th>\n",
       "      <th>flow_vector_perp</th>\n",
       "      <th>geometry</th>\n",
       "    </tr>\n",
       "  </thead>\n",
       "  <tbody>\n",
       "    <tr>\n",
       "      <td>0</td>\n",
       "      <td>0</td>\n",
       "      <td>1</td>\n",
       "      <td>2040.0</td>\n",
       "      <td>(506200.54054054053, 7707611.3513513515)</td>\n",
       "      <td>(0.9724516, 0.23310483)</td>\n",
       "      <td>POLYGON ((506490 7707810, 506490 7707780, 5064...</td>\n",
       "    </tr>\n",
       "    <tr>\n",
       "      <td>1</td>\n",
       "      <td>0</td>\n",
       "      <td>2</td>\n",
       "      <td>4260.0</td>\n",
       "      <td>(504491.3095238095, 7707259.523809524)</td>\n",
       "      <td>(0.998991568985452, 0.04489816361483868)</td>\n",
       "      <td>POLYGON ((505080 7707690, 505080 7707660, 5050...</td>\n",
       "    </tr>\n",
       "    <tr>\n",
       "      <td>2</td>\n",
       "      <td>0</td>\n",
       "      <td>3</td>\n",
       "      <td>2160.0</td>\n",
       "      <td>(506263.36363636365, 7707473.181818182)</td>\n",
       "      <td>(0.9492476, 0.31452978)</td>\n",
       "      <td>POLYGON ((506520 7707660, 506520 7707630, 5064...</td>\n",
       "    </tr>\n",
       "    <tr>\n",
       "      <td rowspan=\"2\" valign=\"top\">3</td>\n",
       "      <td>0</td>\n",
       "      <td>4</td>\n",
       "      <td>7140.0</td>\n",
       "      <td>(508104.7368421053, 7706691.804511278)</td>\n",
       "      <td>(0.44568253, -0.8951911)</td>\n",
       "      <td>POLYGON ((507450 7707630, 507420 7707630, 5074...</td>\n",
       "    </tr>\n",
       "    <tr>\n",
       "      <td>1</td>\n",
       "      <td>4</td>\n",
       "      <td>7140.0</td>\n",
       "      <td>(508104.7368421053, 7706691.804511278)</td>\n",
       "      <td>(0.44568253, -0.8951911)</td>\n",
       "      <td>POLYGON ((507480 7707570, 507510 7707570, 5075...</td>\n",
       "    </tr>\n",
       "  </tbody>\n",
       "</table>\n",
       "</div>"
      ],
      "text/plain": [
       "     label  perimeter                                      node  \\\n",
       "0 0      1     2040.0  (506200.54054054053, 7707611.3513513515)   \n",
       "1 0      2     4260.0    (504491.3095238095, 7707259.523809524)   \n",
       "2 0      3     2160.0   (506263.36363636365, 7707473.181818182)   \n",
       "3 0      4     7140.0    (508104.7368421053, 7706691.804511278)   \n",
       "  1      4     7140.0    (508104.7368421053, 7706691.804511278)   \n",
       "\n",
       "                             flow_vector_perp  \\\n",
       "0 0                   (0.9724516, 0.23310483)   \n",
       "1 0  (0.998991568985452, 0.04489816361483868)   \n",
       "2 0                   (0.9492476, 0.31452978)   \n",
       "3 0                  (0.44568253, -0.8951911)   \n",
       "  1                  (0.44568253, -0.8951911)   \n",
       "\n",
       "                                              geometry  \n",
       "0 0  POLYGON ((506490 7707810, 506490 7707780, 5064...  \n",
       "1 0  POLYGON ((505080 7707690, 505080 7707660, 5050...  \n",
       "2 0  POLYGON ((506520 7707660, 506520 7707630, 5064...  \n",
       "3 0  POLYGON ((507450 7707630, 507420 7707630, 5074...  \n",
       "  1  POLYGON ((507480 7707570, 507510 7707570, 5075...  "
      ]
     },
     "execution_count": 18,
     "metadata": {},
     "output_type": "execute_result"
    }
   ],
   "source": [
    "# From https://gist.github.com/mhweber/cf36bb4e09df9deee5eb54dc6be74d26\n",
    "\n",
    "df_segments_out = df_segments.explode()\n",
    "df_segments_out.head()"
   ]
  },
  {
   "cell_type": "code",
   "execution_count": 19,
   "metadata": {},
   "outputs": [],
   "source": [
    "# From: https://gist.github.com/mhweber/cf36bb4e09df9deee5eb54dc6be74d26\n",
    "# To make multipolygons --> polygons after merging them.\n",
    "\n",
    "def explode(gdf):\n",
    "    \"\"\" \n",
    "    Explodes a geodataframe \n",
    "    \n",
    "    Will explode muti-part geometries into single geometries. Original index is\n",
    "    stored in column level_0 and zero-based count of geometries per multi-\n",
    "    geometry is stored in level_1\n",
    "    \n",
    "    Args:\n",
    "        gdf (gpd.GeoDataFrame) : input geodataframe with multi-geometries\n",
    "        \n",
    "    Returns:\n",
    "        gdf (gpd.GeoDataFrame) : exploded geodataframe with a new index \n",
    "                                 and two new columns: level_0 and level_1\n",
    "        \n",
    "    \"\"\"\n",
    "    gs = gdf.explode()\n",
    "    gdf2 = gs.reset_index().rename(columns={0: 'geometry'})\n",
    "    gdf_out = gdf2.merge(gdf.drop('geometry', axis=1), left_on='level_0', right_index=True)\n",
    "    gdf_out = gdf_out.set_index(['level_0', 'level_1']).set_geometry('geometry')\n",
    "    gdf_out.crs = gdf.crs\n",
    "    return gdf_out"
   ]
  },
  {
   "cell_type": "code",
   "execution_count": 20,
   "metadata": {},
   "outputs": [
    {
     "name": "stderr",
     "output_type": "stream",
     "text": [
      "/Users/cmarshak/anaconda3/lib/python3.7/site-packages/geopandas/io/file.py:108: FionaDeprecationWarning: Use fiona.Env() instead.\n",
      "  with fiona.drivers():\n"
     ]
    }
   ],
   "source": [
    "df_segments_out = split_tuple_pairs(df_segments)\n",
    "df_segments_out = explode(df_segments_out)\n",
    "df_segments_out.to_file(site_dir/'segments.geojson', \n",
    "                        driver='GeoJSON')"
   ]
  },
  {
   "cell_type": "markdown",
   "metadata": {},
   "source": [
    "Now we extract the widths are associated geometry. This is the most expensive computation in the notebook, so be very patient. Could take 5 minutes or so."
   ]
  },
  {
   "cell_type": "code",
   "execution_count": 21,
   "metadata": {},
   "outputs": [
    {
     "name": "stdout",
     "output_type": "stream",
     "text": [
      "CPU times: user 1min 24s, sys: 289 ms, total: 1min 24s\n",
      "Wall time: 1min 25s\n"
     ]
    },
    {
     "data": {
      "text/html": [
       "<div>\n",
       "<style scoped>\n",
       "    .dataframe tbody tr th:only-of-type {\n",
       "        vertical-align: middle;\n",
       "    }\n",
       "\n",
       "    .dataframe tbody tr th {\n",
       "        vertical-align: top;\n",
       "    }\n",
       "\n",
       "    .dataframe thead th {\n",
       "        text-align: right;\n",
       "    }\n",
       "</style>\n",
       "<table border=\"1\" class=\"dataframe\">\n",
       "  <thead>\n",
       "    <tr style=\"text-align: right;\">\n",
       "      <th></th>\n",
       "      <th>label</th>\n",
       "      <th>node</th>\n",
       "      <th>geometry</th>\n",
       "      <th>width_m</th>\n",
       "    </tr>\n",
       "  </thead>\n",
       "  <tbody>\n",
       "    <tr>\n",
       "      <td>0</td>\n",
       "      <td>1</td>\n",
       "      <td>(506200.54054054053, 7707611.3513513515)</td>\n",
       "      <td>LINESTRING (506520.00001 7707687.928470092, 50...</td>\n",
       "      <td>634.600687</td>\n",
       "    </tr>\n",
       "    <tr>\n",
       "      <td>1</td>\n",
       "      <td>2</td>\n",
       "      <td>(504491.3095238095, 7707259.523809524)</td>\n",
       "      <td>LINESTRING (504960.00001 7707280.588393838, 50...</td>\n",
       "      <td>450.454272</td>\n",
       "    </tr>\n",
       "    <tr>\n",
       "      <td>2</td>\n",
       "      <td>3</td>\n",
       "      <td>(506263.36363636365, 7707473.181818182)</td>\n",
       "      <td>LINESTRING (506580.00001 7707578.09814138, 505...</td>\n",
       "      <td>632.079571</td>\n",
       "    </tr>\n",
       "    <tr>\n",
       "      <td>3</td>\n",
       "      <td>4</td>\n",
       "      <td>(508104.7368421053, 7706691.804511278)</td>\n",
       "      <td>LINESTRING (508050.00001 7706801.748071255, 50...</td>\n",
       "      <td>154.438467</td>\n",
       "    </tr>\n",
       "    <tr>\n",
       "      <td>4</td>\n",
       "      <td>5</td>\n",
       "      <td>(504499.1304347826, 7707085.507246377)</td>\n",
       "      <td>LINESTRING (504960.00001 7707281.183522252, 50...</td>\n",
       "      <td>1108.129767</td>\n",
       "    </tr>\n",
       "  </tbody>\n",
       "</table>\n",
       "</div>"
      ],
      "text/plain": [
       "   label                                      node  \\\n",
       "0      1  (506200.54054054053, 7707611.3513513515)   \n",
       "1      2    (504491.3095238095, 7707259.523809524)   \n",
       "2      3   (506263.36363636365, 7707473.181818182)   \n",
       "3      4    (508104.7368421053, 7706691.804511278)   \n",
       "4      5    (504499.1304347826, 7707085.507246377)   \n",
       "\n",
       "                                            geometry      width_m  \n",
       "0  LINESTRING (506520.00001 7707687.928470092, 50...   634.600687  \n",
       "1  LINESTRING (504960.00001 7707280.588393838, 50...   450.454272  \n",
       "2  LINESTRING (506580.00001 7707578.09814138, 505...   632.079571  \n",
       "3  LINESTRING (508050.00001 7706801.748071255, 50...   154.438467  \n",
       "4  LINESTRING (504960.00001 7707281.183522252, 50...  1108.129767  "
      ]
     },
     "execution_count": 21,
     "metadata": {},
     "output_type": "execute_result"
    }
   ],
   "source": [
    "%%time\n",
    "\n",
    "df_geo_widths = get_geo_width_df(df_segments, chanG, radius=1)\n",
    "df_geo_widths.head()"
   ]
  },
  {
   "cell_type": "markdown",
   "metadata": {},
   "source": [
    "Let's save the widths again for later inspection."
   ]
  },
  {
   "cell_type": "code",
   "execution_count": 22,
   "metadata": {},
   "outputs": [],
   "source": [
    "df_geo_widths_out = split_tuple_pairs(df_geo_widths)\n",
    "df_geo_widths_out = explode(df_geo_widths_out)\n",
    "df_geo_widths_out.to_file(site_dir/'width_geometries.geojson', \n",
    "                          driver='GeoJSON')"
   ]
  },
  {
   "cell_type": "markdown",
   "metadata": {},
   "source": [
    "We update the node attributes. And we see all of the attributes we have added."
   ]
  },
  {
   "cell_type": "code",
   "execution_count": 23,
   "metadata": {},
   "outputs": [
    {
     "data": {
      "text/plain": [
       "((532127.3684210526, 7598432.98245614),\n",
       " {'label': 15138,\n",
       "  'meters_to_interface': 67502.63917727376,\n",
       "  'x': 532127.3684210526,\n",
       "  'y': 7598432.98245614,\n",
       "  'interface_adj': False,\n",
       "  'graph_degree': 2,\n",
       "  'cc_id': 0,\n",
       "  'width_from_segment': 937.4709297958259,\n",
       "  'flow_vector_perp_grad': (0.24091133, 0.97054714),\n",
       "  'flow_vector_network': (0.9900715437642892, 0.14056435617964214),\n",
       "  'flow_vector_perp_network': (-0.14056435617964214, 0.9900715437642892),\n",
       "  'flow_vector_perp': (0.24091133, 0.97054714),\n",
       "  'width_m': 1020.043221184196})"
      ]
     },
     "execution_count": 23,
     "metadata": {},
     "output_type": "execute_result"
    }
   ],
   "source": [
    "chanG = update_graph_with_widths(chanG, df_geo_widths)\n",
    "\n",
    "node_data =dict(chanG.nodes(data=True))\n",
    "random.choice(list(node_data.items()))"
   ]
  },
  {
   "cell_type": "markdown",
   "metadata": {},
   "source": [
    "# Save Network\n",
    "\n",
    "We now save the nodes and edges to `geojson` files and serialize the NetworkX `DiGraph` with `pickle`."
   ]
  },
  {
   "cell_type": "code",
   "execution_count": 24,
   "metadata": {},
   "outputs": [],
   "source": [
    "df_nodes = export_nodes_to_geodataframe(chanG, profile['crs'])\n",
    "# If df_nodes is not writing, then drop columns with tuples\n",
    "# We found that flow_vector_perp may not be defined in some \n",
    "# of the segments near channels and `split tuple pairs` only \n",
    "# inspects the first row of each column\n",
    "df_nodes = split_tuple_pairs(df_nodes)"
   ]
  },
  {
   "cell_type": "code",
   "execution_count": 25,
   "metadata": {},
   "outputs": [],
   "source": [
    "df_edges = export_edges_to_geodataframe(chanG, profile['crs'])"
   ]
  },
  {
   "cell_type": "code",
   "execution_count": 26,
   "metadata": {},
   "outputs": [],
   "source": [
    "df_edges.to_file(site_dir/f'{site_name}_edges.geojson', driver='GeoJSON')\n",
    "df_nodes['interface_adj'] = df_nodes.interface_adj.astype(int)\n",
    "df_nodes.to_file(site_dir/f'{site_name}_nodes.geojson', driver='GeoJSON')\n",
    "nx.write_gpickle(chanG, site_dir/f'{site_name}_network.pkl')"
   ]
  }
 ],
 "metadata": {
  "kernelspec": {
   "display_name": "Python 3",
   "language": "python",
   "name": "python3"
  },
  "language_info": {
   "codemirror_mode": {
    "name": "ipython",
    "version": 3
   },
   "file_extension": ".py",
   "mimetype": "text/x-python",
   "name": "python",
   "nbconvert_exporter": "python",
   "pygments_lexer": "ipython3",
   "version": "3.7.3"
  }
 },
 "nbformat": 4,
 "nbformat_minor": 2
}
