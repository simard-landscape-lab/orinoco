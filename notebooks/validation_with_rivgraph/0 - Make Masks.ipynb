{
 "cells": [
  {
   "cell_type": "markdown",
   "metadata": {},
   "source": [
    "We are going to extract our network using data from the RivGraph application [paper](https://esurf.copernicus.org/articles/8/87/2020/esurf-8-87-2020.html) Supplemental data found [here](https://esurf.copernicus.org/articles/8/87/2020/esurf-8-87-2020-supplement.zip). We use this comparison to validate our measure of direction."
   ]
  },
  {
   "cell_type": "code",
   "execution_count": 1,
   "metadata": {},
   "outputs": [],
   "source": [
    "import rasterio\n",
    "import matplotlib.pyplot as plt\n",
    "import numpy as np\n",
    "from pathlib import Path\n",
    "import pyproj\n",
    "import geopandas as gpd\n",
    "from rasterio import features\n",
    "from rasterio.warp import transform_bounds\n",
    "import scipy.ndimage as nd\n",
    "from orinoco import (filter_binary_array_by_min_size, \n",
    "                     polygonize_array_to_shapefile, \n",
    "                     get_cropped_profile,\n",
    "                     rasterize_shapes_to_array)\n",
    "from tqdm import tqdm\n",
    "import scipy.ndimage as nd\n",
    "from skimage import measure"
   ]
  },
  {
   "cell_type": "markdown",
   "metadata": {},
   "source": [
    "# Specify the Site Directory"
   ]
  },
  {
   "cell_type": "code",
   "execution_count": 2,
   "metadata": {},
   "outputs": [],
   "source": [
    "site_name = 'mackenzie'"
   ]
  },
  {
   "cell_type": "code",
   "execution_count": 3,
   "metadata": {},
   "outputs": [
    {
     "data": {
      "text/plain": [
       "True"
      ]
     },
     "execution_count": 3,
     "metadata": {},
     "output_type": "execute_result"
    }
   ],
   "source": [
    "esurf_data = Path(f'esurf_data/{site_name}')\n",
    "esurf_data.exists()"
   ]
  },
  {
   "cell_type": "markdown",
   "metadata": {},
   "source": [
    "# Create a Tile Directory for Output Proudcts\n",
    "\n",
    "We use the tile name to create a directory for our products."
   ]
  },
  {
   "cell_type": "code",
   "execution_count": 4,
   "metadata": {},
   "outputs": [],
   "source": [
    "site_dir = Path(f'out/{site_name}')\n",
    "site_dir.mkdir(exist_ok=True, parents=True)"
   ]
  },
  {
   "cell_type": "markdown",
   "metadata": {},
   "source": [
    "# Crop The Water Mask Data\n",
    "\n",
    "Let's first inspect the data."
   ]
  },
  {
   "cell_type": "code",
   "execution_count": 5,
   "metadata": {},
   "outputs": [
    {
     "data": {
      "text/plain": [
       "{'driver': 'GTiff', 'dtype': 'float32', 'nodata': None, 'width': 5564, 'height': 8825, 'count': 1, 'crs': CRS.from_epsg(32608), 'transform': Affine(30.0, 0.0, 413640.0,\n",
       "       0.0, -30.0, 7744740.0), 'tiled': False, 'compress': 'lzw', 'interleave': 'band'}"
      ]
     },
     "execution_count": 5,
     "metadata": {},
     "output_type": "execute_result"
    }
   ],
   "source": [
    "with rasterio.open(esurf_data/f'{site_name.capitalize()}_dist.tif') as ds:\n",
    "    # distance == 0 is land and distance > 0 is water\n",
    "    water_mask = ds.read(1).astype(bool).astype(int)\n",
    "    profile = ds.profile\n",
    "profile"
   ]
  },
  {
   "cell_type": "code",
   "execution_count": 6,
   "metadata": {},
   "outputs": [
    {
     "data": {
      "text/plain": [
       "<matplotlib.image.AxesImage at 0x7fa570fa0dd8>"
      ]
     },
     "execution_count": 6,
     "metadata": {},
     "output_type": "execute_result"
    },
    {
     "data": {
      "image/png": "[encoded data removed]",
      "text/plain": [
       "<Figure size 720x720 with 1 Axes>"
      ]
     },
     "metadata": {
      "needs_background": "light"
     },
     "output_type": "display_data"
    }
   ],
   "source": [
    "plt.figure(figsize=(10, 10))\n",
    "plt.imshow(water_mask)"
   ]
  },
  {
   "cell_type": "code",
   "execution_count": 7,
   "metadata": {},
   "outputs": [],
   "source": [
    "p = profile.copy()\n",
    "p['dtype'] = 'uint8'\n",
    "with rasterio.open(site_dir/f'water_mask_{site_name}.tif', 'w', **p) as ds:\n",
    "    ds.write(water_mask.astype(np.uint8), 1)"
   ]
  },
  {
   "cell_type": "markdown",
   "metadata": {},
   "source": [
    "# Initialization Mask\n",
    "\n",
    "We use this hydropolys [dataset](https://apps.gis.ucla.edu/geodata/dataset/world_water_bodies/resource/a6b40af0-84cb-40ce-b1c5-b024527a6943). This is a large dataset and we put it on an external hard drive (update the path below accordingly). The supplemental data has a shoreline. We include both this and the shoreline and remove land areas that are below a threshold."
   ]
  },
  {
   "cell_type": "code",
   "execution_count": 8,
   "metadata": {},
   "outputs": [
    {
     "data": {
      "text/plain": [
       "True"
      ]
     },
     "execution_count": 8,
     "metadata": {},
     "output_type": "execute_result"
    }
   ],
   "source": [
    "water_body_shapefile = Path('/Volumes/BigData/river_data/hydropolys')\n",
    "water_body_shapefile.exists()"
   ]
  },
  {
   "cell_type": "markdown",
   "metadata": {},
   "source": [
    "We utilize rasterio's [`rasterize`](https://rasterio.readthedocs.io/en/latest/topics/features.html#burning-shapes-into-a-raster) to transalte the ocean geometry from the dataset above."
   ]
  },
  {
   "cell_type": "code",
   "execution_count": 9,
   "metadata": {},
   "outputs": [],
   "source": [
    "def translate_one(geometry, profile):\n",
    "    shapes = [(geometry, 1)]\n",
    "    out_arr = np.zeros((profile['height'], profile['width']))\n",
    "    burned = features.rasterize(shapes=shapes,\n",
    "                                out=out_arr,\n",
    "                                transform=profile['transform'],\n",
    "                                all_touched=True)\n",
    "    return burned"
   ]
  },
  {
   "cell_type": "markdown",
   "metadata": {},
   "source": [
    "We obtain the bounds of our dataset and use this to read a subset of the large shapefile consisting of global waterbodies. Then we translate the shapefile into a raster."
   ]
  },
  {
   "cell_type": "code",
   "execution_count": 12,
   "metadata": {},
   "outputs": [
    {
     "data": {
      "text/plain": [
       "<matplotlib.image.AxesImage at 0x7fa5c0b7f780>"
      ]
     },
     "execution_count": 12,
     "metadata": {},
     "output_type": "execute_result"
    },
    {
     "data": {
      "image/png": "[encoded data removed]",
      "text/plain": [
       "<Figure size 432x288 with 1 Axes>"
      ]
     },
     "metadata": {
      "needs_background": "light"
     },
     "output_type": "display_data"
    }
   ],
   "source": [
    "with rasterio.open(site_dir/f'water_mask_{site_name}.tif') as ds:\n",
    "    bounds = ds.bounds\n",
    "    crs = str(ds.crs).lower()\n",
    "    profile = ds.profile\n",
    "bounds_4326 = transform_bounds(crs, 'epsg:4326', *bounds)\n",
    "oceanline_df = gpd.read_file(water_body_shapefile, bbox=bounds_4326).to_crs({'init':crs})\n",
    "oceanline_df = oceanline_df[oceanline_df['TYPE'] == 'Ocean or Sea'].copy()\n",
    "ocean_geometry = oceanline_df.geometry.unary_union.buffer(1e-9)\n",
    "ocean_mask = translate_one(ocean_geometry, profile)\n",
    "plt.imshow(ocean_mask, interpolation='none')"
   ]
  },
  {
   "cell_type": "markdown",
   "metadata": {},
   "source": [
    "We rasterize the shoreline and remove intermediately sized land bodies as these are the areas between the shoreline and ocean."
   ]
  },
  {
   "cell_type": "code",
   "execution_count": 13,
   "metadata": {},
   "outputs": [
    {
     "data": {
      "text/plain": [
       "<matplotlib.image.AxesImage at 0x7fa5609679b0>"
      ]
     },
     "execution_count": 13,
     "metadata": {},
     "output_type": "execute_result"
    },
    {
     "data": {
      "image/png": "[encoded data removed]",
      "text/plain": [
       "<Figure size 432x288 with 1 Axes>"
      ]
     },
     "metadata": {
      "needs_background": "light"
     },
     "output_type": "display_data"
    }
   ],
   "source": [
    "df_shoreline = gpd.read_file(esurf_data/f'{site_name}_shoreline.shp')\n",
    "shoreline = translate_one(df_shoreline.geometry[0], profile)\n",
    "shoreline = nd.binary_dilation(shoreline, iterations=1)\n",
    "plt.imshow(shoreline)"
   ]
  },
  {
   "cell_type": "code",
   "execution_count": 14,
   "metadata": {},
   "outputs": [
    {
     "data": {
      "text/plain": [
       "<matplotlib.image.AxesImage at 0x7fa56043fdd8>"
      ]
     },
     "execution_count": 14,
     "metadata": {},
     "output_type": "execute_result"
    },
    {
     "data": {
      "image/png": "[encoded data removed]",
      "text/plain": [
       "<Figure size 432x288 with 1 Axes>"
      ]
     },
     "metadata": {
      "needs_background": "light"
     },
     "output_type": "display_data"
    }
   ],
   "source": [
    "ocean_mask = shoreline.astype(bool) | ocean_mask.astype(bool)\n",
    "ocean_mask = 1 - filter_binary_array_by_min_size(1 - ocean_mask.astype(int),\n",
    "                                                 min_size=ocean_mask.size * .2)\n",
    "plt.imshow(ocean_mask)"
   ]
  },
  {
   "cell_type": "markdown",
   "metadata": {},
   "source": [
    "We save the raster to our product directory."
   ]
  },
  {
   "cell_type": "code",
   "execution_count": 16,
   "metadata": {},
   "outputs": [],
   "source": [
    "with rasterio.open(site_dir/f'ocean_mask_{site_name}.tif', 'w', **p) as ds:\n",
    "    ds.write(ocean_mask.astype('uint8'), 1)"
   ]
  },
  {
   "cell_type": "code",
   "execution_count": null,
   "metadata": {},
   "outputs": [],
   "source": []
  }
 ],
 "metadata": {
  "kernelspec": {
   "display_name": "centerlines",
   "language": "python",
   "name": "centerlines"
  },
  "language_info": {
   "codemirror_mode": {
    "name": "ipython",
    "version": 3
   },
   "file_extension": ".py",
   "mimetype": "text/x-python",
   "name": "python",
   "nbconvert_exporter": "python",
   "pygments_lexer": "ipython3",
   "version": "3.6.7"
  }
 },
 "nbformat": 4,
 "nbformat_minor": 2
}
