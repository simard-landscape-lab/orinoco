{
 "cells": [
  {
   "cell_type": "markdown",
   "metadata": {},
   "source": [
    "We are going to reproject our raster projects to lat/lon for visualization."
   ]
  },
  {
   "cell_type": "code",
   "execution_count": 1,
   "metadata": {},
   "outputs": [],
   "source": [
    "import rasterio\n",
    "import numpy as np\n",
    "import matplotlib.pyplot as plt\n",
    "from orinoco import reproject_arr_to_match_profile, reproject_profile_to_new_crs\n",
    "from pathlib import Path\n",
    "import glob\n",
    "from tqdm import tqdm\n",
    "from rasterio.warp import calculate_default_transform"
   ]
  },
  {
   "cell_type": "markdown",
   "metadata": {},
   "source": [
    "# Data Paths"
   ]
  },
  {
   "cell_type": "code",
   "execution_count": 2,
   "metadata": {},
   "outputs": [
    {
     "data": {
      "text/plain": [
       "True"
      ]
     },
     "execution_count": 2,
     "metadata": {},
     "output_type": "execute_result"
    }
   ],
   "source": [
    "tile_name = 'NR08'\n",
    "\n",
    "tile_dir = Path(f'out/{tile_name}')\n",
    "tile_dir.exists()"
   ]
  },
  {
   "cell_type": "markdown",
   "metadata": {},
   "source": [
    "# Automate Reprojection\n",
    "\n",
    "We get a reference rasterio profile from one of the rasters in the tile directory and then reproject all the rasters to that profile."
   ]
  },
  {
   "cell_type": "code",
   "execution_count": 3,
   "metadata": {},
   "outputs": [],
   "source": [
    "def get_reference_tif_profile(tile_name):\n",
    "    with rasterio.open(tile_dir/f'distance_{tile_name}.tif') as ds:\n",
    "        src_profile = ds.profile\n",
    "    profile_4326 = reproject_profile_to_new_crs(src_profile, \n",
    "                                                'epsg:4326',\n",
    "                                                 target_resolution= 0.0002\n",
    "                                                )\n",
    "    \n",
    "    return profile_4326\n",
    "\n",
    "def reproject_singe_band(tif_path, reference_profile, out_dir):\n",
    "    # open raster with metadata\n",
    "    with rasterio.open(tif_path) as ds:\n",
    "        band = ds.read(1)\n",
    "        profile = ds.profile\n",
    "    \n",
    "    # reproject data to reference profile\n",
    "    band_r, _ = reproject_arr_to_match_profile(band, profile, reference_profile, resampling='nearest')\n",
    "    # Reshape from (1 x m x n) to (m x n); we only have 1 channel images here\n",
    "    band_r = band_r[0, ...]\n",
    "    \n",
    "    # Write reprojected array to disk\n",
    "    p = reference_profile.copy()\n",
    "    dtype = profile['dtype']\n",
    "    p['dtype'] = dtype\n",
    "    with rasterio.open(out_dir/tif_path.name, 'w', **p) as ds:\n",
    "        ds.write(band_r.astype(dtype), 1)\n",
    "    return out_dir/tif_path.name\n",
    "\n",
    "def reproject_tile_data(tile_name):    \n",
    "    # Get all the tifs from the tile directory\n",
    "    tile_dir = Path(f'out/{tile_name}')\n",
    "    tifs = list(tile_dir.glob('*.tif'))\n",
    "\n",
    "    # Make a destination directory (if it doesn't already exist)\n",
    "    out_dir = Path(str(tile_dir) + '_4326')\n",
    "    out_dir.mkdir(exist_ok=True, parents=True)\n",
    "    \n",
    "    # Get reference profile\n",
    "    reference_profile = get_reference_tif_profile(tile_name)\n",
    "    \n",
    "    \n",
    "    # Reproject everything\n",
    "    def reproj_partial(tif_path):\n",
    "        return reproject_singe_band(tif_path, reference_profile, out_dir)\n",
    "    \n",
    "    out_tifs = list(map(reproj_partial, tqdm(tifs)))\n",
    "    return out_tifs"
   ]
  },
  {
   "cell_type": "code",
   "execution_count": 4,
   "metadata": {},
   "outputs": [
    {
     "name": "stderr",
     "output_type": "stream",
     "text": [
      "100%|██████████| 7/7 [00:07<00:00,  1.02s/it]\n"
     ]
    },
    {
     "data": {
      "text/plain": [
       "[PosixPath('out/NR08_4326/segments_NR08.tif'),\n",
       " PosixPath('out/NR08_4326/distance_NR08.tif'),\n",
       " PosixPath('out/NR08_4326/ocean_mask_NR08.tif'),\n",
       " PosixPath('out/NR08_4326/segments_rgb_NR08.tif'),\n",
       " PosixPath('out/NR08_4326/width_differences.tif'),\n",
       " PosixPath('out/NR08_4326/seg_test.tif'),\n",
       " PosixPath('out/NR08_4326/water_mask_NR08.tif')]"
      ]
     },
     "execution_count": 4,
     "metadata": {},
     "output_type": "execute_result"
    }
   ],
   "source": [
    "reproject_tile_data(tile_name)"
   ]
  }
 ],
 "metadata": {
  "kernelspec": {
   "display_name": "Python 3",
   "language": "python",
   "name": "python3"
  },
  "language_info": {
   "codemirror_mode": {
    "name": "ipython",
    "version": 3
   },
   "file_extension": ".py",
   "mimetype": "text/x-python",
   "name": "python",
   "nbconvert_exporter": "python",
   "pygments_lexer": "ipython3",
   "version": "3.7.6"
  },
  "nteract": {
   "version": "0.15.0"
  }
 },
 "nbformat": 4,
 "nbformat_minor": 2
}
