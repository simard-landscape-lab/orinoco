{
 "cells": [
  {
   "cell_type": "markdown",
   "metadata": {},
   "source": [
    "We use `notebooks/examples/1 - Make Channel Network` removing extraneous discussion and visualizations wherever possible. We also include a node attribute that uses the distance transform in a node's associated segment. This will be used to very roughly compare [RivGraph](https://github.com/jonschwenk/RivGraph/tree/master/rivgraph) and [ChanGeom](https://www.burchfisher.com/data.html)'s approach to measuring width."
   ]
  },
  {
   "cell_type": "code",
   "execution_count": 1,
   "metadata": {},
   "outputs": [],
   "source": [
    "import rasterio\n",
    "import matplotlib.pyplot as plt\n",
    "import numpy as np\n",
    "from pathlib import Path\n",
    "import networkx as nx\n",
    "from orinoco import (get_distance_along_channel_using_fmm,\n",
    "                     get_distance_segments,\n",
    "                     get_undirected_channel_network,\n",
    "                     direct_channel_network_using_distance,\n",
    "                     export_edges_to_geodataframe,\n",
    "                     export_nodes_to_geodataframe,\n",
    "                     get_map_centroid_from_binary_mask,\n",
    "                     apply_func_to_superpixels,\n",
    "                     get_array_from_features,\n",
    "                     get_width_features_from_segments,\n",
    "                     add_flow_attributes,\n",
    "                     change_tuples_to_vector,\n",
    "                     get_geopandas_features_from_array,\n",
    "                     get_RAG_neighbors,\n",
    "                     get_segment_df,\n",
    "                     get_width_features_from_segments,\n",
    "                     get_geo_width_df,\n",
    "                     update_graph_with_widths,\n",
    "                     add_width_features_to_graph,\n",
    "                     )\n",
    "from skimage.color import label2rgb\n",
    "import random\n",
    "from shapely.geometry import Point, LineString, MultiLineString, GeometryCollection\n",
    "from shapely.ops import unary_union\n",
    "import geopandas as gpd\n",
    "import scipy.ndimage as nd\n",
    "from scipy.ndimage import find_objects\n",
    "from rasterio import features\n",
    "from tqdm import tqdm\n",
    "from rasterio.transform import rowcol"
   ]
  },
  {
   "cell_type": "markdown",
   "metadata": {},
   "source": [
    "# Initialize the Tile Directory"
   ]
  },
  {
   "cell_type": "code",
   "execution_count": 2,
   "metadata": {},
   "outputs": [
    {
     "data": {
      "text/plain": [
       "True"
      ]
     },
     "execution_count": 2,
     "metadata": {},
     "output_type": "execute_result"
    }
   ],
   "source": [
    "tile_name = 'NR08'\n",
    "\n",
    "tile_dir = Path(f'out/{tile_name}')\n",
    "tile_dir.exists()"
   ]
  },
  {
   "cell_type": "markdown",
   "metadata": {},
   "source": [
    "# Read Data from the Tile Directory"
   ]
  },
  {
   "cell_type": "code",
   "execution_count": 3,
   "metadata": {},
   "outputs": [],
   "source": [
    "with rasterio.open(tile_dir/f'water_mask_{tile_name}.tif') as ds:\n",
    "    water_mask = ds.read(1)\n",
    "with rasterio.open(tile_dir/f'ocean_mask_{tile_name}.tif') as ds:\n",
    "    ocean_mask = ds.read(1)\n",
    "    profile = ds.profile"
   ]
  },
  {
   "cell_type": "code",
   "execution_count": 4,
   "metadata": {},
   "outputs": [
    {
     "data": {
      "text/plain": [
       "<matplotlib.image.AxesImage at 0x7f9c20743050>"
      ]
     },
     "execution_count": 4,
     "metadata": {},
     "output_type": "execute_result"
    },
    {
     "data": {
      "image/png": "[encoded data removed]",
      "text/plain": [
       "<Figure size 432x288 with 1 Axes>"
      ]
     },
     "metadata": {
      "needs_background": "light"
     },
     "output_type": "display_data"
    }
   ],
   "source": [
    "plt.imshow(water_mask, interpolation='none')"
   ]
  },
  {
   "cell_type": "markdown",
   "metadata": {},
   "source": [
    "# Generate Orinoco Products\n",
    "\n",
    "## Obtaining the Distance Function"
   ]
  },
  {
   "cell_type": "code",
   "execution_count": 5,
   "metadata": {},
   "outputs": [
    {
     "data": {
      "text/plain": [
       "<matplotlib.image.AxesImage at 0x7f9c202ea450>"
      ]
     },
     "execution_count": 5,
     "metadata": {},
     "output_type": "execute_result"
    },
    {
     "data": {
      "image/png": "[encoded data removed]",
      "text/plain": [
       "<Figure size 432x288 with 1 Axes>"
      ]
     },
     "metadata": {
      "needs_background": "light"
     },
     "output_type": "display_data"
    }
   ],
   "source": [
    "transform = profile['transform']\n",
    "dx, dy = transform.a, -transform.e\n",
    "dist = get_distance_along_channel_using_fmm(water_mask,\n",
    "                                            ocean_mask,\n",
    "                                            dx=dx,\n",
    "                                            dy=dy,\n",
    "                                            # removes areas with less than percentage of total size\n",
    "                                            area_threshold=0.025,\n",
    "                                            # Applys a 1 pixel buffer for distance computation\n",
    "                                            # for artifical 8-connectivity.\n",
    "                                            # See: https://github.com/scikit-fmm/scikit-fmm/issues/32\n",
    "                                            # Removes buffer after computation complete.\n",
    "                                            apply_pixel_buffer_for_distance_comp=True\n",
    "                                            )\n",
    "plt.imshow(dist, interpolation='none')"
   ]
  },
  {
   "cell_type": "markdown",
   "metadata": {},
   "source": [
    "Save the distance product."
   ]
  },
  {
   "cell_type": "code",
   "execution_count": 6,
   "metadata": {},
   "outputs": [],
   "source": [
    "p = profile.copy()\n",
    "p['dtype'] = 'float32'\n",
    "with rasterio.open(tile_dir/f'distance_{tile_name}.tif', 'w', **p) as ds:\n",
    "    ds.write(dist.astype(np.float32), 1)"
   ]
  },
  {
   "cell_type": "markdown",
   "metadata": {},
   "source": [
    "## Segmentation of the Channel"
   ]
  },
  {
   "cell_type": "code",
   "execution_count": 33,
   "metadata": {},
   "outputs": [
    {
     "name": "stderr",
     "output_type": "stream",
     "text": [
      "rag neighbors: 100%|██████████| 1020/1020 [00:00<00:00, 21543.91it/s]\n"
     ]
    }
   ],
   "source": [
    "pixel_step = 5\n",
    "segments, interface_adj_segments = get_distance_segments(dist,\n",
    "                                                         pixel_step,\n",
    "                                                         dx=dx,\n",
    "                                                         dy=dy,\n",
    "                                                         connectivity=8,\n",
    "                                                         min_size=4)"
   ]
  },
  {
   "cell_type": "code",
   "execution_count": 34,
   "metadata": {},
   "outputs": [
    {
     "data": {
      "text/plain": [
       "<matplotlib.image.AxesImage at 0x7f9bc01aa950>"
      ]
     },
     "execution_count": 34,
     "metadata": {},
     "output_type": "execute_result"
    },
    {
     "data": {
      "image/png": "[encoded data removed]",
      "text/plain": [
       "<Figure size 432x288 with 1 Axes>"
      ]
     },
     "metadata": {
      "needs_background": "light"
     },
     "output_type": "display_data"
    }
   ],
   "source": [
    "segments_rgb = label2rgb(segments, bg_label=0)\n",
    "plt.imshow(segments_rgb, interpolation='none')"
   ]
  },
  {
   "cell_type": "markdown",
   "metadata": {},
   "source": [
    "We save both the `segments` and the `segments_rgb` to disk."
   ]
  },
  {
   "cell_type": "code",
   "execution_count": 35,
   "metadata": {},
   "outputs": [],
   "source": [
    "p = profile.copy()\n",
    "p['dtype'] = 'int32'\n",
    "with rasterio.open(tile_dir/f'segments_{tile_name}.tif', 'w', **p) as ds:\n",
    "    ds.write(segments.astype(np.int32), 1)\n",
    "\n",
    "p = profile.copy()\n",
    "p['dtype'] = 'float32'\n",
    "p['count'] = 3\n",
    "with rasterio.open(tile_dir/f'segments_rgb_{tile_name}.tif', 'w', **p) as ds:\n",
    "    ds.write(segments_rgb.transpose([2, 0, 1]).astype(np.float32))"
   ]
  },
  {
   "cell_type": "markdown",
   "metadata": {},
   "source": [
    "## Obtaining the Undirected Network"
   ]
  },
  {
   "cell_type": "code",
   "execution_count": 36,
   "metadata": {},
   "outputs": [
    {
     "data": {
      "text/plain": [
       "[(479655.0, 7617885.0)]"
      ]
     },
     "execution_count": 36,
     "metadata": {},
     "output_type": "execute_result"
    }
   ],
   "source": [
    "d = nx.get_node_attributes(chanG_undirected, 'label')\n",
    "[n for n, l in d.items() if l in [13465, 13483]]"
   ]
  },
  {
   "cell_type": "code",
   "execution_count": 37,
   "metadata": {},
   "outputs": [
    {
     "name": "stderr",
     "output_type": "stream",
     "text": [
      "rag neighbors: 100%|██████████| 1/1 [00:00<00:00, 1695.35it/s]\n"
     ]
    },
    {
     "data": {
      "text/plain": [
       "{13473: array([13431, 13513])}"
      ]
     },
     "execution_count": 37,
     "metadata": {},
     "output_type": "execute_result"
    }
   ],
   "source": [
    "get_RAG_neighbors(segments, [13473])"
   ]
  },
  {
   "cell_type": "code",
   "execution_count": 38,
   "metadata": {},
   "outputs": [
    {
     "data": {
      "text/plain": [
       "[(479595.0, 7618005.0), (479625.0, 7617945.0), (479655.0, 7617885.0)]"
      ]
     },
     "execution_count": 38,
     "metadata": {},
     "output_type": "execute_result"
    }
   ],
   "source": [
    "list(nx.all_neighbors(chanG_undirected, (479625.0, 7617945.0)))"
   ]
  },
  {
   "cell_type": "code",
   "execution_count": 39,
   "metadata": {},
   "outputs": [
    {
     "name": "stderr",
     "output_type": "stream",
     "text": [
      "rag neighbors: 100%|██████████| 24587/24587 [00:01<00:00, 21854.41it/s]\n",
      "adding edges: 100%|██████████| 24586/24586 [00:00<00:00, 174905.84it/s]\n"
     ]
    }
   ],
   "source": [
    "chanG_undirected = get_undirected_channel_network(segments, \n",
    "                                                  dist, \n",
    "                                                  profile, \n",
    "                                                  interface_adj_segments,\n",
    "                                                  connectivity=8)"
   ]
  },
  {
   "cell_type": "markdown",
   "metadata": {},
   "source": [
    "## Obtaining the Directed Network"
   ]
  },
  {
   "cell_type": "code",
   "execution_count": 40,
   "metadata": {},
   "outputs": [],
   "source": [
    "chanG = direct_channel_network_using_distance(chanG_undirected, \n",
    "                                              # The keywords below are how the pruning occurs\n",
    "                                              # Specifies pruning will be done\n",
    "                                              remove_danlging_segments=True, \n",
    "                                              # Do not prune nodes within 1 km of interface\n",
    "                                              meters_to_interface_filter_buffer=1_000,     \n",
    "                                              # Remove edge groups with an degree 1 endpoint and size <=3\n",
    "                                              segment_threshold=3,\n",
    "                                              # How many times to do this pruning\n",
    "                                              dangling_iterations=1\n",
    "                                              )"
   ]
  },
  {
   "cell_type": "markdown",
   "metadata": {},
   "source": [
    "Let's do a quick sanity check."
   ]
  },
  {
   "cell_type": "code",
   "execution_count": 41,
   "metadata": {},
   "outputs": [
    {
     "data": {
      "text/plain": [
       "<matplotlib.axes._subplots.AxesSubplot at 0x7f9bf0ba5b90>"
      ]
     },
     "execution_count": 41,
     "metadata": {},
     "output_type": "execute_result"
    },
    {
     "data": {
      "image/png": "[encoded data removed]",
      "text/plain": [
       "<Figure size 432x288 with 1 Axes>"
      ]
     },
     "metadata": {
      "needs_background": "light"
     },
     "output_type": "display_data"
    }
   ],
   "source": [
    "df_edges = export_edges_to_geodataframe(chanG, profile['crs'])\n",
    "df_edges.plot(column='segment_id', categorical=True)"
   ]
  },
  {
   "cell_type": "markdown",
   "metadata": {},
   "source": [
    "## Obtaining the Widths\n",
    "\n",
    "### Using the distance transform\n",
    "\n",
    "We are going to use the distance transform within a segment. We have a function that determines the width according to $2\\cdot d - 1$ where d is the distance to the land mask according to the distance transform in a small 1-pixel buffer around the segment (if this is 0, we use the full distance transform on the channel mask)."
   ]
  },
  {
   "cell_type": "code",
   "execution_count": 42,
   "metadata": {},
   "outputs": [
    {
     "data": {
      "text/plain": [
       "<matplotlib.colorbar.Colorbar at 0x7f9c22e6b410>"
      ]
     },
     "execution_count": 42,
     "metadata": {},
     "output_type": "execute_result"
    },
    {
     "data": {
      "image/png": "[encoded data removed]",
      "text/plain": [
       "<Figure size 432x288 with 2 Axes>"
      ]
     },
     "metadata": {
      "needs_background": "light"
     },
     "output_type": "display_data"
    }
   ],
   "source": [
    "width_features = get_width_features_from_segments(segments, profile)\n",
    "widths = get_array_from_features(segments, width_features)\n",
    "plt.imshow(widths, interpolation='none')\n",
    "plt.colorbar()"
   ]
  },
  {
   "cell_type": "markdown",
   "metadata": {},
   "source": [
    "We now add these attributes to the graph."
   ]
  },
  {
   "cell_type": "code",
   "execution_count": 43,
   "metadata": {},
   "outputs": [
    {
     "data": {
      "text/plain": [
       "((454422.0, 7624395.0),\n",
       " {'label': 10959,\n",
       "  'meters_to_interface': 22051.824994055172,\n",
       "  'x': 454422.0,\n",
       "  'y': 7624395.0,\n",
       "  'interface_adj': False,\n",
       "  'graph_degree': 2,\n",
       "  'width_from_segment': 54.852813742385706})"
      ]
     },
     "execution_count": 43,
     "metadata": {},
     "output_type": "execute_result"
    }
   ],
   "source": [
    "chanG = add_width_features_to_graph(chanG, width_features.ravel())\n",
    "node_data =dict(chanG.nodes(data=True))\n",
    "random.choice(list(node_data.items()))"
   ]
  },
  {
   "cell_type": "markdown",
   "metadata": {},
   "source": [
    "### Using $\\nabla \\varphi$\n",
    "\n",
    "We compute width using the gradient of the distance function (and possibly the network structure). First we obtain the orientation of along wich to obtain these measured widths (perpendicular to the artificial flow)."
   ]
  },
  {
   "cell_type": "code",
   "execution_count": 44,
   "metadata": {},
   "outputs": [
    {
     "name": "stderr",
     "output_type": "stream",
     "text": [
      "flow vector computation using gradient: 100%|██████████| 23439/23439 [00:00<00:00, 64869.36it/s]\n",
      "flow vector computation using network: 100%|██████████| 23439/23439 [00:03<00:00, 7358.56it/s]\n"
     ]
    }
   ],
   "source": [
    "chanG = add_flow_attributes(chanG, dist, profile['transform'])"
   ]
  },
  {
   "cell_type": "code",
   "execution_count": 45,
   "metadata": {},
   "outputs": [],
   "source": [
    "seg_test = np.zeros(segments.shape)\n",
    "seg_test[segments == 13473] =1\n",
    "seg_test = nd.binary_dilation(seg_test, iterations=5)\n",
    "p = profile.copy()\n",
    "p['dtype'] = 'int32'\n",
    "with rasterio.open(tile_dir/f'seg_test.tif', 'w', **p) as ds:\n",
    "    ds.write(seg_test.astype(np.int32), 1)"
   ]
  },
  {
   "cell_type": "markdown",
   "metadata": {},
   "source": [
    "To perform intersection, we must extract the polygons of the segments. This takes a bit of time to polygonize the segments, so be patient."
   ]
  },
  {
   "cell_type": "code",
   "execution_count": 46,
   "metadata": {},
   "outputs": [
    {
     "name": "stdout",
     "output_type": "stream",
     "text": [
      "CPU times: user 23.3 s, sys: 209 ms, total: 23.5 s\n",
      "Wall time: 23.5 s\n"
     ]
    },
    {
     "data": {
      "text/html": [
       "<div>\n",
       "<style scoped>\n",
       "    .dataframe tbody tr th:only-of-type {\n",
       "        vertical-align: middle;\n",
       "    }\n",
       "\n",
       "    .dataframe tbody tr th {\n",
       "        vertical-align: top;\n",
       "    }\n",
       "\n",
       "    .dataframe thead th {\n",
       "        text-align: right;\n",
       "    }\n",
       "</style>\n",
       "<table border=\"1\" class=\"dataframe\">\n",
       "  <thead>\n",
       "    <tr style=\"text-align: right;\">\n",
       "      <th></th>\n",
       "      <th>label</th>\n",
       "      <th>geometry</th>\n",
       "      <th>perimeter</th>\n",
       "      <th>node</th>\n",
       "      <th>flow_vector_perp</th>\n",
       "    </tr>\n",
       "  </thead>\n",
       "  <tbody>\n",
       "    <tr>\n",
       "      <th>0</th>\n",
       "      <td>1</td>\n",
       "      <td>POLYGON ((506385.000 7707765.000, 506385.000 7...</td>\n",
       "      <td>1800.0</td>\n",
       "      <td>(506205.0, 7707614.368421053)</td>\n",
       "      <td>(0.89259404, 0.4508613)</td>\n",
       "    </tr>\n",
       "    <tr>\n",
       "      <th>1</th>\n",
       "      <td>2</td>\n",
       "      <td>POLYGON ((505755.000 7707705.000, 505755.000 7...</td>\n",
       "      <td>120.0</td>\n",
       "      <td>None</td>\n",
       "      <td>None</td>\n",
       "    </tr>\n",
       "    <tr>\n",
       "      <th>2</th>\n",
       "      <td>3</td>\n",
       "      <td>POLYGON ((506415.000 7707615.000, 506415.000 7...</td>\n",
       "      <td>1800.0</td>\n",
       "      <td>(506262.2727272727, 7707471.363636363)</td>\n",
       "      <td>(0.90515584, 0.42507988)</td>\n",
       "    </tr>\n",
       "    <tr>\n",
       "      <th>3</th>\n",
       "      <td>4</td>\n",
       "      <td>POLYGON ((506535.000 7707495.000, 506535.000 7...</td>\n",
       "      <td>1920.0</td>\n",
       "      <td>(506308.08510638296, 7707324.893617021)</td>\n",
       "      <td>(0.9201897, 0.39147285)</td>\n",
       "    </tr>\n",
       "    <tr>\n",
       "      <th>4</th>\n",
       "      <td>5</td>\n",
       "      <td>POLYGON ((506565.000 7707345.000, 506565.000 7...</td>\n",
       "      <td>1980.0</td>\n",
       "      <td>(506372.1, 7707187.2)</td>\n",
       "      <td>(0.9279982, 0.37258467)</td>\n",
       "    </tr>\n",
       "  </tbody>\n",
       "</table>\n",
       "</div>"
      ],
      "text/plain": [
       "   label                                           geometry  perimeter  \\\n",
       "0      1  POLYGON ((506385.000 7707765.000, 506385.000 7...     1800.0   \n",
       "1      2  POLYGON ((505755.000 7707705.000, 505755.000 7...      120.0   \n",
       "2      3  POLYGON ((506415.000 7707615.000, 506415.000 7...     1800.0   \n",
       "3      4  POLYGON ((506535.000 7707495.000, 506535.000 7...     1920.0   \n",
       "4      5  POLYGON ((506565.000 7707345.000, 506565.000 7...     1980.0   \n",
       "\n",
       "                                      node          flow_vector_perp  \n",
       "0            (506205.0, 7707614.368421053)   (0.89259404, 0.4508613)  \n",
       "1                                     None                      None  \n",
       "2   (506262.2727272727, 7707471.363636363)  (0.90515584, 0.42507988)  \n",
       "3  (506308.08510638296, 7707324.893617021)   (0.9201897, 0.39147285)  \n",
       "4                    (506372.1, 7707187.2)   (0.9279982, 0.37258467)  "
      ]
     },
     "execution_count": 46,
     "metadata": {},
     "output_type": "execute_result"
    }
   ],
   "source": [
    "%%time\n",
    "\n",
    "df_segments = get_segment_df(segments, chanG, profile)\n",
    "df_segments.head()"
   ]
  },
  {
   "cell_type": "markdown",
   "metadata": {},
   "source": [
    "We will save the geometries to a file for later inspection."
   ]
  },
  {
   "cell_type": "code",
   "execution_count": 47,
   "metadata": {},
   "outputs": [],
   "source": [
    "df_segments_out = change_tuples_to_vector(df_segments)\n",
    "df_segments_out.to_file(tile_dir/'segments.geojson', \n",
    "                        driver='GeoJSON')"
   ]
  },
  {
   "cell_type": "markdown",
   "metadata": {},
   "source": [
    "Now we extract the widths are associated geometry. This is the most expensive computation in the notebook, so be very patient. Could take 5 minutes or so."
   ]
  },
  {
   "cell_type": "code",
   "execution_count": 48,
   "metadata": {},
   "outputs": [
    {
     "name": "stdout",
     "output_type": "stream",
     "text": [
      "CPU times: user 3min 2s, sys: 314 ms, total: 3min 3s\n",
      "Wall time: 3min 3s\n"
     ]
    },
    {
     "data": {
      "text/html": [
       "<div>\n",
       "<style scoped>\n",
       "    .dataframe tbody tr th:only-of-type {\n",
       "        vertical-align: middle;\n",
       "    }\n",
       "\n",
       "    .dataframe tbody tr th {\n",
       "        vertical-align: top;\n",
       "    }\n",
       "\n",
       "    .dataframe thead th {\n",
       "        text-align: right;\n",
       "    }\n",
       "</style>\n",
       "<table border=\"1\" class=\"dataframe\">\n",
       "  <thead>\n",
       "    <tr style=\"text-align: right;\">\n",
       "      <th></th>\n",
       "      <th>label</th>\n",
       "      <th>node</th>\n",
       "      <th>geometry</th>\n",
       "      <th>width_m</th>\n",
       "    </tr>\n",
       "  </thead>\n",
       "  <tbody>\n",
       "    <tr>\n",
       "      <th>0</th>\n",
       "      <td>1</td>\n",
       "      <td>(506205.0, 7707614.368421053)</td>\n",
       "      <td>LINESTRING (506475.000 7707750.749, 505965.000...</td>\n",
       "      <td>571.368401</td>\n",
       "    </tr>\n",
       "    <tr>\n",
       "      <th>2</th>\n",
       "      <td>3</td>\n",
       "      <td>(506262.2727272727, 7707471.363636363)</td>\n",
       "      <td>LINESTRING (506535.000 7707599.442, 506025.000...</td>\n",
       "      <td>563.438911</td>\n",
       "    </tr>\n",
       "    <tr>\n",
       "      <th>3</th>\n",
       "      <td>4</td>\n",
       "      <td>(506308.08510638296, 7707324.893617021)</td>\n",
       "      <td>LINESTRING (506565.000 7707434.192, 506055.000...</td>\n",
       "      <td>554.233590</td>\n",
       "    </tr>\n",
       "    <tr>\n",
       "      <th>4</th>\n",
       "      <td>5</td>\n",
       "      <td>(506372.1, 7707187.2)</td>\n",
       "      <td>LINESTRING (506655.000 7707300.782, 506115.000...</td>\n",
       "      <td>581.897702</td>\n",
       "    </tr>\n",
       "    <tr>\n",
       "      <th>5</th>\n",
       "      <td>6</td>\n",
       "      <td>(506428.15789473685, 7707051.578947368)</td>\n",
       "      <td>LINESTRING (506775.000 7707191.512, 506115.000...</td>\n",
       "      <td>711.690590</td>\n",
       "    </tr>\n",
       "  </tbody>\n",
       "</table>\n",
       "</div>"
      ],
      "text/plain": [
       "   label                                     node  \\\n",
       "0      1            (506205.0, 7707614.368421053)   \n",
       "2      3   (506262.2727272727, 7707471.363636363)   \n",
       "3      4  (506308.08510638296, 7707324.893617021)   \n",
       "4      5                    (506372.1, 7707187.2)   \n",
       "5      6  (506428.15789473685, 7707051.578947368)   \n",
       "\n",
       "                                            geometry     width_m  \n",
       "0  LINESTRING (506475.000 7707750.749, 505965.000...  571.368401  \n",
       "2  LINESTRING (506535.000 7707599.442, 506025.000...  563.438911  \n",
       "3  LINESTRING (506565.000 7707434.192, 506055.000...  554.233590  \n",
       "4  LINESTRING (506655.000 7707300.782, 506115.000...  581.897702  \n",
       "5  LINESTRING (506775.000 7707191.512, 506115.000...  711.690590  "
      ]
     },
     "execution_count": 48,
     "metadata": {},
     "output_type": "execute_result"
    }
   ],
   "source": [
    "%%time\n",
    "\n",
    "df_geo_widths = get_geo_width_df(df_segments, chanG, radius=1)\n",
    "df_geo_widths.head()"
   ]
  },
  {
   "cell_type": "markdown",
   "metadata": {},
   "source": [
    "Let's save the widths again for later inspection."
   ]
  },
  {
   "cell_type": "code",
   "execution_count": 49,
   "metadata": {},
   "outputs": [],
   "source": [
    "df_geo_widths_out = change_tuples_to_vector(df_geo_widths)\n",
    "df_geo_widths_out.to_file(tile_dir/'width_geometries.geojson', \n",
    "                          driver='GeoJSON')"
   ]
  },
  {
   "cell_type": "markdown",
   "metadata": {},
   "source": [
    "We update the node attributes. And we see all of the attributes we have added."
   ]
  },
  {
   "cell_type": "code",
   "execution_count": 50,
   "metadata": {},
   "outputs": [
    {
     "data": {
      "text/plain": [
       "((526714.5, 7593342.0),\n",
       " {'label': 18732,\n",
       "  'meters_to_interface': 57367.22640569004,\n",
       "  'x': 526714.5,\n",
       "  'y': 7593342.0,\n",
       "  'interface_adj': False,\n",
       "  'graph_degree': 2,\n",
       "  'width_from_segment': 104.16407864998739,\n",
       "  'flow_vector_perp_grad': (-0.11792107, 0.9930229),\n",
       "  'flow_vector_network': (0.9413032419808935, 0.337562152256824),\n",
       "  'flow_vector_perp_network': (-0.337562152256824, 0.9413032419808935),\n",
       "  'flow_vector_perp': (-0.11792107, 0.9930229),\n",
       "  'width_m': 120.84314619314593})"
      ]
     },
     "execution_count": 50,
     "metadata": {},
     "output_type": "execute_result"
    }
   ],
   "source": [
    "chanG = update_graph_with_widths(chanG, df_geo_widths)\n",
    "\n",
    "node_data =dict(chanG.nodes(data=True))\n",
    "random.choice(list(node_data.items()))"
   ]
  },
  {
   "cell_type": "markdown",
   "metadata": {},
   "source": [
    "# Save Network\n",
    "\n",
    "We now save the nodes and edges to `geojson` files and serialize the NetworkX `DiGraph` with `pickle`."
   ]
  },
  {
   "cell_type": "code",
   "execution_count": 51,
   "metadata": {},
   "outputs": [],
   "source": [
    "df_nodes = export_nodes_to_geodataframe(chanG, profile['crs'])\n",
    "df_nodes = change_tuples_to_vector(df_nodes)\n",
    "df_edges = export_edges_to_geodataframe(chanG, profile['crs'])"
   ]
  },
  {
   "cell_type": "code",
   "execution_count": 52,
   "metadata": {},
   "outputs": [],
   "source": [
    "df_edges.to_file(tile_dir/f'{tile_name}_edges.geojson', driver='GeoJSON')\n",
    "df_nodes.to_file(tile_dir/f'{tile_name}_nodes.geojson', driver='GeoJSON')\n",
    "nx.write_gpickle(chanG, tile_dir/f'{tile_name}_network.pkl')"
   ]
  },
  {
   "cell_type": "code",
   "execution_count": null,
   "metadata": {},
   "outputs": [],
   "source": []
  }
 ],
 "metadata": {
  "kernelspec": {
   "display_name": "Python 3",
   "language": "python",
   "name": "python3"
  },
  "language_info": {
   "codemirror_mode": {
    "name": "ipython",
    "version": 3
   },
   "file_extension": ".py",
   "mimetype": "text/x-python",
   "name": "python",
   "nbconvert_exporter": "python",
   "pygments_lexer": "ipython3",
   "version": "3.7.6"
  }
 },
 "nbformat": 4,
 "nbformat_minor": 2
}
