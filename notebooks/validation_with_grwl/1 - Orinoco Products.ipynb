{
 "cells": [
  {
   "cell_type": "markdown",
   "metadata": {},
   "source": [
    "We use `notebooks/examples/1 - Make Channel Network` removing extraneous discussion and visualizations wherever possible. We also include a node attribute that uses the distance transform in a node's associated segment. This will be used to very roughly compare [RivGraph](https://github.com/jonschwenk/RivGraph/tree/master/rivgraph) and [ChanGeom](https://www.burchfisher.com/data.html)'s approach to measuring width."
   ]
  },
  {
   "cell_type": "code",
   "execution_count": 1,
   "metadata": {},
   "outputs": [],
   "source": [
    "import rasterio\n",
    "import matplotlib.pyplot as plt\n",
    "import numpy as np\n",
    "from pathlib import Path\n",
    "import networkx as nx\n",
    "from orinoco import (get_distance_along_channel_using_fmm,\n",
    "                     get_distance_segments,\n",
    "                     get_undirected_channel_network,\n",
    "                     direct_channel_network_using_distance,\n",
    "                     export_edges_to_geodataframe,\n",
    "                     export_nodes_to_geodataframe,\n",
    "                     get_map_centroid_from_binary_mask,\n",
    "                     apply_func_to_superpixels,\n",
    "                     get_array_from_features,\n",
    "                     get_width_features_from_segments,\n",
    "                     add_flow_attributes,\n",
    "                     change_tuples_to_vector,\n",
    "                     get_geopandas_features_from_array,\n",
    "                     get_RAG_neighbors,\n",
    "                     get_segment_df,\n",
    "                     get_width_features_from_segments,\n",
    "                     get_geo_width_df,\n",
    "                     update_graph_with_widths,\n",
    "                     add_width_features_to_graph,\n",
    "                     )\n",
    "from skimage.color import label2rgb\n",
    "import random\n",
    "from shapely.geometry import Point, LineString, MultiLineString, GeometryCollection\n",
    "from shapely.ops import unary_union\n",
    "import geopandas as gpd\n",
    "import scipy.ndimage as nd\n",
    "from scipy.ndimage import find_objects\n",
    "from rasterio import features\n",
    "from tqdm import tqdm\n",
    "from rasterio.transform import rowcol"
   ]
  },
  {
   "cell_type": "markdown",
   "metadata": {},
   "source": [
    "# Initialize Tile Directory"
   ]
  },
  {
   "cell_type": "code",
   "execution_count": 2,
   "metadata": {},
   "outputs": [
    {
     "data": {
      "text/plain": [
       "True"
      ]
     },
     "execution_count": 2,
     "metadata": {},
     "output_type": "execute_result"
    }
   ],
   "source": [
    "tile_name = 'NR08'\n",
    "\n",
    "tile_dir = Path(f'out/{tile_name}')\n",
    "tile_dir.exists()"
   ]
  },
  {
   "cell_type": "markdown",
   "metadata": {},
   "source": [
    "# Read Data from the Tile Directory"
   ]
  },
  {
   "cell_type": "code",
   "execution_count": 3,
   "metadata": {},
   "outputs": [],
   "source": [
    "with rasterio.open(tile_dir/f'water_mask_{tile_name}.tif') as ds:\n",
    "    water_mask = ds.read(1)\n",
    "with rasterio.open(tile_dir/f'ocean_mask_{tile_name}.tif') as ds:\n",
    "    ocean_mask = ds.read(1)\n",
    "    profile = ds.profile"
   ]
  },
  {
   "cell_type": "code",
   "execution_count": 4,
   "metadata": {},
   "outputs": [
    {
     "data": {
      "text/plain": [
       "<matplotlib.image.AxesImage at 0x7fd2f8a7e290>"
      ]
     },
     "execution_count": 4,
     "metadata": {},
     "output_type": "execute_result"
    },
    {
     "data": {
      "image/png": "[encoded data removed]",
      "text/plain": [
       "<Figure size 432x288 with 1 Axes>"
      ]
     },
     "metadata": {
      "needs_background": "light"
     },
     "output_type": "display_data"
    }
   ],
   "source": [
    "plt.imshow(water_mask, interpolation='none')"
   ]
  },
  {
   "cell_type": "markdown",
   "metadata": {},
   "source": [
    "# Generate Orinoco Products\n",
    "\n",
    "## Obtaining the Distance Function"
   ]
  },
  {
   "cell_type": "code",
   "execution_count": 5,
   "metadata": {},
   "outputs": [
    {
     "data": {
      "text/plain": [
       "<matplotlib.image.AxesImage at 0x7fd30819cc50>"
      ]
     },
     "execution_count": 5,
     "metadata": {},
     "output_type": "execute_result"
    },
    {
     "data": {
      "image/png": "[encoded data removed]",
      "text/plain": [
       "<Figure size 432x288 with 1 Axes>"
      ]
     },
     "metadata": {
      "needs_background": "light"
     },
     "output_type": "display_data"
    }
   ],
   "source": [
    "transform = profile['transform']\n",
    "dx, dy = transform.a, -transform.e\n",
    "dist = get_distance_along_channel_using_fmm(water_mask,\n",
    "                                            ocean_mask,\n",
    "                                            dx=dx,\n",
    "                                            dy=dy,\n",
    "                                            # removes areas with less than percentage of total size\n",
    "                                            area_threshold=0.01,\n",
    "                                            # Applys a 1 pixel buffer for distance computation\n",
    "                                            # for artifical 8-connectivity.\n",
    "                                            # See: https://github.com/scikit-fmm/scikit-fmm/issues/32\n",
    "                                            # Removes buffer after computation complete.\n",
    "                                            apply_pixel_buffer_for_distance_comp=True\n",
    "                                            )\n",
    "plt.imshow(dist, interpolation='none')"
   ]
  },
  {
   "cell_type": "markdown",
   "metadata": {},
   "source": [
    "Save the distance product."
   ]
  },
  {
   "cell_type": "code",
   "execution_count": 6,
   "metadata": {},
   "outputs": [],
   "source": [
    "p = profile.copy()\n",
    "p['dtype'] = 'float32'\n",
    "with rasterio.open(tile_dir/f'distance_{tile_name}.tif', 'w', **p) as ds:\n",
    "    ds.write(dist.astype(np.float32), 1)"
   ]
  },
  {
   "cell_type": "markdown",
   "metadata": {},
   "source": [
    "## Segmentation of the Channel"
   ]
  },
  {
   "cell_type": "code",
   "execution_count": 7,
   "metadata": {},
   "outputs": [
    {
     "name": "stderr",
     "output_type": "stream",
     "text": [
      "rag neighbors: 100%|██████████| 1327/1327 [00:00<00:00, 17496.43it/s]\n"
     ]
    }
   ],
   "source": [
    "pixel_step = 5\n",
    "segments, interface_adj_segments = get_distance_segments(dist,\n",
    "                                                         pixel_step,\n",
    "                                                         dx=dx,\n",
    "                                                         dy=dy)"
   ]
  },
  {
   "cell_type": "code",
   "execution_count": 8,
   "metadata": {},
   "outputs": [
    {
     "data": {
      "text/plain": [
       "<matplotlib.image.AxesImage at 0x7fd319c40c50>"
      ]
     },
     "execution_count": 8,
     "metadata": {},
     "output_type": "execute_result"
    },
    {
     "data": {
      "image/png": "[encoded data removed]",
      "text/plain": [
       "<Figure size 432x288 with 1 Axes>"
      ]
     },
     "metadata": {
      "needs_background": "light"
     },
     "output_type": "display_data"
    }
   ],
   "source": [
    "segments_rgb = label2rgb(segments, bg_label=0)\n",
    "plt.imshow(segments_rgb, interpolation='none')"
   ]
  },
  {
   "cell_type": "markdown",
   "metadata": {},
   "source": [
    "We save both the `segments` and the `segments_rgb` to disk."
   ]
  },
  {
   "cell_type": "code",
   "execution_count": 9,
   "metadata": {},
   "outputs": [],
   "source": [
    "p = profile.copy()\n",
    "p['dtype'] = 'int32'\n",
    "with rasterio.open(tile_dir/f'segments_{tile_name}.tif', 'w', **p) as ds:\n",
    "    ds.write(segments.astype(np.int32), 1)\n",
    "\n",
    "p = profile.copy()\n",
    "p['dtype'] = 'float32'\n",
    "p['count'] = 3\n",
    "with rasterio.open(tile_dir/f'segments_rgb_{tile_name}.tif', 'w', **p) as ds:\n",
    "    ds.write(segments_rgb.transpose([2, 0, 1]).astype(np.float32))"
   ]
  },
  {
   "cell_type": "markdown",
   "metadata": {},
   "source": [
    "## Obtaining the Undirected Network"
   ]
  },
  {
   "cell_type": "code",
   "execution_count": 10,
   "metadata": {},
   "outputs": [
    {
     "name": "stderr",
     "output_type": "stream",
     "text": [
      "rag neighbors: 100%|██████████| 23555/23555 [00:01<00:00, 21480.17it/s]\n",
      "adding edges: 100%|██████████| 23554/23554 [00:00<00:00, 115530.59it/s]\n"
     ]
    }
   ],
   "source": [
    "chanG_undirected = get_undirected_channel_network(segments, \n",
    "                                                  dist, \n",
    "                                                  profile, \n",
    "                                                  interface_adj_segments,\n",
    "                                                  connectivity=8)"
   ]
  },
  {
   "cell_type": "markdown",
   "metadata": {},
   "source": [
    "## Obtaining the Directed Network"
   ]
  },
  {
   "cell_type": "code",
   "execution_count": 11,
   "metadata": {},
   "outputs": [],
   "source": [
    "chanG = direct_channel_network_using_distance(chanG_undirected, \n",
    "                                              # The keywords below are how the pruning occurs\n",
    "                                              # Specifies pruning will be done\n",
    "                                              remove_danlging_segments=True, \n",
    "                                              # Do not prune nodes within 1 km of interface\n",
    "                                              meters_to_interface_filter_buffer=1_000,     \n",
    "                                              # Remove edge groups with an degree 1 endpoint and size <=3\n",
    "                                              segment_threshold=3,\n",
    "                                              # How many times to do this pruning\n",
    "                                              dangling_iterations=1\n",
    "                                              )"
   ]
  },
  {
   "cell_type": "markdown",
   "metadata": {},
   "source": [
    "Let's do a quick sanity check."
   ]
  },
  {
   "cell_type": "code",
   "execution_count": 12,
   "metadata": {},
   "outputs": [
    {
     "data": {
      "text/plain": [
       "<matplotlib.axes._subplots.AxesSubplot at 0x7fd328ca2850>"
      ]
     },
     "execution_count": 12,
     "metadata": {},
     "output_type": "execute_result"
    },
    {
     "data": {
      "image/png": "[encoded data removed]",
      "text/plain": [
       "<Figure size 432x288 with 1 Axes>"
      ]
     },
     "metadata": {
      "needs_background": "light"
     },
     "output_type": "display_data"
    }
   ],
   "source": [
    "df_edges = export_edges_to_geodataframe(chanG, profile['crs'])\n",
    "df_edges.plot(column='segment_id', categorical=True)"
   ]
  },
  {
   "cell_type": "markdown",
   "metadata": {},
   "source": [
    "## Obtaining the Widths\n",
    "\n",
    "### Using the distance transform\n",
    "\n",
    "We are going to use the distance transform within a segment. We have a function that determines the width according to $2\\cdot d - 1$ where d is the distance to the land mask according to the distance transform in a small 1-pixel buffer around the segment (if this is 0, we use the full distance transform on the channel mask)."
   ]
  },
  {
   "cell_type": "code",
   "execution_count": 13,
   "metadata": {},
   "outputs": [
    {
     "data": {
      "text/plain": [
       "<matplotlib.colorbar.Colorbar at 0x7fd2ca5b6d90>"
      ]
     },
     "execution_count": 13,
     "metadata": {},
     "output_type": "execute_result"
    },
    {
     "data": {
      "image/png": "[encoded data removed]",
      "text/plain": [
       "<Figure size 432x288 with 2 Axes>"
      ]
     },
     "metadata": {
      "needs_background": "light"
     },
     "output_type": "display_data"
    }
   ],
   "source": [
    "width_features = get_width_features_from_segments(segments, profile)\n",
    "widths = get_array_from_features(segments, width_features)\n",
    "plt.imshow(widths, interpolation='none')\n",
    "plt.colorbar()"
   ]
  },
  {
   "cell_type": "markdown",
   "metadata": {},
   "source": [
    "We now add these attributes to the graph."
   ]
  },
  {
   "cell_type": "code",
   "execution_count": 14,
   "metadata": {},
   "outputs": [
    {
     "data": {
      "text/plain": [
       "((477995.5970149254, 7610561.865671642),\n",
       " {'label': 13808,\n",
       "  'meters_to_interface': 19399.551287134327,\n",
       "  'x': 477995.5970149254,\n",
       "  'y': 7610561.865671642,\n",
       "  'interface_adj': False,\n",
       "  'graph_degree': 2,\n",
       "  'cc_id': 0,\n",
       "  'width_from_segment': 210.0})"
      ]
     },
     "execution_count": 14,
     "metadata": {},
     "output_type": "execute_result"
    }
   ],
   "source": [
    "chanG = add_width_features_to_graph(chanG, width_features.ravel())\n",
    "node_data =dict(chanG.nodes(data=True))\n",
    "random.choice(list(node_data.items()))"
   ]
  },
  {
   "cell_type": "markdown",
   "metadata": {},
   "source": [
    "### Using $\\nabla \\varphi$\n",
    "\n",
    "We compute width using the gradient of the distance function (and possibly the network structure). First we obtain the orientation of along wich to obtain these measured widths (perpendicular to the artificial flow)."
   ]
  },
  {
   "cell_type": "code",
   "execution_count": 15,
   "metadata": {},
   "outputs": [
    {
     "name": "stderr",
     "output_type": "stream",
     "text": [
      "flow vector computation using gradient: 100%|██████████| 22959/22959 [00:00<00:00, 56114.99it/s]\n",
      "flow vector computation using network: 100%|██████████| 22959/22959 [00:03<00:00, 7528.55it/s]\n"
     ]
    }
   ],
   "source": [
    "chanG = add_flow_attributes(chanG, dist, profile['transform'])"
   ]
  },
  {
   "cell_type": "markdown",
   "metadata": {},
   "source": [
    "To perform intersection, we must extract the polygons of the segments. This takes a bit of time to polygonize the segments, so be patient."
   ]
  },
  {
   "cell_type": "code",
   "execution_count": 16,
   "metadata": {},
   "outputs": [
    {
     "name": "stdout",
     "output_type": "stream",
     "text": [
      "CPU times: user 21.2 s, sys: 219 ms, total: 21.5 s\n",
      "Wall time: 21.4 s\n"
     ]
    },
    {
     "data": {
      "text/html": [
       "<div>\n",
       "<style scoped>\n",
       "    .dataframe tbody tr th:only-of-type {\n",
       "        vertical-align: middle;\n",
       "    }\n",
       "\n",
       "    .dataframe tbody tr th {\n",
       "        vertical-align: top;\n",
       "    }\n",
       "\n",
       "    .dataframe thead th {\n",
       "        text-align: right;\n",
       "    }\n",
       "</style>\n",
       "<table border=\"1\" class=\"dataframe\">\n",
       "  <thead>\n",
       "    <tr style=\"text-align: right;\">\n",
       "      <th></th>\n",
       "      <th>label</th>\n",
       "      <th>geometry</th>\n",
       "      <th>perimeter</th>\n",
       "      <th>node</th>\n",
       "      <th>flow_vector_perp</th>\n",
       "    </tr>\n",
       "  </thead>\n",
       "  <tbody>\n",
       "    <tr>\n",
       "      <th>0</th>\n",
       "      <td>1</td>\n",
       "      <td>POLYGON ((506475.000 7707795.000, 506475.000 7...</td>\n",
       "      <td>2100.0</td>\n",
       "      <td>(506196.54545454547, 7707611.7272727275)</td>\n",
       "      <td>(0.8819542, 0.47133517)</td>\n",
       "    </tr>\n",
       "    <tr>\n",
       "      <th>1</th>\n",
       "      <td>2</td>\n",
       "      <td>POLYGON ((505665.000 7707765.000, 505665.000 7...</td>\n",
       "      <td>540.0</td>\n",
       "      <td>(505718.3333333333, 7707708.333333333)</td>\n",
       "      <td>(0.5480262573089165, 0.8364611295810352)</td>\n",
       "    </tr>\n",
       "    <tr>\n",
       "      <th>2</th>\n",
       "      <td>3</td>\n",
       "      <td>POLYGON ((505815.000 7707645.000, 505815.000 7...</td>\n",
       "      <td>120.0</td>\n",
       "      <td>(505815.0, 7707645.0)</td>\n",
       "      <td>(0.667148434218491, 0.7449248060843562)</td>\n",
       "    </tr>\n",
       "    <tr>\n",
       "      <th>3</th>\n",
       "      <td>4</td>\n",
       "      <td>POLYGON ((506505.000 7707645.000, 506505.000 7...</td>\n",
       "      <td>2040.0</td>\n",
       "      <td>(506265.0, 7707472.5)</td>\n",
       "      <td>(0.89144135, 0.45313615)</td>\n",
       "    </tr>\n",
       "    <tr>\n",
       "      <th>4</th>\n",
       "      <td>5</td>\n",
       "      <td>POLYGON ((505845.000 7707615.000, 505845.000 7...</td>\n",
       "      <td>120.0</td>\n",
       "      <td>(505845.0, 7707615.0)</td>\n",
       "      <td>(0.6501047945999547, 0.7598445604451943)</td>\n",
       "    </tr>\n",
       "  </tbody>\n",
       "</table>\n",
       "</div>"
      ],
      "text/plain": [
       "   label                                           geometry  perimeter  \\\n",
       "0      1  POLYGON ((506475.000 7707795.000, 506475.000 7...     2100.0   \n",
       "1      2  POLYGON ((505665.000 7707765.000, 505665.000 7...      540.0   \n",
       "2      3  POLYGON ((505815.000 7707645.000, 505815.000 7...      120.0   \n",
       "3      4  POLYGON ((506505.000 7707645.000, 506505.000 7...     2040.0   \n",
       "4      5  POLYGON ((505845.000 7707615.000, 505845.000 7...      120.0   \n",
       "\n",
       "                                       node  \\\n",
       "0  (506196.54545454547, 7707611.7272727275)   \n",
       "1    (505718.3333333333, 7707708.333333333)   \n",
       "2                     (505815.0, 7707645.0)   \n",
       "3                     (506265.0, 7707472.5)   \n",
       "4                     (505845.0, 7707615.0)   \n",
       "\n",
       "                           flow_vector_perp  \n",
       "0                   (0.8819542, 0.47133517)  \n",
       "1  (0.5480262573089165, 0.8364611295810352)  \n",
       "2   (0.667148434218491, 0.7449248060843562)  \n",
       "3                  (0.89144135, 0.45313615)  \n",
       "4  (0.6501047945999547, 0.7598445604451943)  "
      ]
     },
     "execution_count": 16,
     "metadata": {},
     "output_type": "execute_result"
    }
   ],
   "source": [
    "%%time\n",
    "\n",
    "df_segments = get_segment_df(segments, chanG, profile)\n",
    "df_segments.head()"
   ]
  },
  {
   "cell_type": "markdown",
   "metadata": {},
   "source": [
    "We will save the geometries to a file for later inspection."
   ]
  },
  {
   "cell_type": "code",
   "execution_count": 17,
   "metadata": {},
   "outputs": [],
   "source": [
    "df_segments_out = change_tuples_to_vector(df_segments)\n",
    "df_segments_out.to_file(tile_dir/'segments.geojson', \n",
    "                        driver='GeoJSON')"
   ]
  },
  {
   "cell_type": "markdown",
   "metadata": {},
   "source": [
    "Now we extract the widths are associated geometry. This is the most expensive computation in the notebook, so be very patient. Could take 5 minutes or so."
   ]
  },
  {
   "cell_type": "code",
   "execution_count": 18,
   "metadata": {},
   "outputs": [
    {
     "name": "stdout",
     "output_type": "stream",
     "text": [
      "CPU times: user 3min 9s, sys: 380 ms, total: 3min 9s\n",
      "Wall time: 3min 9s\n"
     ]
    },
    {
     "data": {
      "text/html": [
       "<div>\n",
       "<style scoped>\n",
       "    .dataframe tbody tr th:only-of-type {\n",
       "        vertical-align: middle;\n",
       "    }\n",
       "\n",
       "    .dataframe tbody tr th {\n",
       "        vertical-align: top;\n",
       "    }\n",
       "\n",
       "    .dataframe thead th {\n",
       "        text-align: right;\n",
       "    }\n",
       "</style>\n",
       "<table border=\"1\" class=\"dataframe\">\n",
       "  <thead>\n",
       "    <tr style=\"text-align: right;\">\n",
       "      <th></th>\n",
       "      <th>label</th>\n",
       "      <th>node</th>\n",
       "      <th>geometry</th>\n",
       "      <th>width_m</th>\n",
       "    </tr>\n",
       "  </thead>\n",
       "  <tbody>\n",
       "    <tr>\n",
       "      <th>0</th>\n",
       "      <td>1</td>\n",
       "      <td>(506196.54545454547, 7707611.7272727275)</td>\n",
       "      <td>LINESTRING (506505.000 7707776.572, 505921.992...</td>\n",
       "      <td>661.041262</td>\n",
       "    </tr>\n",
       "    <tr>\n",
       "      <th>1</th>\n",
       "      <td>2</td>\n",
       "      <td>(505718.3333333333, 7707708.333333333)</td>\n",
       "      <td>LINESTRING (505725.000 7707718.509, 505696.494...</td>\n",
       "      <td>52.015325</td>\n",
       "    </tr>\n",
       "    <tr>\n",
       "      <th>2</th>\n",
       "      <td>3</td>\n",
       "      <td>(505815.0, 7707645.0)</td>\n",
       "      <td>LINESTRING (505815.000 7707645.000, 505815.000...</td>\n",
       "      <td>0.000030</td>\n",
       "    </tr>\n",
       "    <tr>\n",
       "      <th>3</th>\n",
       "      <td>4</td>\n",
       "      <td>(506265.0, 7707472.5)</td>\n",
       "      <td>LINESTRING (506565.000 7707624.996, 505995.000...</td>\n",
       "      <td>639.413949</td>\n",
       "    </tr>\n",
       "    <tr>\n",
       "      <th>4</th>\n",
       "      <td>5</td>\n",
       "      <td>(505845.0, 7707615.0)</td>\n",
       "      <td>LINESTRING (505845.000 7707615.000, 505845.000...</td>\n",
       "      <td>0.000031</td>\n",
       "    </tr>\n",
       "  </tbody>\n",
       "</table>\n",
       "</div>"
      ],
      "text/plain": [
       "   label                                      node  \\\n",
       "0      1  (506196.54545454547, 7707611.7272727275)   \n",
       "1      2    (505718.3333333333, 7707708.333333333)   \n",
       "2      3                     (505815.0, 7707645.0)   \n",
       "3      4                     (506265.0, 7707472.5)   \n",
       "4      5                     (505845.0, 7707615.0)   \n",
       "\n",
       "                                            geometry     width_m  \n",
       "0  LINESTRING (506505.000 7707776.572, 505921.992...  661.041262  \n",
       "1  LINESTRING (505725.000 7707718.509, 505696.494...   52.015325  \n",
       "2  LINESTRING (505815.000 7707645.000, 505815.000...    0.000030  \n",
       "3  LINESTRING (506565.000 7707624.996, 505995.000...  639.413949  \n",
       "4  LINESTRING (505845.000 7707615.000, 505845.000...    0.000031  "
      ]
     },
     "execution_count": 18,
     "metadata": {},
     "output_type": "execute_result"
    }
   ],
   "source": [
    "%%time\n",
    "\n",
    "df_geo_widths = get_geo_width_df(df_segments, chanG, radius=1)\n",
    "df_geo_widths.head()"
   ]
  },
  {
   "cell_type": "markdown",
   "metadata": {},
   "source": [
    "Let's save the widths again for later inspection."
   ]
  },
  {
   "cell_type": "code",
   "execution_count": 19,
   "metadata": {},
   "outputs": [],
   "source": [
    "df_geo_widths_out = change_tuples_to_vector(df_geo_widths)\n",
    "df_geo_widths_out.to_file(tile_dir/'width_geometries.geojson', \n",
    "                          driver='GeoJSON')"
   ]
  },
  {
   "cell_type": "markdown",
   "metadata": {},
   "source": [
    "We update the node attributes. And we see all of the attributes we have added."
   ]
  },
  {
   "cell_type": "code",
   "execution_count": 20,
   "metadata": {},
   "outputs": [
    {
     "data": {
      "text/plain": [
       "((466194.54545454547, 7616989.090909091),\n",
       " {'label': 12311,\n",
       "  'meters_to_interface': 27109.19459170789,\n",
       "  'x': 466194.54545454547,\n",
       "  'y': 7616989.090909091,\n",
       "  'interface_adj': False,\n",
       "  'graph_degree': 2,\n",
       "  'cc_id': 0,\n",
       "  'width_from_segment': 104.16407864998739,\n",
       "  'flow_vector_perp_grad': (0.46261823, 0.88655764),\n",
       "  'flow_vector_network': (0.790885909319372, -0.6119636250955364),\n",
       "  'flow_vector_perp_network': (0.6119636250955364, 0.790885909319372),\n",
       "  'flow_vector_perp': (0.46261823, 0.88655764),\n",
       "  'width_m': 135.35501728138593})"
      ]
     },
     "execution_count": 20,
     "metadata": {},
     "output_type": "execute_result"
    }
   ],
   "source": [
    "chanG = update_graph_with_widths(chanG, df_geo_widths)\n",
    "\n",
    "node_data =dict(chanG.nodes(data=True))\n",
    "random.choice(list(node_data.items()))"
   ]
  },
  {
   "cell_type": "markdown",
   "metadata": {},
   "source": [
    "# Save Network\n",
    "\n",
    "We now save the nodes and edges to `geojson` files and serialize the NetworkX `DiGraph` with `pickle`."
   ]
  },
  {
   "cell_type": "code",
   "execution_count": 21,
   "metadata": {},
   "outputs": [],
   "source": [
    "df_nodes = export_nodes_to_geodataframe(chanG, profile['crs'])\n",
    "df_nodes = change_tuples_to_vector(df_nodes)\n",
    "df_edges = export_edges_to_geodataframe(chanG, profile['crs'])"
   ]
  },
  {
   "cell_type": "code",
   "execution_count": 22,
   "metadata": {},
   "outputs": [],
   "source": [
    "df_edges.to_file(tile_dir/f'{tile_name}_edges.geojson', driver='GeoJSON')\n",
    "df_nodes.to_file(tile_dir/f'{tile_name}_nodes.geojson', driver='GeoJSON')\n",
    "nx.write_gpickle(chanG, tile_dir/f'{tile_name}_network.pkl')"
   ]
  }
 ],
 "metadata": {
  "kernelspec": {
   "display_name": "Python 3",
   "language": "python",
   "name": "python3"
  },
  "language_info": {
   "codemirror_mode": {
    "name": "ipython",
    "version": 3
   },
   "file_extension": ".py",
   "mimetype": "text/x-python",
   "name": "python",
   "nbconvert_exporter": "python",
   "pygments_lexer": "ipython3",
   "version": "3.7.6"
  }
 },
 "nbformat": 4,
 "nbformat_minor": 2
}
