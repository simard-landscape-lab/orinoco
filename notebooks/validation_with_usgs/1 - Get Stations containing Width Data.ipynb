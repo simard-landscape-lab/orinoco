{
 "cells": [
  {
   "cell_type": "markdown",
   "metadata": {},
   "source": [
    "In this notebook, we collect data from the Water Data Quality Portal and the USGS APIs."
   ]
  },
  {
   "cell_type": "code",
   "execution_count": 1,
   "metadata": {},
   "outputs": [],
   "source": [
    "import requests\n",
    "from tqdm import tqdm\n",
    "import pandas as pd\n",
    "from shapely.ops import Point\n",
    "import geopandas as gpd\n",
    "import matplotlib.pyplot as plt\n",
    "import numpy as np\n",
    "import io\n",
    "from pathlib import Path"
   ]
  },
  {
   "cell_type": "code",
   "execution_count": 2,
   "metadata": {},
   "outputs": [],
   "source": [
    "URL = 'https://waterservices.usgs.gov/nwis/site/'"
   ]
  },
  {
   "cell_type": "code",
   "execution_count": 3,
   "metadata": {},
   "outputs": [
    {
     "data": {
      "text/plain": [
       "True"
      ]
     },
     "execution_count": 3,
     "metadata": {},
     "output_type": "execute_result"
    }
   ],
   "source": [
    "tile_name = 'NH15'\n",
    "tile_dir = Path(f'out/{tile_name}')\n",
    "tile_dir.exists()"
   ]
  },
  {
   "cell_type": "code",
   "execution_count": 4,
   "metadata": {},
   "outputs": [
    {
     "data": {
      "text/plain": [
       "<matplotlib.axes._subplots.AxesSubplot at 0x7fdda9754518>"
      ]
     },
     "execution_count": 4,
     "metadata": {},
     "output_type": "execute_result"
    },
    {
     "data": {
      "image/png": "[encoded data removed]",
      "text/plain": [
       "<Figure size 432x288 with 1 Axes>"
      ]
     },
     "metadata": {
      "needs_background": "light"
     },
     "output_type": "display_data"
    }
   ],
   "source": [
    "df_channel = gpd.read_file(tile_dir/f'channel_mask_{tile_name}').to_crs({'init': 'epsg:4326'})\n",
    "df_channel.plot()"
   ]
  },
  {
   "cell_type": "code",
   "execution_count": 5,
   "metadata": {},
   "outputs": [
    {
     "data": {
      "text/plain": [
       "['-96.00', '28.68', '-90.00', '32.04']"
      ]
     },
     "execution_count": 5,
     "metadata": {},
     "output_type": "execute_result"
    }
   ],
   "source": [
    "bounds = df_channel.total_bounds\n",
    "bounds = [f'{b:1.2f}' for b in bounds]\n",
    "bounds"
   ]
  },
  {
   "cell_type": "markdown",
   "metadata": {},
   "source": [
    "# 1 - Get all Stations with Width Parameter code\n",
    "\n",
    "We search the codes using: https://help.waterdata.usgs.gov/codes-and-parameters/parameters or you can search the all the codes at once [here](https://help.waterdata.usgs.gov/code/parameter_cd_query?fmt=rdb&inline=true&group_cd=%).\n",
    "\n",
    "We start with a sample"
   ]
  },
  {
   "cell_type": "code",
   "execution_count": 6,
   "metadata": {},
   "outputs": [
    {
     "name": "stdout",
     "output_type": "stream",
     "text": [
      "Getting parameter width_ft\n"
     ]
    }
   ],
   "source": [
    "# Width code: 00004\n",
    "# Other width codes: 72331 (meters), 04121 (horizonta width, ft)\n",
    "# All codes: https://help.waterdata.usgs.gov/code/parameter_cd_query?fmt=rdb&inline=true&group_cd=%\n",
    "\n",
    "\n",
    "PARAMETER_CODE = '00004'\n",
    "PARAMETER_DICT = {'00004': 'width_ft'}\n",
    "PARAMETER_STRING = PARAMETER_DICT[PARAMETER_CODE]\n",
    "\n",
    "print(f'Getting parameter {PARAMETER_STRING}')\n",
    "\n",
    "payload = dict(format='rdb',#,1.0',\n",
    "               bBox=','.join(bounds),\n",
    "               parameterCd=PARAMETER_CODE,\n",
    "               siteStatus='all',\n",
    "               # This is for daily values.\n",
    "               #hasDataTypeCd='dv,iv', # daily values\n",
    "              )\n",
    "r = requests.get(URL, params=payload)"
   ]
  },
  {
   "cell_type": "code",
   "execution_count": 7,
   "metadata": {},
   "outputs": [
    {
     "name": "stdout",
     "output_type": "stream",
     "text": [
      "(68, 12)\n"
     ]
    },
    {
     "data": {
      "text/html": [
       "<div>\n",
       "<style scoped>\n",
       "    .dataframe tbody tr th:only-of-type {\n",
       "        vertical-align: middle;\n",
       "    }\n",
       "\n",
       "    .dataframe tbody tr th {\n",
       "        vertical-align: top;\n",
       "    }\n",
       "\n",
       "    .dataframe thead th {\n",
       "        text-align: right;\n",
       "    }\n",
       "</style>\n",
       "<table border=\"1\" class=\"dataframe\">\n",
       "  <thead>\n",
       "    <tr style=\"text-align: right;\">\n",
       "      <th></th>\n",
       "      <th>agency_cd</th>\n",
       "      <th>site_no</th>\n",
       "      <th>station_nm</th>\n",
       "      <th>site_tp_cd</th>\n",
       "      <th>dec_lat_va</th>\n",
       "      <th>dec_long_va</th>\n",
       "      <th>coord_acy_cd</th>\n",
       "      <th>dec_coord_datum_cd</th>\n",
       "      <th>alt_va</th>\n",
       "      <th>alt_acy_va</th>\n",
       "      <th>alt_datum_cd</th>\n",
       "      <th>huc_cd</th>\n",
       "    </tr>\n",
       "  </thead>\n",
       "  <tbody>\n",
       "    <tr>\n",
       "      <td>1</td>\n",
       "      <td>USGS</td>\n",
       "      <td>07291000</td>\n",
       "      <td>HOMOCHITTO RIVER AT EDDICETON, MS</td>\n",
       "      <td>ST</td>\n",
       "      <td>31.50305556</td>\n",
       "      <td>-90.7775</td>\n",
       "      <td>5</td>\n",
       "      <td>NAD83</td>\n",
       "      <td>212.22</td>\n",
       "      <td>0.1</td>\n",
       "      <td>NGVD29</td>\n",
       "      <td>08060205</td>\n",
       "    </tr>\n",
       "    <tr>\n",
       "      <td>2</td>\n",
       "      <td>USGS</td>\n",
       "      <td>07292500</td>\n",
       "      <td>HOMOCHITTO RIVER AT ROSETTA, MS</td>\n",
       "      <td>ST</td>\n",
       "      <td>31.3247222</td>\n",
       "      <td>-91.1094444</td>\n",
       "      <td>5</td>\n",
       "      <td>NAD83</td>\n",
       "      <td>94.39</td>\n",
       "      <td>0.1</td>\n",
       "      <td>NGVD29</td>\n",
       "      <td>08060205</td>\n",
       "    </tr>\n",
       "    <tr>\n",
       "      <td>3</td>\n",
       "      <td>USGS</td>\n",
       "      <td>07373420</td>\n",
       "      <td>MISSISSIPPI R NR ST. FRANCISVILLE, LA</td>\n",
       "      <td>ST</td>\n",
       "      <td>30.75851659</td>\n",
       "      <td>-91.3959464</td>\n",
       "      <td>U</td>\n",
       "      <td>NAD83</td>\n",
       "      <td>NaN</td>\n",
       "      <td>NaN</td>\n",
       "      <td>NaN</td>\n",
       "      <td>08070100</td>\n",
       "    </tr>\n",
       "    <tr>\n",
       "      <td>4</td>\n",
       "      <td>USGS</td>\n",
       "      <td>07375050</td>\n",
       "      <td>Tchefuncte River near Covington, LA</td>\n",
       "      <td>ST</td>\n",
       "      <td>30.4946364</td>\n",
       "      <td>-90.1695244</td>\n",
       "      <td>S</td>\n",
       "      <td>NAD83</td>\n",
       "      <td>0.00</td>\n",
       "      <td>0.1</td>\n",
       "      <td>NAVD88</td>\n",
       "      <td>08090201</td>\n",
       "    </tr>\n",
       "    <tr>\n",
       "      <td>5</td>\n",
       "      <td>USGS</td>\n",
       "      <td>07375170</td>\n",
       "      <td>Bogue Falaya at Covington, LA</td>\n",
       "      <td>ST</td>\n",
       "      <td>30.49963635</td>\n",
       "      <td>-90.0845216</td>\n",
       "      <td>S</td>\n",
       "      <td>NAD83</td>\n",
       "      <td>0.00</td>\n",
       "      <td>0.5</td>\n",
       "      <td>NAVD88</td>\n",
       "      <td>08090201</td>\n",
       "    </tr>\n",
       "  </tbody>\n",
       "</table>\n",
       "</div>"
      ],
      "text/plain": [
       "  agency_cd   site_no                             station_nm site_tp_cd  \\\n",
       "1      USGS  07291000      HOMOCHITTO RIVER AT EDDICETON, MS         ST   \n",
       "2      USGS  07292500        HOMOCHITTO RIVER AT ROSETTA, MS         ST   \n",
       "3      USGS  07373420  MISSISSIPPI R NR ST. FRANCISVILLE, LA         ST   \n",
       "4      USGS  07375050    Tchefuncte River near Covington, LA         ST   \n",
       "5      USGS  07375170          Bogue Falaya at Covington, LA         ST   \n",
       "\n",
       "    dec_lat_va  dec_long_va coord_acy_cd dec_coord_datum_cd   alt_va  \\\n",
       "1  31.50305556     -90.7775            5              NAD83   212.22   \n",
       "2   31.3247222  -91.1094444            5              NAD83    94.39   \n",
       "3  30.75851659  -91.3959464            U              NAD83      NaN   \n",
       "4   30.4946364  -90.1695244            S              NAD83     0.00   \n",
       "5  30.49963635  -90.0845216            S              NAD83     0.00   \n",
       "\n",
       "  alt_acy_va alt_datum_cd    huc_cd  \n",
       "1        0.1       NGVD29  08060205  \n",
       "2        0.1       NGVD29  08060205  \n",
       "3        NaN          NaN  08070100  \n",
       "4        0.1       NAVD88  08090201  \n",
       "5        0.5       NAVD88  08090201  "
      ]
     },
     "execution_count": 7,
     "metadata": {},
     "output_type": "execute_result"
    }
   ],
   "source": [
    "# the io portion ensures the usgs output format \n",
    "# can be parsed by pandas into a python dataframe in memory\n",
    "df_stations = pd.read_csv(io.StringIO(r.content.decode('utf-8')), delimiter='\\t', comment='#')\n",
    "df_stations = df_stations.iloc[1:]\n",
    "print(df_stations.shape)\n",
    "df_stations.head()"
   ]
  },
  {
   "cell_type": "code",
   "execution_count": 8,
   "metadata": {},
   "outputs": [],
   "source": [
    "df_stations.loc[:,'dec_long_va'] = pd.to_numeric(df_stations['dec_long_va'].values)\n",
    "df_stations.loc[:,'dec_lat_va'] = pd.to_numeric(df_stations['dec_lat_va'].values)\n",
    "\n",
    "def pointify(row):\n",
    "    return Point(row['dec_long_va'], row['dec_lat_va'])\n",
    "\n",
    "df_stations.dropna(subset=['dec_long_va', 'dec_lat_va'], inplace=True)\n",
    "geometry = df_stations.apply(pointify, axis=1)"
   ]
  },
  {
   "cell_type": "code",
   "execution_count": 9,
   "metadata": {},
   "outputs": [
    {
     "data": {
      "text/plain": [
       "<matplotlib.axes._subplots.AxesSubplot at 0x7fdd28642748>"
      ]
     },
     "execution_count": 9,
     "metadata": {},
     "output_type": "execute_result"
    },
    {
     "data": {
      "image/png": "[encoded data removed]",
      "text/plain": [
       "<Figure size 432x288 with 1 Axes>"
      ]
     },
     "metadata": {
      "needs_background": "light"
     },
     "output_type": "display_data"
    }
   ],
   "source": [
    "df_stations = gpd.GeoDataFrame(df_stations,\n",
    "                               geometry=geometry,\n",
    "                               crs={'init': 'epsg:4326'})\n",
    "df_stations.dropna(subset=['geometry'],\n",
    "                   inplace=True)\n",
    "df_stations.plot()"
   ]
  },
  {
   "cell_type": "code",
   "execution_count": 10,
   "metadata": {},
   "outputs": [],
   "source": [
    "df_stations = gpd.sjoin(df_stations,\n",
    "                        df_channel,\n",
    "                        how='inner',\n",
    "                        op='intersects')"
   ]
  },
  {
   "cell_type": "code",
   "execution_count": 11,
   "metadata": {},
   "outputs": [
    {
     "name": "stdout",
     "output_type": "stream",
     "text": [
      "(13, 15)\n"
     ]
    },
    {
     "data": {
      "text/plain": [
       "<matplotlib.axes._subplots.AxesSubplot at 0x7fdd68afd2e8>"
      ]
     },
     "execution_count": 11,
     "metadata": {},
     "output_type": "execute_result"
    },
    {
     "data": {
      "image/png": "[encoded data removed]",
      "text/plain": [
       "<Figure size 432x288 with 1 Axes>"
      ]
     },
     "metadata": {
      "needs_background": "light"
     },
     "output_type": "display_data"
    }
   ],
   "source": [
    "print(df_stations.shape)\n",
    "df_stations.plot()"
   ]
  },
  {
   "cell_type": "markdown",
   "metadata": {},
   "source": [
    "## 2 - Get Widths\n",
    "\n",
    "We use the API calls from the [Water Quality Data](https://www.waterqualitydata.us/portal/), which is what the USGS site directs us to for physical measurements.\n",
    "\n",
    "Here is a sample."
   ]
  },
  {
   "cell_type": "code",
   "execution_count": 12,
   "metadata": {},
   "outputs": [
    {
     "data": {
      "text/html": [
       "<div>\n",
       "<style scoped>\n",
       "    .dataframe tbody tr th:only-of-type {\n",
       "        vertical-align: middle;\n",
       "    }\n",
       "\n",
       "    .dataframe tbody tr th {\n",
       "        vertical-align: top;\n",
       "    }\n",
       "\n",
       "    .dataframe thead th {\n",
       "        text-align: right;\n",
       "    }\n",
       "</style>\n",
       "<table border=\"1\" class=\"dataframe\">\n",
       "  <thead>\n",
       "    <tr style=\"text-align: right;\">\n",
       "      <th></th>\n",
       "      <th>OrganizationIdentifier</th>\n",
       "      <th>OrganizationFormalName</th>\n",
       "      <th>ActivityIdentifier</th>\n",
       "      <th>ActivityStartDate</th>\n",
       "      <th>ActivityStartTime/Time</th>\n",
       "      <th>ActivityStartTime/TimeZoneCode</th>\n",
       "      <th>MonitoringLocationIdentifier</th>\n",
       "      <th>ResultIdentifier</th>\n",
       "      <th>DataLoggerLine</th>\n",
       "      <th>ResultDetectionConditionText</th>\n",
       "      <th>...</th>\n",
       "      <th>AnalysisEndTime/TimeZoneCode</th>\n",
       "      <th>ResultLaboratoryCommentCode</th>\n",
       "      <th>ResultLaboratoryCommentText</th>\n",
       "      <th>ResultDetectionQuantitationLimitUrl</th>\n",
       "      <th>LaboratoryAccreditationIndicator</th>\n",
       "      <th>LaboratoryAccreditationAuthorityName</th>\n",
       "      <th>TaxonomistAccreditationIndicator</th>\n",
       "      <th>TaxonomistAccreditationAuthorityName</th>\n",
       "      <th>LabSamplePreparationUrl</th>\n",
       "      <th>ProviderName</th>\n",
       "    </tr>\n",
       "  </thead>\n",
       "  <tbody>\n",
       "    <tr>\n",
       "      <td>0</td>\n",
       "      <td>USGS-LA</td>\n",
       "      <td>USGS Louisiana Water Science Center</td>\n",
       "      <td>nwisla.01.01900002</td>\n",
       "      <td>2018-10-16</td>\n",
       "      <td>11:00:00</td>\n",
       "      <td>CDT</td>\n",
       "      <td>USGS-07374525</td>\n",
       "      <td>NWIS-112141010</td>\n",
       "      <td>NaN</td>\n",
       "      <td>NaN</td>\n",
       "      <td>...</td>\n",
       "      <td>NaN</td>\n",
       "      <td>NaN</td>\n",
       "      <td>NaN</td>\n",
       "      <td>NaN</td>\n",
       "      <td>NaN</td>\n",
       "      <td>NaN</td>\n",
       "      <td>NaN</td>\n",
       "      <td>NaN</td>\n",
       "      <td>NaN</td>\n",
       "      <td>NWIS</td>\n",
       "    </tr>\n",
       "    <tr>\n",
       "      <td>1</td>\n",
       "      <td>USGS-LA</td>\n",
       "      <td>USGS Louisiana Water Science Center</td>\n",
       "      <td>nwisla.01.01900037</td>\n",
       "      <td>2018-12-04</td>\n",
       "      <td>11:00:00</td>\n",
       "      <td>CST</td>\n",
       "      <td>USGS-07374525</td>\n",
       "      <td>NWIS-115622298</td>\n",
       "      <td>NaN</td>\n",
       "      <td>NaN</td>\n",
       "      <td>...</td>\n",
       "      <td>NaN</td>\n",
       "      <td>NaN</td>\n",
       "      <td>NaN</td>\n",
       "      <td>NaN</td>\n",
       "      <td>NaN</td>\n",
       "      <td>NaN</td>\n",
       "      <td>NaN</td>\n",
       "      <td>NaN</td>\n",
       "      <td>NaN</td>\n",
       "      <td>NWIS</td>\n",
       "    </tr>\n",
       "    <tr>\n",
       "      <td>2</td>\n",
       "      <td>USGS-LA</td>\n",
       "      <td>USGS Louisiana Water Science Center</td>\n",
       "      <td>nwisla.01.01800179</td>\n",
       "      <td>2018-06-19</td>\n",
       "      <td>11:00:00</td>\n",
       "      <td>CDT</td>\n",
       "      <td>USGS-07374525</td>\n",
       "      <td>NWIS-111292399</td>\n",
       "      <td>NaN</td>\n",
       "      <td>NaN</td>\n",
       "      <td>...</td>\n",
       "      <td>NaN</td>\n",
       "      <td>NaN</td>\n",
       "      <td>NaN</td>\n",
       "      <td>NaN</td>\n",
       "      <td>NaN</td>\n",
       "      <td>NaN</td>\n",
       "      <td>NaN</td>\n",
       "      <td>NaN</td>\n",
       "      <td>NaN</td>\n",
       "      <td>NWIS</td>\n",
       "    </tr>\n",
       "    <tr>\n",
       "      <td>3</td>\n",
       "      <td>USGS-LA</td>\n",
       "      <td>USGS Louisiana Water Science Center</td>\n",
       "      <td>nwisla.01.01900291</td>\n",
       "      <td>2019-07-09</td>\n",
       "      <td>11:00:00</td>\n",
       "      <td>CDT</td>\n",
       "      <td>USGS-07374525</td>\n",
       "      <td>NWIS-117263720</td>\n",
       "      <td>NaN</td>\n",
       "      <td>NaN</td>\n",
       "      <td>...</td>\n",
       "      <td>NaN</td>\n",
       "      <td>NaN</td>\n",
       "      <td>NaN</td>\n",
       "      <td>NaN</td>\n",
       "      <td>NaN</td>\n",
       "      <td>NaN</td>\n",
       "      <td>NaN</td>\n",
       "      <td>NaN</td>\n",
       "      <td>NaN</td>\n",
       "      <td>NWIS</td>\n",
       "    </tr>\n",
       "    <tr>\n",
       "      <td>4</td>\n",
       "      <td>USGS-LA</td>\n",
       "      <td>USGS Louisiana Water Science Center</td>\n",
       "      <td>nwisla.01.02000322</td>\n",
       "      <td>2020-06-23</td>\n",
       "      <td>11:00:00</td>\n",
       "      <td>CDT</td>\n",
       "      <td>USGS-07374525</td>\n",
       "      <td>NWIS-119213000</td>\n",
       "      <td>NaN</td>\n",
       "      <td>NaN</td>\n",
       "      <td>...</td>\n",
       "      <td>NaN</td>\n",
       "      <td>NaN</td>\n",
       "      <td>NaN</td>\n",
       "      <td>NaN</td>\n",
       "      <td>NaN</td>\n",
       "      <td>NaN</td>\n",
       "      <td>NaN</td>\n",
       "      <td>NaN</td>\n",
       "      <td>NaN</td>\n",
       "      <td>NWIS</td>\n",
       "    </tr>\n",
       "  </tbody>\n",
       "</table>\n",
       "<p>5 rows × 78 columns</p>\n",
       "</div>"
      ],
      "text/plain": [
       "  OrganizationIdentifier               OrganizationFormalName  \\\n",
       "0                USGS-LA  USGS Louisiana Water Science Center   \n",
       "1                USGS-LA  USGS Louisiana Water Science Center   \n",
       "2                USGS-LA  USGS Louisiana Water Science Center   \n",
       "3                USGS-LA  USGS Louisiana Water Science Center   \n",
       "4                USGS-LA  USGS Louisiana Water Science Center   \n",
       "\n",
       "   ActivityIdentifier ActivityStartDate ActivityStartTime/Time  \\\n",
       "0  nwisla.01.01900002        2018-10-16               11:00:00   \n",
       "1  nwisla.01.01900037        2018-12-04               11:00:00   \n",
       "2  nwisla.01.01800179        2018-06-19               11:00:00   \n",
       "3  nwisla.01.01900291        2019-07-09               11:00:00   \n",
       "4  nwisla.01.02000322        2020-06-23               11:00:00   \n",
       "\n",
       "  ActivityStartTime/TimeZoneCode MonitoringLocationIdentifier  \\\n",
       "0                            CDT                USGS-07374525   \n",
       "1                            CST                USGS-07374525   \n",
       "2                            CDT                USGS-07374525   \n",
       "3                            CDT                USGS-07374525   \n",
       "4                            CDT                USGS-07374525   \n",
       "\n",
       "  ResultIdentifier  DataLoggerLine  ResultDetectionConditionText  ...  \\\n",
       "0   NWIS-112141010             NaN                           NaN  ...   \n",
       "1   NWIS-115622298             NaN                           NaN  ...   \n",
       "2   NWIS-111292399             NaN                           NaN  ...   \n",
       "3   NWIS-117263720             NaN                           NaN  ...   \n",
       "4   NWIS-119213000             NaN                           NaN  ...   \n",
       "\n",
       "   AnalysisEndTime/TimeZoneCode ResultLaboratoryCommentCode  \\\n",
       "0                           NaN                         NaN   \n",
       "1                           NaN                         NaN   \n",
       "2                           NaN                         NaN   \n",
       "3                           NaN                         NaN   \n",
       "4                           NaN                         NaN   \n",
       "\n",
       "   ResultLaboratoryCommentText  ResultDetectionQuantitationLimitUrl  \\\n",
       "0                          NaN                                  NaN   \n",
       "1                          NaN                                  NaN   \n",
       "2                          NaN                                  NaN   \n",
       "3                          NaN                                  NaN   \n",
       "4                          NaN                                  NaN   \n",
       "\n",
       "  LaboratoryAccreditationIndicator  LaboratoryAccreditationAuthorityName  \\\n",
       "0                              NaN                                   NaN   \n",
       "1                              NaN                                   NaN   \n",
       "2                              NaN                                   NaN   \n",
       "3                              NaN                                   NaN   \n",
       "4                              NaN                                   NaN   \n",
       "\n",
       "  TaxonomistAccreditationIndicator  TaxonomistAccreditationAuthorityName  \\\n",
       "0                              NaN                                   NaN   \n",
       "1                              NaN                                   NaN   \n",
       "2                              NaN                                   NaN   \n",
       "3                              NaN                                   NaN   \n",
       "4                              NaN                                   NaN   \n",
       "\n",
       "  LabSamplePreparationUrl  ProviderName  \n",
       "0                     NaN          NWIS  \n",
       "1                     NaN          NWIS  \n",
       "2                     NaN          NWIS  \n",
       "3                     NaN          NWIS  \n",
       "4                     NaN          NWIS  \n",
       "\n",
       "[5 rows x 78 columns]"
      ]
     },
     "execution_count": 12,
     "metadata": {},
     "output_type": "execute_result"
    }
   ],
   "source": [
    "URL_WQ = 'https://www.waterqualitydata.us/data/Result/search?'\n",
    "site_no = '07374525'\n",
    "payload = {'siteid': f'USGS-{site_no}',\n",
    "           'pCode': '00004',\n",
    "           'mimeType': 'csv',\n",
    "           'zip': 'no',\n",
    "           'dataProfile': 'narrowResult'\n",
    "           }\n",
    "r = requests.get(URL_WQ, params=payload)\n",
    "r.url, r.status_code\n",
    "df_heights = pd.read_csv(io.StringIO(r.content.decode('utf-8')))\n",
    "df_heights.head()"
   ]
  },
  {
   "cell_type": "markdown",
   "metadata": {},
   "source": [
    "The important column is `ResultMeasureValue` in `ft`."
   ]
  },
  {
   "cell_type": "code",
   "execution_count": 13,
   "metadata": {},
   "outputs": [
    {
     "data": {
      "text/plain": [
       "0    2410\n",
       "1    2480\n",
       "2    2480\n",
       "3    2640\n",
       "4    2640\n",
       "Name: ResultMeasureValue, dtype: int64"
      ]
     },
     "execution_count": 13,
     "metadata": {},
     "output_type": "execute_result"
    }
   ],
   "source": [
    "df_heights['ResultMeasureValue'].head()"
   ]
  },
  {
   "cell_type": "code",
   "execution_count": 14,
   "metadata": {},
   "outputs": [],
   "source": [
    "def get_station_width_stats(site_no):\n",
    "    payload = {'siteid': f'USGS-{site_no}',\n",
    "               'pCode': '00004',\n",
    "               'mimeType': 'csv',\n",
    "               'zip': 'no',\n",
    "               'dataProfile': 'narrowResult'\n",
    "               }\n",
    "    r = requests.get(URL_WQ, params=payload)\n",
    "    df_heights = pd.read_csv(io.StringIO(r.content.decode('utf-8')))\n",
    "    heights = df_heights.ResultMeasureValue.values * 0.3048\n",
    "    return heights.mean(), heights.std(), len(heights), heights.min(), heights.max()"
   ]
  },
  {
   "cell_type": "code",
   "execution_count": 15,
   "metadata": {},
   "outputs": [
    {
     "data": {
      "text/html": [
       "<div>\n",
       "<style scoped>\n",
       "    .dataframe tbody tr th:only-of-type {\n",
       "        vertical-align: middle;\n",
       "    }\n",
       "\n",
       "    .dataframe tbody tr th {\n",
       "        vertical-align: top;\n",
       "    }\n",
       "\n",
       "    .dataframe thead th {\n",
       "        text-align: right;\n",
       "    }\n",
       "</style>\n",
       "<table border=\"1\" class=\"dataframe\">\n",
       "  <thead>\n",
       "    <tr style=\"text-align: right;\">\n",
       "      <th></th>\n",
       "      <th>agency_cd</th>\n",
       "      <th>site_no</th>\n",
       "      <th>station_nm</th>\n",
       "      <th>site_tp_cd</th>\n",
       "      <th>dec_lat_va</th>\n",
       "      <th>dec_long_va</th>\n",
       "      <th>coord_acy_cd</th>\n",
       "      <th>dec_coord_datum_cd</th>\n",
       "      <th>alt_va</th>\n",
       "      <th>alt_acy_va</th>\n",
       "      <th>alt_datum_cd</th>\n",
       "      <th>huc_cd</th>\n",
       "      <th>geometry</th>\n",
       "      <th>index_right</th>\n",
       "      <th>label</th>\n",
       "      <th>width_mean</th>\n",
       "      <th>width_std</th>\n",
       "      <th>width_count</th>\n",
       "      <th>width_min</th>\n",
       "      <th>width_max</th>\n",
       "    </tr>\n",
       "  </thead>\n",
       "  <tbody>\n",
       "    <tr>\n",
       "      <td>3</td>\n",
       "      <td>USGS</td>\n",
       "      <td>07373420</td>\n",
       "      <td>MISSISSIPPI R NR ST. FRANCISVILLE, LA</td>\n",
       "      <td>ST</td>\n",
       "      <td>30.758517</td>\n",
       "      <td>-91.395946</td>\n",
       "      <td>U</td>\n",
       "      <td>NAD83</td>\n",
       "      <td>NaN</td>\n",
       "      <td>NaN</td>\n",
       "      <td>NaN</td>\n",
       "      <td>08070100</td>\n",
       "      <td>POINT (-91.3959464 30.75851659)</td>\n",
       "      <td>30</td>\n",
       "      <td>1</td>\n",
       "      <td>1518.224842</td>\n",
       "      <td>2215.672987</td>\n",
       "      <td>19</td>\n",
       "      <td>908.304</td>\n",
       "      <td>10911.840</td>\n",
       "    </tr>\n",
       "    <tr>\n",
       "      <td>10</td>\n",
       "      <td>USGS</td>\n",
       "      <td>073814675</td>\n",
       "      <td>Bayou Boeuf at Railroad Bridge at Amelia, LA</td>\n",
       "      <td>ST</td>\n",
       "      <td>29.668333</td>\n",
       "      <td>-91.099722</td>\n",
       "      <td>S</td>\n",
       "      <td>NAD83</td>\n",
       "      <td>0.00</td>\n",
       "      <td>.01</td>\n",
       "      <td>NAVD88</td>\n",
       "      <td>08090302</td>\n",
       "      <td>POINT (-91.0997222 29.66833333)</td>\n",
       "      <td>30</td>\n",
       "      <td>1</td>\n",
       "      <td>186.415680</td>\n",
       "      <td>3.624942</td>\n",
       "      <td>25</td>\n",
       "      <td>179.832</td>\n",
       "      <td>195.072</td>\n",
       "    </tr>\n",
       "    <tr>\n",
       "      <td>11</td>\n",
       "      <td>USGS</td>\n",
       "      <td>07381495</td>\n",
       "      <td>(COE) Atchafalaya River at Melville, LA</td>\n",
       "      <td>ST</td>\n",
       "      <td>30.690743</td>\n",
       "      <td>-91.736226</td>\n",
       "      <td>S</td>\n",
       "      <td>NAD83</td>\n",
       "      <td>NaN</td>\n",
       "      <td>NaN</td>\n",
       "      <td>NaN</td>\n",
       "      <td>08080101</td>\n",
       "      <td>POINT (-91.7362262 30.690743)</td>\n",
       "      <td>30</td>\n",
       "      <td>1</td>\n",
       "      <td>428.752000</td>\n",
       "      <td>25.093349</td>\n",
       "      <td>27</td>\n",
       "      <td>374.904</td>\n",
       "      <td>481.584</td>\n",
       "    </tr>\n",
       "    <tr>\n",
       "      <td>12</td>\n",
       "      <td>USGS</td>\n",
       "      <td>07381600</td>\n",
       "      <td>Lower Atchafalaya River at Morgan City, LA</td>\n",
       "      <td>ST</td>\n",
       "      <td>29.692819</td>\n",
       "      <td>-91.211937</td>\n",
       "      <td>S</td>\n",
       "      <td>NAD83</td>\n",
       "      <td>-0.45</td>\n",
       "      <td>.01</td>\n",
       "      <td>NAVD88</td>\n",
       "      <td>08080101</td>\n",
       "      <td>POINT (-91.2119368 29.69281939)</td>\n",
       "      <td>30</td>\n",
       "      <td>1</td>\n",
       "      <td>556.895000</td>\n",
       "      <td>43.600600</td>\n",
       "      <td>24</td>\n",
       "      <td>509.016</td>\n",
       "      <td>755.904</td>\n",
       "    </tr>\n",
       "    <tr>\n",
       "      <td>29</td>\n",
       "      <td>USGS</td>\n",
       "      <td>08030500</td>\n",
       "      <td>Sabine Rv nr Ruliff, TX</td>\n",
       "      <td>ST</td>\n",
       "      <td>30.303817</td>\n",
       "      <td>-93.743778</td>\n",
       "      <td>F</td>\n",
       "      <td>NAD83</td>\n",
       "      <td>-5.92</td>\n",
       "      <td>.1</td>\n",
       "      <td>NGVD29</td>\n",
       "      <td>12010005</td>\n",
       "      <td>POINT (-93.74377840000001 30.30381684)</td>\n",
       "      <td>19</td>\n",
       "      <td>1</td>\n",
       "      <td>80.238600</td>\n",
       "      <td>3.993782</td>\n",
       "      <td>44</td>\n",
       "      <td>76.200</td>\n",
       "      <td>86.868</td>\n",
       "    </tr>\n",
       "  </tbody>\n",
       "</table>\n",
       "</div>"
      ],
      "text/plain": [
       "   agency_cd    site_no                                    station_nm  \\\n",
       "3       USGS   07373420         MISSISSIPPI R NR ST. FRANCISVILLE, LA   \n",
       "10      USGS  073814675  Bayou Boeuf at Railroad Bridge at Amelia, LA   \n",
       "11      USGS   07381495       (COE) Atchafalaya River at Melville, LA   \n",
       "12      USGS   07381600    Lower Atchafalaya River at Morgan City, LA   \n",
       "29      USGS   08030500                       Sabine Rv nr Ruliff, TX   \n",
       "\n",
       "   site_tp_cd  dec_lat_va  dec_long_va coord_acy_cd dec_coord_datum_cd  \\\n",
       "3          ST   30.758517   -91.395946            U              NAD83   \n",
       "10         ST   29.668333   -91.099722            S              NAD83   \n",
       "11         ST   30.690743   -91.736226            S              NAD83   \n",
       "12         ST   29.692819   -91.211937            S              NAD83   \n",
       "29         ST   30.303817   -93.743778            F              NAD83   \n",
       "\n",
       "    alt_va alt_acy_va alt_datum_cd    huc_cd  \\\n",
       "3      NaN        NaN          NaN  08070100   \n",
       "10    0.00        .01       NAVD88  08090302   \n",
       "11     NaN        NaN          NaN  08080101   \n",
       "12   -0.45        .01       NAVD88  08080101   \n",
       "29   -5.92         .1       NGVD29  12010005   \n",
       "\n",
       "                                  geometry  index_right  label   width_mean  \\\n",
       "3          POINT (-91.3959464 30.75851659)           30      1  1518.224842   \n",
       "10         POINT (-91.0997222 29.66833333)           30      1   186.415680   \n",
       "11           POINT (-91.7362262 30.690743)           30      1   428.752000   \n",
       "12         POINT (-91.2119368 29.69281939)           30      1   556.895000   \n",
       "29  POINT (-93.74377840000001 30.30381684)           19      1    80.238600   \n",
       "\n",
       "      width_std  width_count  width_min  width_max  \n",
       "3   2215.672987           19    908.304  10911.840  \n",
       "10     3.624942           25    179.832    195.072  \n",
       "11    25.093349           27    374.904    481.584  \n",
       "12    43.600600           24    509.016    755.904  \n",
       "29     3.993782           44     76.200     86.868  "
      ]
     },
     "execution_count": 15,
     "metadata": {},
     "output_type": "execute_result"
    }
   ],
   "source": [
    "temp = df_stations.site_no.map(get_station_width_stats)\n",
    "(df_stations['width_mean'],\n",
    " df_stations['width_std'], \n",
    " df_stations['width_count'],\n",
    " df_stations['width_min'],\n",
    " df_stations['width_max']) = zip(*temp)\n",
    "df_stations.head()"
   ]
  },
  {
   "cell_type": "markdown",
   "metadata": {},
   "source": [
    "## 3 - Save Data"
   ]
  },
  {
   "cell_type": "code",
   "execution_count": 16,
   "metadata": {},
   "outputs": [],
   "source": [
    "df_stations = df_stations[~df_stations.station_nm.str.contains('Matagorda')].copy()"
   ]
  },
  {
   "cell_type": "markdown",
   "metadata": {},
   "source": [
    "## Plot Stations"
   ]
  },
  {
   "cell_type": "code",
   "execution_count": 17,
   "metadata": {},
   "outputs": [],
   "source": [
    "PLOT_DIR = Path('plot/')\n",
    "PLOT_DIR.mkdir(exist_ok=True)"
   ]
  },
  {
   "cell_type": "code",
   "execution_count": 18,
   "metadata": {},
   "outputs": [],
   "source": [
    "plt.rc('text', usetex=True)\n",
    "plt.rc('font', family='serif', size=25)"
   ]
  },
  {
   "cell_type": "code",
   "execution_count": 19,
   "metadata": {},
   "outputs": [
    {
     "data": {
      "text/plain": [
       "['MISSISSIPPI R NR ST. FRANCISVILLE, LA',\n",
       " 'Bayou Boeuf at Railroad Bridge at Amelia, LA',\n",
       " '(COE) Atchafalaya River at Melville, LA',\n",
       " 'Lower Atchafalaya River at Morgan City, LA',\n",
       " 'Sabine Rv nr Ruliff, TX',\n",
       " 'Trinity Rv nr Oakwood, TX',\n",
       " 'Trinity Rv nr Crockett, TX',\n",
       " 'Trinity Rv at Riverside, TX',\n",
       " 'Trinity Rv at Romayor, TX',\n",
       " 'Trinity Rv at Liberty, TX',\n",
       " 'Old Rv Cutoff at Buckeye Island nr Anahuac, TX',\n",
       " 'Brazos Rv nr Rosharon, TX']"
      ]
     },
     "execution_count": 19,
     "metadata": {},
     "output_type": "execute_result"
    }
   ],
   "source": [
    "names = df_stations.station_nm.tolist()\n",
    "names"
   ]
  },
  {
   "cell_type": "markdown",
   "metadata": {},
   "source": [
    "We rename the stations manually."
   ]
  },
  {
   "cell_type": "code",
   "execution_count": 20,
   "metadata": {},
   "outputs": [],
   "source": [
    "rename = ['St. Francisville, LA',\n",
    "          'Bayou Boeuf, LA',\n",
    "          'Melville, LA',\n",
    "          'Morgan City, LA',\n",
    "          'Ruliff, TX',\n",
    "          'Oakwood, TX',\n",
    "          'Crockett, TX',\n",
    "          'Riverside, TX',\n",
    "          'Romayor, TX',\n",
    "          'Liberty, TX',\n",
    "          'Anahuac, TX',\n",
    "          'Rosharon, TX',\n",
    "          'Matagorda, TX']\n",
    "rename_dict = {n: rn for n, rn in zip(names, rename)}\n",
    "df_stations['station_name_manual'] = df_stations['station_nm'].map(lambda name: rename_dict.get(name, ''))"
   ]
  },
  {
   "cell_type": "code",
   "execution_count": 21,
   "metadata": {},
   "outputs": [
    {
     "name": "stderr",
     "output_type": "stream",
     "text": [
      "/Users/cmarshak/anaconda3/lib/python3.7/site-packages/geopandas/io/file.py:108: FionaDeprecationWarning: Use fiona.Env() instead.\n",
      "  with fiona.drivers():\n"
     ]
    }
   ],
   "source": [
    "df_stations.to_file(tile_dir/f'{PARAMETER_STRING}_{tile_name}_station.geojson', driver='GeoJSON')"
   ]
  },
  {
   "cell_type": "code",
   "execution_count": 22,
   "metadata": {},
   "outputs": [
    {
     "name": "stderr",
     "output_type": "stream",
     "text": [
      "/Users/cmarshak/anaconda3/lib/python3.7/site-packages/geopandas/plotting.py:393: UserWarning: Only specify one of 'column' or 'color'. Using 'color'.\n",
      "  \"'color'.\", UserWarning)\n"
     ]
    },
    {
     "data": {
      "image/png": "[encoded data removed]",
      "text/plain": [
       "<Figure size 1080x720 with 1 Axes>"
      ]
     },
     "metadata": {
      "needs_background": "light"
     },
     "output_type": "display_data"
    }
   ],
   "source": [
    "fig, ax = plt.subplots(figsize=(15, 10))\n",
    "\n",
    "df_channel.plot(ax=ax)\n",
    "df_stations.plot(ax=ax, \n",
    "                 column='parameter_name', \n",
    "                 markersize=100,\n",
    "                 color='tab:green',\n",
    "                 label='USGS Stations with width data')\n",
    "\n",
    "xmin, ymin, xmax, ymax = df_channel.total_bounds\n",
    "ax.axis((xmin - .1, xmax, ymin, ymax))\n",
    "plt.legend()\n",
    "\n",
    "for idx, row in df_stations.iterrows():\n",
    "    \n",
    "    s = row['station_name_manual']\n",
    "    \n",
    "    k = .4\n",
    "    fs = 15\n",
    "    if 'Morgan' in s:\n",
    "        ax.annotate(s=s, \n",
    "                    xy=(row['geometry'].coords[:][0][0] - k, row['geometry'].coords[:][0][1]),\n",
    "                    horizontalalignment='center', \n",
    "                    c='black',\n",
    "                    fontsize=fs)\n",
    "    elif 'St.' in s:\n",
    "        ax.annotate(s=s, \n",
    "                    xy=(row['geometry'].coords[:][0][0], row['geometry'].coords[:][0][1] + k/5),\n",
    "                    horizontalalignment='center', \n",
    "                    c='black',\n",
    "                    fontsize=fs)\n",
    "    elif 'Bayou' in s:\n",
    "        ax.annotate(s=s, \n",
    "                    xy=(row['geometry'].coords[:][0][0] + k, row['geometry'].coords[:][0][1]),\n",
    "                    horizontalalignment='center', \n",
    "                    c='black',\n",
    "                    fontsize=fs)\n",
    "    else:\n",
    "        ax.annotate(s=s, \n",
    "                    xy=row['geometry'].coords[:][0],\n",
    "                    horizontalalignment='center', \n",
    "                    c='black',\n",
    "                    fontsize=fs)\n",
    "\n",
    "ax.axis('off')\n",
    "plt.savefig(PLOT_DIR/'stations.png')"
   ]
  }
 ],
 "metadata": {
  "kernel_info": {
   "name": "srspylite"
  },
  "kernelspec": {
   "display_name": "Python 3",
   "language": "python",
   "name": "python3"
  },
  "language_info": {
   "codemirror_mode": {
    "name": "ipython",
    "version": 3
   },
   "file_extension": ".py",
   "mimetype": "text/x-python",
   "name": "python",
   "nbconvert_exporter": "python",
   "pygments_lexer": "ipython3",
   "version": "3.7.3"
  },
  "nteract": {
   "version": "0.15.0"
  }
 },
 "nbformat": 4,
 "nbformat_minor": 2
}
