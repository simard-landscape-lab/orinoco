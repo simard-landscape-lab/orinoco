{
 "cells": [
  {
   "cell_type": "markdown",
   "metadata": {},
   "source": [
    "We are going to run the entire network on GRWL Tile and then use USGS width data for validation. This provides another avenue for validation. This mirrors the notebook for GRWL validation."
   ]
  },
  {
   "cell_type": "code",
   "execution_count": 1,
   "metadata": {},
   "outputs": [],
   "source": [
    "import rasterio\n",
    "import matplotlib.pyplot as plt\n",
    "import numpy as np\n",
    "from pathlib import Path\n",
    "import pyproj\n",
    "import geopandas as gpd\n",
    "from rasterio import features\n",
    "from rasterio.warp import transform_bounds\n",
    "import scipy.ndimage as nd\n",
    "from orinoco import filter_binary_array_by_min_size, polygonize_array_to_shapefile, get_cropped_profile\n",
    "from tqdm import tqdm\n",
    "import scipy.ndimage as nd\n",
    "from skimage import measure"
   ]
  },
  {
   "cell_type": "markdown",
   "metadata": {},
   "source": [
    "# Specify the GRWL Directory\n",
    "\n",
    "The data we have lies in the following directory structure:\n",
    "\n",
    "+ Centerlines: `grwl_data/centerlines/<tile_name>.tif`\n",
    "+ Mask: `grwl_data/masks/<tile_name>.tif`"
   ]
  },
  {
   "cell_type": "code",
   "execution_count": 2,
   "metadata": {},
   "outputs": [
    {
     "data": {
      "text/plain": [
       "True"
      ]
     },
     "execution_count": 2,
     "metadata": {},
     "output_type": "execute_result"
    }
   ],
   "source": [
    "tile_name = 'NH15'\n",
    "grwl_data = Path('grwl_data')\n",
    "grwl_data.exists()"
   ]
  },
  {
   "cell_type": "markdown",
   "metadata": {},
   "source": [
    "# Create a Tile Directory for Output Proudcts\n",
    "\n",
    "We use the tile name to create a directory for our products."
   ]
  },
  {
   "cell_type": "code",
   "execution_count": 3,
   "metadata": {},
   "outputs": [],
   "source": [
    "tile_dir = Path(f'out/{tile_name}')\n",
    "tile_dir.mkdir(exist_ok=True, parents=True)"
   ]
  },
  {
   "cell_type": "markdown",
   "metadata": {},
   "source": [
    "# Crop The Water Mask Data\n",
    "\n",
    "Let's first inspect the data."
   ]
  },
  {
   "cell_type": "code",
   "execution_count": 4,
   "metadata": {},
   "outputs": [],
   "source": [
    "with rasterio.open(grwl_data/f'masks/{tile_name}.tif') as ds:\n",
    "    water_mask = ds.read(1).astype(bool).astype(int)\n",
    "    profile = ds.profile"
   ]
  },
  {
   "cell_type": "code",
   "execution_count": 5,
   "metadata": {},
   "outputs": [
    {
     "data": {
      "text/plain": [
       "<matplotlib.image.AxesImage at 0x7fbf38287c18>"
      ]
     },
     "execution_count": 5,
     "metadata": {},
     "output_type": "execute_result"
    },
    {
     "data": {
      "image/png": "[encoded data removed]",
      "text/plain": [
       "<Figure size 720x720 with 1 Axes>"
      ]
     },
     "metadata": {
      "needs_background": "light"
     },
     "output_type": "display_data"
    }
   ],
   "source": [
    "plt.figure(figsize=(10, 10))\n",
    "plt.imshow(water_mask)"
   ]
  },
  {
   "cell_type": "markdown",
   "metadata": {},
   "source": [
    "We manually find a window using numpy slices. We select a window that includes both the Sabine river, parts of the Mississippi, and of course, the Atchafalaya River Delta. This will provide us ample areas to validate the width product."
   ]
  },
  {
   "cell_type": "code",
   "execution_count": 6,
   "metadata": {},
   "outputs": [
    {
     "data": {
      "text/plain": [
       "<matplotlib.image.AxesImage at 0x7fbf89f6c160>"
      ]
     },
     "execution_count": 6,
     "metadata": {},
     "output_type": "execute_result"
    },
    {
     "data": {
      "image/png": "[encoded data removed]",
      "text/plain": [
       "<Figure size 720x720 with 1 Axes>"
      ]
     },
     "metadata": {
      "needs_background": "light"
     },
     "output_type": "display_data"
    }
   ],
   "source": [
    "# sy = np.s_[:10_000]\n",
    "# sx = np.s_[5_000:]\n",
    "sy = np.s_[:]\n",
    "sx = np.s_[:]\n",
    "\n",
    "plt.figure(figsize=(10, 10))\n",
    "plt.imshow(water_mask[sy, sx])"
   ]
  },
  {
   "cell_type": "markdown",
   "metadata": {},
   "source": [
    "Having a satisfactory extent, we obtain the relevant geographic metadata and save the cropped area."
   ]
  },
  {
   "cell_type": "code",
   "execution_count": 7,
   "metadata": {},
   "outputs": [],
   "source": [
    "water_mask_c = water_mask[sy, sx]\n",
    "profile_c = get_cropped_profile(profile, sx, sy)\n",
    "\n",
    "with rasterio.open(tile_dir/f'water_mask_{tile_name}.tif', 'w', **profile_c) as ds:\n",
    "    ds.write(water_mask_c.astype('uint8'), 1)"
   ]
  },
  {
   "cell_type": "markdown",
   "metadata": {},
   "source": [
    "# Initialization Mask\n",
    "\n",
    "We use this hydropolys [dataset](https://apps.gis.ucla.edu/geodata/dataset/world_water_bodies/resource/a6b40af0-84cb-40ce-b1c5-b024527a6943). This is a large dataset and we put it on an external hard drive.\n",
    "\n",
    "Update your path accordingly."
   ]
  },
  {
   "cell_type": "code",
   "execution_count": 8,
   "metadata": {},
   "outputs": [
    {
     "data": {
      "text/plain": [
       "True"
      ]
     },
     "execution_count": 8,
     "metadata": {},
     "output_type": "execute_result"
    }
   ],
   "source": [
    "water_body_shapefile = Path('/Volumes/BigData/river_data/hydropolys')\n",
    "water_body_shapefile.exists()"
   ]
  },
  {
   "cell_type": "markdown",
   "metadata": {},
   "source": [
    "We utilize rasterio's [`rasterize`](https://rasterio.readthedocs.io/en/latest/topics/features.html#burning-shapes-into-a-raster) to transalte the ocean geometry from the dataset above."
   ]
  },
  {
   "cell_type": "code",
   "execution_count": 9,
   "metadata": {},
   "outputs": [],
   "source": [
    "def translate_one(geometry, profile):\n",
    "    shapes = [(geometry, 1)]\n",
    "    out_arr = np.zeros((profile['height'], profile['width']))\n",
    "    burned = features.rasterize(shapes=shapes,\n",
    "                                out=out_arr,\n",
    "                                transform=profile['transform'],\n",
    "                                all_touched=True)\n",
    "    return burned"
   ]
  },
  {
   "cell_type": "markdown",
   "metadata": {},
   "source": [
    "We obtain the bounds of our dataset and use this to read a subset of the large shapefile consisting of global waterbodies. Then we translate the shapefile into a raster."
   ]
  },
  {
   "cell_type": "code",
   "execution_count": 18,
   "metadata": {},
   "outputs": [
    {
     "data": {
      "text/plain": [
       "<matplotlib.image.AxesImage at 0x7fbf78d737f0>"
      ]
     },
     "execution_count": 18,
     "metadata": {},
     "output_type": "execute_result"
    },
    {
     "data": {
      "image/png": "[encoded data removed]",
      "text/plain": [
       "<Figure size 432x288 with 1 Axes>"
      ]
     },
     "metadata": {
      "needs_background": "light"
     },
     "output_type": "display_data"
    }
   ],
   "source": [
    "with rasterio.open(tile_dir/f'water_mask_{tile_name}.tif') as ds:\n",
    "    bounds = ds.bounds\n",
    "    crs = str(ds.crs).lower()\n",
    "    profile = ds.profile\n",
    "bounds_4326 = transform_bounds(crs, 'epsg:4326', *bounds)\n",
    "oceanline_df = gpd.read_file(water_body_shapefile, bbox=bounds_4326).to_crs({'init':crs})\n",
    "oceanline_df = oceanline_df[oceanline_df['TYPE'] == 'Ocean or Sea'].copy()\n",
    "ocean_geometry = oceanline_df.geometry.unary_union.buffer(1e-9)\n",
    "ocean_mask = translate_one(ocean_geometry, profile)\n",
    "# Make sure all the rivers are connected to the ocean\n",
    "# Approximately 300 meter buffer\n",
    "ocean_mask = nd.binary_dilation(ocean_mask, iterations=10)\n",
    "plt.imshow(ocean_mask)"
   ]
  },
  {
   "cell_type": "markdown",
   "metadata": {},
   "source": [
    "We save the raster to our product directory."
   ]
  },
  {
   "cell_type": "code",
   "execution_count": 19,
   "metadata": {},
   "outputs": [],
   "source": [
    "with rasterio.open(tile_dir/f'ocean_mask_{tile_name}.tif', 'w', **profile) as ds:\n",
    "    ds.write(ocean_mask.astype('uint8'), 1)"
   ]
  },
  {
   "cell_type": "markdown",
   "metadata": {},
   "source": [
    "# Save Channel Mask as Shapefile\n",
    "\n",
    "This will be useful for intersecting USGS stations. We will provide a buffer of 60 meters to ensure the water masks get all available stations."
   ]
  },
  {
   "cell_type": "code",
   "execution_count": 20,
   "metadata": {},
   "outputs": [
    {
     "data": {
      "text/plain": [
       "<matplotlib.image.AxesImage at 0x7fbf8a523dd8>"
      ]
     },
     "execution_count": 20,
     "metadata": {},
     "output_type": "execute_result"
    },
    {
     "data": {
      "image/png": "[encoded data removed]",
      "text/plain": [
       "<Figure size 432x288 with 1 Axes>"
      ]
     },
     "metadata": {
      "needs_background": "light"
     },
     "output_type": "display_data"
    }
   ],
   "source": [
    "channel_mask = water_mask_c.astype(bool) & ~ocean_mask.astype(bool)\n",
    "channel_mask = nd.binary_dilation(channel_mask, iterations=2).astype(bool)\n",
    "plt.imshow(channel_mask)"
   ]
  },
  {
   "cell_type": "code",
   "execution_count": 21,
   "metadata": {},
   "outputs": [],
   "source": [
    "polygonize_array_to_shapefile(channel_mask.astype(np.uint8), \n",
    "                              profile, tile_dir/f'channel_mask_{tile_name}', \n",
    "                              mask=~channel_mask)"
   ]
  },
  {
   "cell_type": "code",
   "execution_count": null,
   "metadata": {},
   "outputs": [],
   "source": []
  }
 ],
 "metadata": {
  "kernelspec": {
   "display_name": "centerlines",
   "language": "python",
   "name": "centerlines"
  },
  "language_info": {
   "codemirror_mode": {
    "name": "ipython",
    "version": 3
   },
   "file_extension": ".py",
   "mimetype": "text/x-python",
   "name": "python",
   "nbconvert_exporter": "python",
   "pygments_lexer": "ipython3",
   "version": "3.6.7"
  }
 },
 "nbformat": 4,
 "nbformat_minor": 2
}
