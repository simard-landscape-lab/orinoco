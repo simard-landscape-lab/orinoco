{
 "cells": [
  {
   "cell_type": "markdown",
   "metadata": {},
   "source": [
    "We use `notebooks/examples/1 - Make Channel Network` removing extraneous discussion and visualizations wherever possible. We also include a node attribute that uses the distance transform in a node's associated segment. This will be used to very roughly compare [RivGraph](https://github.com/jonschwenk/RivGraph/tree/master/rivgraph) and [ChanGeom](https://www.burchfisher.com/data.html)'s approach to measuring width."
   ]
  },
  {
   "cell_type": "code",
   "execution_count": 1,
   "metadata": {},
   "outputs": [],
   "source": [
    "import rasterio\n",
    "import matplotlib.pyplot as plt\n",
    "import numpy as np\n",
    "from pathlib import Path\n",
    "import networkx as nx\n",
    "from orinoco import (get_distance_in_channel,\n",
    "                     get_distance_segments,\n",
    "                     get_undirected_channel_network,\n",
    "                     direct_channel_network,\n",
    "                     export_edges_to_geodataframe,\n",
    "                     export_nodes_to_geodataframe,\n",
    "                     get_map_centroid_from_binary_mask,\n",
    "                     add_flow_attributes,\n",
    "                     split_tuple_pairs,\n",
    "                     get_segment_df,\n",
    "                     get_geo_width_df,\n",
    "                     update_graph_with_widths,\n",
    "                     get_width_features_from_segments,\n",
    "                     add_width_features_to_graph,\n",
    "                     get_array_from_features\n",
    "                     )\n",
    "from skimage.color import label2rgb\n",
    "import random\n",
    "import geopandas as gpd\n",
    "from shapely.geometry import Point\n",
    "from tqdm import tqdm"
   ]
  },
  {
   "cell_type": "markdown",
   "metadata": {},
   "source": [
    "# Initialize the Tile Directory"
   ]
  },
  {
   "cell_type": "code",
   "execution_count": 2,
   "metadata": {},
   "outputs": [
    {
     "data": {
      "text/plain": [
       "True"
      ]
     },
     "execution_count": 2,
     "metadata": {},
     "output_type": "execute_result"
    }
   ],
   "source": [
    "tile_name = 'NH15'\n",
    "\n",
    "tile_dir = Path(f'out/{tile_name}')\n",
    "tile_dir.exists()"
   ]
  },
  {
   "cell_type": "markdown",
   "metadata": {},
   "source": [
    "# Read Data from the Tile Directory"
   ]
  },
  {
   "cell_type": "code",
   "execution_count": 3,
   "metadata": {},
   "outputs": [],
   "source": [
    "with rasterio.open(tile_dir/f'water_mask_{tile_name}.tif') as ds:\n",
    "    water_mask = ds.read(1)\n",
    "with rasterio.open(tile_dir/f'ocean_mask_{tile_name}.tif') as ds:\n",
    "    ocean_mask = ds.read(1)\n",
    "    profile = ds.profile"
   ]
  },
  {
   "cell_type": "code",
   "execution_count": 4,
   "metadata": {},
   "outputs": [
    {
     "data": {
      "text/plain": [
       "<matplotlib.image.AxesImage at 0x7f8b304b26a0>"
      ]
     },
     "execution_count": 4,
     "metadata": {},
     "output_type": "execute_result"
    },
    {
     "data": {
      "image/png": "[encoded data removed]",
      "text/plain": [
       "<Figure size 432x288 with 1 Axes>"
      ]
     },
     "metadata": {
      "needs_background": "light"
     },
     "output_type": "display_data"
    }
   ],
   "source": [
    "plt.imshow(water_mask, interpolation='none')"
   ]
  },
  {
   "cell_type": "markdown",
   "metadata": {},
   "source": [
    "# Generate Orinoco Products\n",
    "\n",
    "## Obtaining the Distance Function"
   ]
  },
  {
   "cell_type": "code",
   "execution_count": 5,
   "metadata": {},
   "outputs": [
    {
     "data": {
      "text/plain": [
       "<matplotlib.image.AxesImage at 0x7f8b19352ef0>"
      ]
     },
     "execution_count": 5,
     "metadata": {},
     "output_type": "execute_result"
    },
    {
     "data": {
      "image/png": "[encoded data removed]",
      "text/plain": [
       "<Figure size 432x288 with 1 Axes>"
      ]
     },
     "metadata": {
      "needs_background": "light"
     },
     "output_type": "display_data"
    }
   ],
   "source": [
    "transform = profile['transform']\n",
    "dx, dy = transform.a, -transform.e\n",
    "dist = get_distance_in_channel(water_mask,\n",
    "                               ocean_mask,\n",
    "                               dx=dx,\n",
    "                               dy=dy,\n",
    "                               # removes areas with less than percentage of total size\n",
    "                               min_rel_area=0.0,\n",
    "                               # Applys a 1 pixel buffer for distance computation\n",
    "                               # for artifical 8-connectivity.\n",
    "                               # See: https://github.com/scikit-fmm/scikit-fmm/issues/32\n",
    "                               # Removes buffer after computation complete.\n",
    "                               # Only recommended for GRWL\n",
    "                               apply_mask_buffer=True\n",
    "                              )\n",
    "plt.imshow(dist, interpolation='none')"
   ]
  },
  {
   "cell_type": "markdown",
   "metadata": {},
   "source": [
    "Save the distance product."
   ]
  },
  {
   "cell_type": "code",
   "execution_count": 6,
   "metadata": {},
   "outputs": [],
   "source": [
    "p = profile.copy()\n",
    "p['dtype'] = 'float32'\n",
    "with rasterio.open(tile_dir/f'distance_{tile_name}.tif', 'w', **p) as ds:\n",
    "    ds.write(dist.astype(np.float32), 1)"
   ]
  },
  {
   "cell_type": "markdown",
   "metadata": {},
   "source": [
    "## Segmentation of the Channel"
   ]
  },
  {
   "cell_type": "code",
   "execution_count": 7,
   "metadata": {},
   "outputs": [
    {
     "name": "stderr",
     "output_type": "stream",
     "text": [
      "rag neighbors: 100%|██████████| 1745/1745 [00:00<00:00, 24512.57it/s]\n"
     ]
    }
   ],
   "source": [
    "pixel_step = 5\n",
    "segments, interface_adj_segments = get_distance_segments(dist,\n",
    "                                                         pixel_step,\n",
    "                                                         dx=dx,\n",
    "                                                         dy=dy,\n",
    "                                                         connectivity=8,\n",
    "                                                         min_size=4)"
   ]
  },
  {
   "cell_type": "code",
   "execution_count": 8,
   "metadata": {},
   "outputs": [
    {
     "data": {
      "text/plain": [
       "<matplotlib.image.AxesImage at 0x7f8ac0a531d0>"
      ]
     },
     "execution_count": 8,
     "metadata": {},
     "output_type": "execute_result"
    },
    {
     "data": {
      "image/png": "[encoded data removed]",
      "text/plain": [
       "<Figure size 432x288 with 1 Axes>"
      ]
     },
     "metadata": {
      "needs_background": "light"
     },
     "output_type": "display_data"
    }
   ],
   "source": [
    "segments_rgb = label2rgb(segments, bg_label=0)\n",
    "plt.imshow(segments_rgb, interpolation='none')"
   ]
  },
  {
   "cell_type": "markdown",
   "metadata": {},
   "source": [
    "We save both the `segments` and the `segments_rgb` to disk."
   ]
  },
  {
   "cell_type": "code",
   "execution_count": 9,
   "metadata": {},
   "outputs": [],
   "source": [
    "p = profile.copy()\n",
    "p['dtype'] = 'int32'\n",
    "with rasterio.open(tile_dir/f'segments_{tile_name}.tif', 'w', **p) as ds:\n",
    "    ds.write(segments.astype(np.int32), 1)\n",
    "\n",
    "p = profile.copy()\n",
    "p['dtype'] = 'float32'\n",
    "p['count'] = 3\n",
    "with rasterio.open(tile_dir/f'segments_rgb_{tile_name}.tif', 'w', **p) as ds:\n",
    "    ds.write(segments_rgb.transpose([2, 0, 1]).astype(np.float32))"
   ]
  },
  {
   "cell_type": "markdown",
   "metadata": {},
   "source": [
    "## Obtaining the Undirected Network"
   ]
  },
  {
   "cell_type": "code",
   "execution_count": 10,
   "metadata": {},
   "outputs": [
    {
     "name": "stderr",
     "output_type": "stream",
     "text": [
      "rag neighbors: 100%|██████████| 33070/33070 [00:01<00:00, 17214.74it/s]\n",
      "adding edges: 100%|██████████| 33069/33069 [00:00<00:00, 125469.43it/s]\n"
     ]
    }
   ],
   "source": [
    "chanG_undirected = get_undirected_channel_network(segments, \n",
    "                                                  dist, \n",
    "                                                  profile, \n",
    "                                                  interface_adj_segments,\n",
    "                                                  connectivity=8)"
   ]
  },
  {
   "cell_type": "code",
   "execution_count": 11,
   "metadata": {},
   "outputs": [
    {
     "data": {
      "text/plain": [
       "[((396100.0, 3541795.0),\n",
       "  {'label': 268,\n",
       "   'meters_to_interface': 364688.40625,\n",
       "   'x': 396100.0,\n",
       "   'y': 3541795.0,\n",
       "   'interface_adj': False})]"
      ]
     },
     "execution_count": 11,
     "metadata": {},
     "output_type": "execute_result"
    }
   ],
   "source": [
    "node_data = chanG_undirected.nodes(data=True)\n",
    "[(node, data) for (node, data) in node_data if data['label'] == 268]"
   ]
  },
  {
   "cell_type": "markdown",
   "metadata": {},
   "source": [
    "## Obtaining the Directed Network"
   ]
  },
  {
   "cell_type": "code",
   "execution_count": 12,
   "metadata": {},
   "outputs": [],
   "source": [
    "chanG = direct_channel_network(chanG_undirected, \n",
    "                               # The keywords below are how the pruning occurs\n",
    "                               # Specifies pruning will be done\n",
    "                               remove_dangling=True, \n",
    "                               # Do not prune nodes within 1 km of interface\n",
    "                               interface_buffer_m=1_000,     \n",
    "                               # Remove edge groups with an degree 1 endpoint and size <=3\n",
    "                               group_min_size=3,\n",
    "                               # How many times to do this pruning\n",
    "                               dangling_iterations=1\n",
    "                               )"
   ]
  },
  {
   "cell_type": "markdown",
   "metadata": {},
   "source": [
    "Let's do a quick sanity check."
   ]
  },
  {
   "cell_type": "code",
   "execution_count": 13,
   "metadata": {},
   "outputs": [
    {
     "data": {
      "text/plain": [
       "<matplotlib.axes._subplots.AxesSubplot at 0x7f8ac0f9d940>"
      ]
     },
     "execution_count": 13,
     "metadata": {},
     "output_type": "execute_result"
    },
    {
     "data": {
      "image/png": "[encoded data removed]",
      "text/plain": [
       "<Figure size 432x288 with 1 Axes>"
      ]
     },
     "metadata": {
      "needs_background": "light"
     },
     "output_type": "display_data"
    }
   ],
   "source": [
    "df_edges = export_edges_to_geodataframe(chanG, profile['crs'])\n",
    "df_edges.plot(column='segment_id', categorical=True)"
   ]
  },
  {
   "cell_type": "markdown",
   "metadata": {},
   "source": [
    "## Obtaining the Widths\n",
    "\n",
    "### Using the distance transform\n",
    "\n",
    "We are going to use the distance transform within a segment. We have a function that determines the width according to $2\\cdot d - 1$ where d is the distance to the land mask according to the distance transform in a small 1-pixel buffer around the segment (if this is 0, we use the full distance transform on the channel mask)."
   ]
  },
  {
   "cell_type": "code",
   "execution_count": 14,
   "metadata": {},
   "outputs": [
    {
     "data": {
      "text/plain": [
       "<matplotlib.colorbar.Colorbar at 0x7f8a716bf438>"
      ]
     },
     "execution_count": 14,
     "metadata": {},
     "output_type": "execute_result"
    },
    {
     "data": {
      "image/png": "[encoded data removed]",
      "text/plain": [
       "<Figure size 432x288 with 2 Axes>"
      ]
     },
     "metadata": {
      "needs_background": "light"
     },
     "output_type": "display_data"
    }
   ],
   "source": [
    "width_features = get_width_features_from_segments(segments, profile)\n",
    "widths = get_array_from_features(segments, width_features)\n",
    "plt.imshow(widths, interpolation='none')\n",
    "plt.colorbar()"
   ]
  },
  {
   "cell_type": "markdown",
   "metadata": {},
   "source": [
    "We now add these attributes to the graph."
   ]
  },
  {
   "cell_type": "code",
   "execution_count": 15,
   "metadata": {},
   "outputs": [
    {
     "data": {
      "text/plain": [
       "((607104.1304347826, 3461452.8260869565),\n",
       " {'label': 10955,\n",
       "  'meters_to_interface': 269648.61478186015,\n",
       "  'x': 607104.1304347826,\n",
       "  'y': 3461452.8260869565,\n",
       "  'interface_adj': False,\n",
       "  'graph_degree': 2,\n",
       "  'width_from_segment': 139.7056274847714})"
      ]
     },
     "execution_count": 15,
     "metadata": {},
     "output_type": "execute_result"
    }
   ],
   "source": [
    "chanG = add_width_features_to_graph(chanG, width_features.ravel())\n",
    "node_data =dict(chanG.nodes(data=True))\n",
    "random.choice(list(node_data.items()))"
   ]
  },
  {
   "cell_type": "markdown",
   "metadata": {},
   "source": [
    "### Using $\\nabla \\varphi$\n",
    "\n",
    "We compute width using the gradient of the distance function (and possibly the network structure). First we obtain the orientation of along wich to obtain these measured widths (perpendicular to the artificial flow)."
   ]
  },
  {
   "cell_type": "code",
   "execution_count": 16,
   "metadata": {},
   "outputs": [
    {
     "name": "stderr",
     "output_type": "stream",
     "text": [
      "flow vector computation using gradient: 100%|██████████| 31377/31377 [00:00<00:00, 63232.66it/s]\n",
      "flow vector computation using network: 100%|██████████| 31377/31377 [00:02<00:00, 11006.29it/s]\n"
     ]
    }
   ],
   "source": [
    "chanG = add_flow_attributes(chanG, dist, profile['transform'])"
   ]
  },
  {
   "cell_type": "markdown",
   "metadata": {},
   "source": [
    "To perform intersection, we must extract the polygons of the segments. This takes a bit of time to polygonize the segments, so be patient."
   ]
  },
  {
   "cell_type": "code",
   "execution_count": 17,
   "metadata": {},
   "outputs": [
    {
     "name": "stdout",
     "output_type": "stream",
     "text": [
      "CPU times: user 30.5 s, sys: 1.31 s, total: 31.8 s\n",
      "Wall time: 31.7 s\n"
     ]
    },
    {
     "data": {
      "text/html": [
       "<div>\n",
       "<style scoped>\n",
       "    .dataframe tbody tr th:only-of-type {\n",
       "        vertical-align: middle;\n",
       "    }\n",
       "\n",
       "    .dataframe tbody tr th {\n",
       "        vertical-align: top;\n",
       "    }\n",
       "\n",
       "    .dataframe thead th {\n",
       "        text-align: right;\n",
       "    }\n",
       "</style>\n",
       "<table border=\"1\" class=\"dataframe\">\n",
       "  <thead>\n",
       "    <tr style=\"text-align: right;\">\n",
       "      <th></th>\n",
       "      <th>label</th>\n",
       "      <th>geometry</th>\n",
       "      <th>perimeter</th>\n",
       "      <th>node</th>\n",
       "      <th>flow_vector_perp</th>\n",
       "    </tr>\n",
       "  </thead>\n",
       "  <tbody>\n",
       "    <tr>\n",
       "      <td>0</td>\n",
       "      <td>1</td>\n",
       "      <td>POLYGON ((391245 3544455, 391245 3544335, 3912...</td>\n",
       "      <td>360.0</td>\n",
       "      <td>(391257.85714285716, 3544416.4285714286)</td>\n",
       "      <td>(0.8796713683883118, -0.4755820472198621)</td>\n",
       "    </tr>\n",
       "    <tr>\n",
       "      <td>1</td>\n",
       "      <td>2</td>\n",
       "      <td>POLYGON ((465375 3544455, 465375 3544425, 4654...</td>\n",
       "      <td>720.0</td>\n",
       "      <td>(465490.0, 3544420.0)</td>\n",
       "      <td>(-0.88743865, -0.46092585)</td>\n",
       "    </tr>\n",
       "    <tr>\n",
       "      <td>2</td>\n",
       "      <td>3</td>\n",
       "      <td>POLYGON ((592365 3544455, 592365 3544425, 5923...</td>\n",
       "      <td>780.0</td>\n",
       "      <td>(592450.3846153846, 3544380.0)</td>\n",
       "      <td>(-0.5367394, -0.8437481)</td>\n",
       "    </tr>\n",
       "    <tr>\n",
       "      <td>3</td>\n",
       "      <td>4</td>\n",
       "      <td>POLYGON ((594735 3544455, 594735 3544425, 5947...</td>\n",
       "      <td>780.0</td>\n",
       "      <td>(594633.9473684211, 3544368.1578947366)</td>\n",
       "      <td>(0.27024899404439173, -0.9627904658948355)</td>\n",
       "    </tr>\n",
       "    <tr>\n",
       "      <td>4</td>\n",
       "      <td>5</td>\n",
       "      <td>POLYGON ((594765 3544455, 594765 3544425, 5947...</td>\n",
       "      <td>780.0</td>\n",
       "      <td>(594810.7142857143, 3544400.714285714)</td>\n",
       "      <td>(-0.15792433984332827, -0.9874512154456285)</td>\n",
       "    </tr>\n",
       "  </tbody>\n",
       "</table>\n",
       "</div>"
      ],
      "text/plain": [
       "   label                                           geometry  perimeter  \\\n",
       "0      1  POLYGON ((391245 3544455, 391245 3544335, 3912...      360.0   \n",
       "1      2  POLYGON ((465375 3544455, 465375 3544425, 4654...      720.0   \n",
       "2      3  POLYGON ((592365 3544455, 592365 3544425, 5923...      780.0   \n",
       "3      4  POLYGON ((594735 3544455, 594735 3544425, 5947...      780.0   \n",
       "4      5  POLYGON ((594765 3544455, 594765 3544425, 5947...      780.0   \n",
       "\n",
       "                                       node  \\\n",
       "0  (391257.85714285716, 3544416.4285714286)   \n",
       "1                     (465490.0, 3544420.0)   \n",
       "2            (592450.3846153846, 3544380.0)   \n",
       "3   (594633.9473684211, 3544368.1578947366)   \n",
       "4    (594810.7142857143, 3544400.714285714)   \n",
       "\n",
       "                              flow_vector_perp  \n",
       "0    (0.8796713683883118, -0.4755820472198621)  \n",
       "1                   (-0.88743865, -0.46092585)  \n",
       "2                     (-0.5367394, -0.8437481)  \n",
       "3   (0.27024899404439173, -0.9627904658948355)  \n",
       "4  (-0.15792433984332827, -0.9874512154456285)  "
      ]
     },
     "execution_count": 17,
     "metadata": {},
     "output_type": "execute_result"
    }
   ],
   "source": [
    "%%time\n",
    "\n",
    "df_segments = get_segment_df(segments, chanG, profile, connectivity=8)\n",
    "df_segments.head()"
   ]
  },
  {
   "cell_type": "markdown",
   "metadata": {},
   "source": [
    "We will save the geometries to a file for later inspection."
   ]
  },
  {
   "cell_type": "code",
   "execution_count": 18,
   "metadata": {},
   "outputs": [
    {
     "name": "stderr",
     "output_type": "stream",
     "text": [
      "/Users/cmarshak/anaconda3/lib/python3.7/site-packages/geopandas/io/file.py:108: FionaDeprecationWarning: Use fiona.Env() instead.\n",
      "  with fiona.drivers():\n"
     ]
    }
   ],
   "source": [
    "df_segments_out = split_tuple_pairs(df_segments)\n",
    "df_segments_out.to_file(tile_dir/'segments.geojson', \n",
    "                        driver='GeoJSON')"
   ]
  },
  {
   "cell_type": "markdown",
   "metadata": {},
   "source": [
    "Now we extract the widths are associated geometry. This is the most expensive computation in the notebook, so be very patient. Could take 5 minutes or so."
   ]
  },
  {
   "cell_type": "code",
   "execution_count": 19,
   "metadata": {},
   "outputs": [
    {
     "name": "stdout",
     "output_type": "stream",
     "text": [
      "CPU times: user 2min 27s, sys: 515 ms, total: 2min 27s\n",
      "Wall time: 2min 27s\n"
     ]
    },
    {
     "data": {
      "text/html": [
       "<div>\n",
       "<style scoped>\n",
       "    .dataframe tbody tr th:only-of-type {\n",
       "        vertical-align: middle;\n",
       "    }\n",
       "\n",
       "    .dataframe tbody tr th {\n",
       "        vertical-align: top;\n",
       "    }\n",
       "\n",
       "    .dataframe thead th {\n",
       "        text-align: right;\n",
       "    }\n",
       "</style>\n",
       "<table border=\"1\" class=\"dataframe\">\n",
       "  <thead>\n",
       "    <tr style=\"text-align: right;\">\n",
       "      <th></th>\n",
       "      <th>label</th>\n",
       "      <th>node</th>\n",
       "      <th>geometry</th>\n",
       "      <th>width_m</th>\n",
       "    </tr>\n",
       "  </thead>\n",
       "  <tbody>\n",
       "    <tr>\n",
       "      <td>0</td>\n",
       "      <td>1</td>\n",
       "      <td>(391257.85714285716, 3544416.4285714286)</td>\n",
       "      <td>LINESTRING (391305.000000001 3544390.941443715...</td>\n",
       "      <td>68.207290</td>\n",
       "    </tr>\n",
       "    <tr>\n",
       "      <td>1</td>\n",
       "      <td>2</td>\n",
       "      <td>(465490.0, 3544420.0)</td>\n",
       "      <td>LINESTRING (465434.999999999 3544391.433606749...</td>\n",
       "      <td>137.910238</td>\n",
       "    </tr>\n",
       "    <tr>\n",
       "      <td>2</td>\n",
       "      <td>3</td>\n",
       "      <td>(592450.3846153846, 3544380.0)</td>\n",
       "      <td>LINESTRING (592424.999999999 3544340.095680592...</td>\n",
       "      <td>136.183207</td>\n",
       "    </tr>\n",
       "    <tr>\n",
       "      <td>3</td>\n",
       "      <td>4</td>\n",
       "      <td>(594633.9473684211, 3544368.1578947366)</td>\n",
       "      <td>LINESTRING (594651.6753768751 3544304.99999999...</td>\n",
       "      <td>93.478283</td>\n",
       "    </tr>\n",
       "    <tr>\n",
       "      <td>4</td>\n",
       "      <td>5</td>\n",
       "      <td>(594810.7142857143, 3544400.714285714)</td>\n",
       "      <td>LINESTRING (594800.2045156846 3544334.99999999...</td>\n",
       "      <td>91.143743</td>\n",
       "    </tr>\n",
       "  </tbody>\n",
       "</table>\n",
       "</div>"
      ],
      "text/plain": [
       "   label                                      node  \\\n",
       "0      1  (391257.85714285716, 3544416.4285714286)   \n",
       "1      2                     (465490.0, 3544420.0)   \n",
       "2      3            (592450.3846153846, 3544380.0)   \n",
       "3      4   (594633.9473684211, 3544368.1578947366)   \n",
       "4      5    (594810.7142857143, 3544400.714285714)   \n",
       "\n",
       "                                            geometry     width_m  \n",
       "0  LINESTRING (391305.000000001 3544390.941443715...   68.207290  \n",
       "1  LINESTRING (465434.999999999 3544391.433606749...  137.910238  \n",
       "2  LINESTRING (592424.999999999 3544340.095680592...  136.183207  \n",
       "3  LINESTRING (594651.6753768751 3544304.99999999...   93.478283  \n",
       "4  LINESTRING (594800.2045156846 3544334.99999999...   91.143743  "
      ]
     },
     "execution_count": 19,
     "metadata": {},
     "output_type": "execute_result"
    }
   ],
   "source": [
    "%%time\n",
    "\n",
    "df_geo_widths = get_geo_width_df(df_segments, chanG, radius=1)\n",
    "df_geo_widths.head()"
   ]
  },
  {
   "cell_type": "markdown",
   "metadata": {},
   "source": [
    "Let's save the widths again for later inspection."
   ]
  },
  {
   "cell_type": "code",
   "execution_count": 20,
   "metadata": {},
   "outputs": [],
   "source": [
    "df_geo_widths_out = split_tuple_pairs(df_geo_widths)\n",
    "df_geo_widths_out = df_geo_widths_out[~df_geo_widths_out.geometry.is_empty]\n",
    "df_geo_widths_out.to_file(tile_dir/'width_geometries.geojson', \n",
    "                          driver='GeoJSON')"
   ]
  },
  {
   "cell_type": "markdown",
   "metadata": {},
   "source": [
    "We update the node attributes. And we see all of the attributes we have added."
   ]
  },
  {
   "cell_type": "code",
   "execution_count": 21,
   "metadata": {},
   "outputs": [
    {
     "data": {
      "text/plain": [
       "31377"
      ]
     },
     "execution_count": 21,
     "metadata": {},
     "output_type": "execute_result"
    }
   ],
   "source": [
    "len(chanG)"
   ]
  },
  {
   "cell_type": "code",
   "execution_count": 22,
   "metadata": {},
   "outputs": [
    {
     "data": {
      "text/plain": [
       "((560237.7272727273, 3507669.5454545454),\n",
       " {'label': 4500,\n",
       "  'meters_to_interface': 467995.1620679836,\n",
       "  'x': 560237.7272727273,\n",
       "  'y': 3507669.5454545454,\n",
       "  'interface_adj': False,\n",
       "  'graph_degree': 2,\n",
       "  'width_from_segment': 30.0,\n",
       "  'flow_vector_perp_grad': None,\n",
       "  'flow_vector_network': (-0.9972743380388851, 0.0737827533310022),\n",
       "  'flow_vector_perp_network': (-0.0737827533310022, -0.9972743380388851),\n",
       "  'flow_vector_perp': (-0.0737827533310022, -0.9972743380388851),\n",
       "  'width_m': 30.081993346840136})"
      ]
     },
     "execution_count": 22,
     "metadata": {},
     "output_type": "execute_result"
    }
   ],
   "source": [
    "chanG = update_graph_with_widths(chanG, df_geo_widths)\n",
    "\n",
    "node_data =dict(chanG.nodes(data=True))\n",
    "random.choice(list(node_data.items()))"
   ]
  },
  {
   "cell_type": "markdown",
   "metadata": {},
   "source": [
    "# Save Network\n",
    "\n",
    "We now save the nodes and edges to `geojson` files and serialize the NetworkX `DiGraph` with `pickle`."
   ]
  },
  {
   "cell_type": "code",
   "execution_count": 23,
   "metadata": {},
   "outputs": [],
   "source": [
    "df_nodes = export_nodes_to_geodataframe(chanG, profile['crs'])\n",
    "df_nodes = split_tuple_pairs(df_nodes)\n",
    "df_edges = export_edges_to_geodataframe(chanG, profile['crs'])"
   ]
  },
  {
   "cell_type": "code",
   "execution_count": 24,
   "metadata": {},
   "outputs": [],
   "source": [
    "df_edges.to_file(tile_dir/f'{tile_name}_edges.geojson', driver='GeoJSON')\n",
    "df_nodes.drop(columns=['interface_adj']).to_file(tile_dir/f'{tile_name}_nodes.geojson', driver='GeoJSON')\n",
    "nx.write_gpickle(chanG, tile_dir/f'{tile_name}_network.pkl')"
   ]
  }
 ],
 "metadata": {
  "kernelspec": {
   "display_name": "Python 3",
   "language": "python",
   "name": "python3"
  },
  "language_info": {
   "codemirror_mode": {
    "name": "ipython",
    "version": 3
   },
   "file_extension": ".py",
   "mimetype": "text/x-python",
   "name": "python",
   "nbconvert_exporter": "python",
   "pygments_lexer": "ipython3",
   "version": "3.7.3"
  }
 },
 "nbformat": 4,
 "nbformat_minor": 2
}
